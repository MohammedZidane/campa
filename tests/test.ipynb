{
 "cells": [
  {
   "cell_type": "code",
   "execution_count": 1,
   "metadata": {},
   "outputs": [
    {
     "name": "stdout",
     "output_type": "stream",
     "text": [
      "Reading config from /Users/hannah.spitzer/projects/pelkmans/software_new/campa/config.ini\n"
     ]
    }
   ],
   "source": [
    "from campa.tl import Predictor, Experiment"
   ]
  },
  {
   "cell_type": "code",
   "execution_count": 2,
   "metadata": {},
   "outputs": [],
   "source": [
    "exp = Experiment.from_dir(\"VAE_all/CondVAE_pert-CC\")"
   ]
  },
  {
   "cell_type": "code",
   "execution_count": 3,
   "metadata": {},
   "outputs": [
    {
     "name": "stderr",
     "output_type": "stream",
     "text": [
      "2022-03-18 14:44:03.592793: I tensorflow/core/platform/cpu_feature_guard.cc:151] This TensorFlow binary is optimized with oneAPI Deep Neural Network Library (oneDNN) to use the following CPU instructions in performance-critical operations:  AVX2 FMA\n",
      "To enable them in other operations, rebuild TensorFlow with the appropriate compiler flags.\n"
     ]
    }
   ],
   "source": [
    "pred = Predictor(exp)"
   ]
  },
  {
   "cell_type": "code",
   "execution_count": 28,
   "metadata": {},
   "outputs": [
    {
     "ename": "TypeError",
     "evalue": "get_split_mpp_data() takes 1 positional argument but 2 were given",
     "output_type": "error",
     "traceback": [
      "\u001b[0;31m---------------------------------------------------------------------------\u001b[0m",
      "\u001b[0;31mTypeError\u001b[0m                                 Traceback (most recent call last)",
      "\u001b[1;32m/Users/hannah.spitzer/projects/pelkmans/software_new/campa/tests/test.ipynb Cell 4'\u001b[0m in \u001b[0;36m<cell line: 1>\u001b[0;34m()\u001b[0m\n\u001b[0;32m----> <a href='vscode-notebook-cell:/Users/hannah.spitzer/projects/pelkmans/software_new/campa/tests/test.ipynb#ch0000003?line=0'>1</a>\u001b[0m mpp_data \u001b[39m=\u001b[39m exp\u001b[39m.\u001b[39;49mget_split_mpp_data(\u001b[39m\"\u001b[39;49m\u001b[39mtest\u001b[39;49m\u001b[39m\"\u001b[39;49m)\n",
      "\u001b[0;31mTypeError\u001b[0m: get_split_mpp_data() takes 1 positional argument but 2 were given"
     ]
    }
   ],
   "source": [
    "mpp_data = exp.get_split_mpp_data()"
   ]
  },
  {
   "cell_type": "code",
   "execution_count": 30,
   "metadata": {},
   "outputs": [],
   "source": [
    "ds = pred.est.ds.data[\"val\"]"
   ]
  },
  {
   "cell_type": "code",
   "execution_count": 31,
   "metadata": {},
   "outputs": [],
   "source": [
    "latent = pred.get_representation(ds, \"latent\")"
   ]
  },
  {
   "cell_type": "code",
   "execution_count": 38,
   "metadata": {},
   "outputs": [
    {
     "name": "stdout",
     "output_type": "stream",
     "text": [
      "\u001b[0;31mSignature:\u001b[0m \u001b[0mnp\u001b[0m\u001b[0;34m.\u001b[0m\u001b[0misclose\u001b[0m\u001b[0;34m(\u001b[0m\u001b[0ma\u001b[0m\u001b[0;34m,\u001b[0m \u001b[0mb\u001b[0m\u001b[0;34m,\u001b[0m \u001b[0mrtol\u001b[0m\u001b[0;34m=\u001b[0m\u001b[0;36m1e-05\u001b[0m\u001b[0;34m,\u001b[0m \u001b[0matol\u001b[0m\u001b[0;34m=\u001b[0m\u001b[0;36m1e-08\u001b[0m\u001b[0;34m,\u001b[0m \u001b[0mequal_nan\u001b[0m\u001b[0;34m=\u001b[0m\u001b[0;32mFalse\u001b[0m\u001b[0;34m)\u001b[0m\u001b[0;34m\u001b[0m\u001b[0;34m\u001b[0m\u001b[0m\n",
      "\u001b[0;31mDocstring:\u001b[0m\n",
      "Returns a boolean array where two arrays are element-wise equal within a\n",
      "tolerance.\n",
      "\n",
      "The tolerance values are positive, typically very small numbers.  The\n",
      "relative difference (`rtol` * abs(`b`)) and the absolute difference\n",
      "`atol` are added together to compare against the absolute difference\n",
      "between `a` and `b`.\n",
      "\n",
      ".. warning:: The default `atol` is not appropriate for comparing numbers\n",
      "             that are much smaller than one (see Notes).\n",
      "\n",
      "Parameters\n",
      "----------\n",
      "a, b : array_like\n",
      "    Input arrays to compare.\n",
      "rtol : float\n",
      "    The relative tolerance parameter (see Notes).\n",
      "atol : float\n",
      "    The absolute tolerance parameter (see Notes).\n",
      "equal_nan : bool\n",
      "    Whether to compare NaN's as equal.  If True, NaN's in `a` will be\n",
      "    considered equal to NaN's in `b` in the output array.\n",
      "\n",
      "Returns\n",
      "-------\n",
      "y : array_like\n",
      "    Returns a boolean array of where `a` and `b` are equal within the\n",
      "    given tolerance. If both `a` and `b` are scalars, returns a single\n",
      "    boolean value.\n",
      "\n",
      "See Also\n",
      "--------\n",
      "allclose\n",
      "math.isclose\n",
      "\n",
      "Notes\n",
      "-----\n",
      ".. versionadded:: 1.7.0\n",
      "\n",
      "For finite values, isclose uses the following equation to test whether\n",
      "two floating point values are equivalent.\n",
      "\n",
      " absolute(`a` - `b`) <= (`atol` + `rtol` * absolute(`b`))\n",
      "\n",
      "Unlike the built-in `math.isclose`, the above equation is not symmetric\n",
      "in `a` and `b` -- it assumes `b` is the reference value -- so that\n",
      "`isclose(a, b)` might be different from `isclose(b, a)`. Furthermore,\n",
      "the default value of atol is not zero, and is used to determine what\n",
      "small values should be considered close to zero. The default value is\n",
      "appropriate for expected values of order unity: if the expected values\n",
      "are significantly smaller than one, it can result in false positives.\n",
      "`atol` should be carefully selected for the use case at hand. A zero value\n",
      "for `atol` will result in `False` if either `a` or `b` is zero.\n",
      "\n",
      "`isclose` is not defined for non-numeric data types.\n",
      "\n",
      "Examples\n",
      "--------\n",
      ">>> np.isclose([1e10,1e-7], [1.00001e10,1e-8])\n",
      "array([ True, False])\n",
      ">>> np.isclose([1e10,1e-8], [1.00001e10,1e-9])\n",
      "array([ True, True])\n",
      ">>> np.isclose([1e10,1e-8], [1.0001e10,1e-9])\n",
      "array([False,  True])\n",
      ">>> np.isclose([1.0, np.nan], [1.0, np.nan])\n",
      "array([ True, False])\n",
      ">>> np.isclose([1.0, np.nan], [1.0, np.nan], equal_nan=True)\n",
      "array([ True, True])\n",
      ">>> np.isclose([1e-8, 1e-7], [0.0, 0.0])\n",
      "array([ True, False])\n",
      ">>> np.isclose([1e-100, 1e-7], [0.0, 0.0], atol=0.0)\n",
      "array([False, False])\n",
      ">>> np.isclose([1e-10, 1e-10], [1e-20, 0.0])\n",
      "array([ True,  True])\n",
      ">>> np.isclose([1e-10, 1e-10], [1e-20, 0.999999e-10], atol=0.0)\n",
      "array([False,  True])\n",
      "\u001b[0;31mFile:\u001b[0m      ~/opt/miniconda3/envs/campa/lib/python3.9/site-packages/numpy/core/numeric.py\n",
      "\u001b[0;31mType:\u001b[0m      function\n"
     ]
    }
   ],
   "source": [
    "np.isclose?"
   ]
  },
  {
   "cell_type": "code",
   "execution_count": 41,
   "metadata": {},
   "outputs": [
    {
     "data": {
      "text/plain": [
       "False"
      ]
     },
     "execution_count": 41,
     "metadata": {},
     "output_type": "execute_result"
    }
   ],
   "source": [
    "import numpy as np\n",
    "\n",
    "np.isclose(np.array(mpp_data.latent), latent, atol=0.01).all()"
   ]
  },
  {
   "cell_type": "code",
   "execution_count": 43,
   "metadata": {},
   "outputs": [
    {
     "data": {
      "text/plain": [
       "-3.5015934"
      ]
     },
     "execution_count": 43,
     "metadata": {},
     "output_type": "execute_result"
    }
   ],
   "source": [
    "mpp_data.latent.min()"
   ]
  },
  {
   "cell_type": "code",
   "execution_count": 32,
   "metadata": {},
   "outputs": [
    {
     "data": {
      "text/plain": [
       "array([[ 0.08230476,  0.03405986, -0.03370409, ..., -0.13386819,\n",
       "         0.14670466,  0.02206004],\n",
       "       [ 0.18685709, -0.08884764,  0.040094  , ..., -0.22907335,\n",
       "         0.04545762, -0.01104362],\n",
       "       [ 0.11081354, -0.04168965,  0.03240132, ..., -0.14283067,\n",
       "         0.07882902,  0.06854092],\n",
       "       ...,\n",
       "       [-0.01774315, -0.11443028,  0.04043316, ..., -0.11801969,\n",
       "        -0.09242654,  0.09412137],\n",
       "       [-0.01418432, -0.10358601,  0.02650734, ..., -0.19657335,\n",
       "        -0.05734085,  0.0349766 ],\n",
       "       [-0.33945066, -0.10766781, -0.02303795, ..., -0.21242733,\n",
       "        -0.18468967,  0.06068102]], dtype=float32)"
      ]
     },
     "execution_count": 32,
     "metadata": {},
     "output_type": "execute_result"
    }
   ],
   "source": [
    "latent"
   ]
  },
  {
   "cell_type": "code",
   "execution_count": 11,
   "metadata": {},
   "outputs": [
    {
     "ename": "ValueError",
     "evalue": "in user code:\n\n    File \"/Users/hannah.spitzer/opt/miniconda3/envs/campa/lib/python3.9/site-packages/keras/engine/training.py\", line 1801, in predict_function  *\n        return step_function(self, iterator)\n    File \"/Users/hannah.spitzer/opt/miniconda3/envs/campa/lib/python3.9/site-packages/keras/engine/training.py\", line 1790, in step_function  **\n        outputs = model.distribute_strategy.run(run_step, args=(data,))\n    File \"/Users/hannah.spitzer/opt/miniconda3/envs/campa/lib/python3.9/site-packages/keras/engine/training.py\", line 1783, in run_step  **\n        outputs = model.predict_step(data)\n    File \"/Users/hannah.spitzer/opt/miniconda3/envs/campa/lib/python3.9/site-packages/keras/engine/training.py\", line 1751, in predict_step\n        return self(x, training=False)\n    File \"/Users/hannah.spitzer/opt/miniconda3/envs/campa/lib/python3.9/site-packages/keras/utils/traceback_utils.py\", line 67, in error_handler\n        raise e.with_traceback(filtered_tb) from None\n    File \"/Users/hannah.spitzer/opt/miniconda3/envs/campa/lib/python3.9/site-packages/keras/engine/input_spec.py\", line 200, in assert_input_compatibility\n        raise ValueError(f'Layer \"{layer_name}\" expects {len(input_spec)} input(s),'\n\n    ValueError: Layer \"VAEModel\" expects 2 input(s), but it received 1 input tensors. Inputs received: [<tf.Tensor 'IteratorGetNext:0' shape=(None, 3, 3, 34) dtype=float32>]\n",
     "output_type": "error",
     "traceback": [
      "\u001b[0;31m---------------------------------------------------------------------------\u001b[0m",
      "\u001b[0;31mValueError\u001b[0m                                Traceback (most recent call last)",
      "\u001b[1;32m/Users/hannah.spitzer/projects/pelkmans/software_new/campa/tests/test.ipynb Cell 7'\u001b[0m in \u001b[0;36m<cell line: 1>\u001b[0;34m()\u001b[0m\n\u001b[0;32m----> <a href='vscode-notebook-cell:/Users/hannah.spitzer/projects/pelkmans/software_new/campa/tests/test.ipynb#ch0000005?line=0'>1</a>\u001b[0m res \u001b[39m=\u001b[39m pred\u001b[39m.\u001b[39;49mest\u001b[39m.\u001b[39;49mpredict_model(mpp_data\u001b[39m.\u001b[39;49mmpp, batch_size\u001b[39m=\u001b[39;49m\u001b[39m10\u001b[39;49m)\n",
      "File \u001b[0;32m~/projects/pelkmans/software_new/campa/campa/tl/_estimator.py:219\u001b[0m, in \u001b[0;36mEstimator.predict_model\u001b[0;34m(self, data, batch_size)\u001b[0m\n\u001b[1;32m    <a href='file:///Users/hannah.spitzer/projects/pelkmans/software_new/campa/campa/tl/_estimator.py?line=215'>216</a>\u001b[0m \u001b[39melif\u001b[39;00m batch_size \u001b[39mis\u001b[39;00m \u001b[39mNone\u001b[39;00m:\n\u001b[1;32m    <a href='file:///Users/hannah.spitzer/projects/pelkmans/software_new/campa/campa/tl/_estimator.py?line=216'>217</a>\u001b[0m     batch_size \u001b[39m=\u001b[39m \u001b[39mself\u001b[39m\u001b[39m.\u001b[39mconfig[\u001b[39m\"\u001b[39m\u001b[39mtraining\u001b[39m\u001b[39m\"\u001b[39m][\u001b[39m\"\u001b[39m\u001b[39mbatch_size\u001b[39m\u001b[39m\"\u001b[39m]\n\u001b[0;32m--> <a href='file:///Users/hannah.spitzer/projects/pelkmans/software_new/campa/campa/tl/_estimator.py?line=218'>219</a>\u001b[0m pred \u001b[39m=\u001b[39m \u001b[39mself\u001b[39;49m\u001b[39m.\u001b[39;49mmodel\u001b[39m.\u001b[39;49mmodel\u001b[39m.\u001b[39;49mpredict(data, batch_size\u001b[39m=\u001b[39;49mbatch_size)\n\u001b[1;32m    <a href='file:///Users/hannah.spitzer/projects/pelkmans/software_new/campa/campa/tl/_estimator.py?line=219'>220</a>\u001b[0m \u001b[39mif\u001b[39;00m \u001b[39misinstance\u001b[39m(pred, \u001b[39mlist\u001b[39m):\n\u001b[1;32m    <a href='file:///Users/hannah.spitzer/projects/pelkmans/software_new/campa/campa/tl/_estimator.py?line=220'>221</a>\u001b[0m     \u001b[39m# multiple output model, but only care about first output\u001b[39;00m\n\u001b[1;32m    <a href='file:///Users/hannah.spitzer/projects/pelkmans/software_new/campa/campa/tl/_estimator.py?line=221'>222</a>\u001b[0m     pred \u001b[39m=\u001b[39m pred[\u001b[39m0\u001b[39m]\n",
      "File \u001b[0;32m~/opt/miniconda3/envs/campa/lib/python3.9/site-packages/keras/utils/traceback_utils.py:67\u001b[0m, in \u001b[0;36mfilter_traceback.<locals>.error_handler\u001b[0;34m(*args, **kwargs)\u001b[0m\n\u001b[1;32m     <a href='file:///Users/hannah.spitzer/opt/miniconda3/envs/campa/lib/python3.9/site-packages/keras/utils/traceback_utils.py?line=64'>65</a>\u001b[0m \u001b[39mexcept\u001b[39;00m \u001b[39mException\u001b[39;00m \u001b[39mas\u001b[39;00m e:  \u001b[39m# pylint: disable=broad-except\u001b[39;00m\n\u001b[1;32m     <a href='file:///Users/hannah.spitzer/opt/miniconda3/envs/campa/lib/python3.9/site-packages/keras/utils/traceback_utils.py?line=65'>66</a>\u001b[0m   filtered_tb \u001b[39m=\u001b[39m _process_traceback_frames(e\u001b[39m.\u001b[39m__traceback__)\n\u001b[0;32m---> <a href='file:///Users/hannah.spitzer/opt/miniconda3/envs/campa/lib/python3.9/site-packages/keras/utils/traceback_utils.py?line=66'>67</a>\u001b[0m   \u001b[39mraise\u001b[39;00m e\u001b[39m.\u001b[39mwith_traceback(filtered_tb) \u001b[39mfrom\u001b[39;00m \u001b[39mNone\u001b[39m\n\u001b[1;32m     <a href='file:///Users/hannah.spitzer/opt/miniconda3/envs/campa/lib/python3.9/site-packages/keras/utils/traceback_utils.py?line=67'>68</a>\u001b[0m \u001b[39mfinally\u001b[39;00m:\n\u001b[1;32m     <a href='file:///Users/hannah.spitzer/opt/miniconda3/envs/campa/lib/python3.9/site-packages/keras/utils/traceback_utils.py?line=68'>69</a>\u001b[0m   \u001b[39mdel\u001b[39;00m filtered_tb\n",
      "File \u001b[0;32m~/opt/miniconda3/envs/campa/lib/python3.9/site-packages/tensorflow/python/framework/func_graph.py:1147\u001b[0m, in \u001b[0;36mfunc_graph_from_py_func.<locals>.autograph_handler\u001b[0;34m(*args, **kwargs)\u001b[0m\n\u001b[1;32m   <a href='file:///Users/hannah.spitzer/opt/miniconda3/envs/campa/lib/python3.9/site-packages/tensorflow/python/framework/func_graph.py?line=1144'>1145</a>\u001b[0m \u001b[39mexcept\u001b[39;00m \u001b[39mException\u001b[39;00m \u001b[39mas\u001b[39;00m e:  \u001b[39m# pylint:disable=broad-except\u001b[39;00m\n\u001b[1;32m   <a href='file:///Users/hannah.spitzer/opt/miniconda3/envs/campa/lib/python3.9/site-packages/tensorflow/python/framework/func_graph.py?line=1145'>1146</a>\u001b[0m   \u001b[39mif\u001b[39;00m \u001b[39mhasattr\u001b[39m(e, \u001b[39m\"\u001b[39m\u001b[39mag_error_metadata\u001b[39m\u001b[39m\"\u001b[39m):\n\u001b[0;32m-> <a href='file:///Users/hannah.spitzer/opt/miniconda3/envs/campa/lib/python3.9/site-packages/tensorflow/python/framework/func_graph.py?line=1146'>1147</a>\u001b[0m     \u001b[39mraise\u001b[39;00m e\u001b[39m.\u001b[39mag_error_metadata\u001b[39m.\u001b[39mto_exception(e)\n\u001b[1;32m   <a href='file:///Users/hannah.spitzer/opt/miniconda3/envs/campa/lib/python3.9/site-packages/tensorflow/python/framework/func_graph.py?line=1147'>1148</a>\u001b[0m   \u001b[39melse\u001b[39;00m:\n\u001b[1;32m   <a href='file:///Users/hannah.spitzer/opt/miniconda3/envs/campa/lib/python3.9/site-packages/tensorflow/python/framework/func_graph.py?line=1148'>1149</a>\u001b[0m     \u001b[39mraise\u001b[39;00m\n",
      "\u001b[0;31mValueError\u001b[0m: in user code:\n\n    File \"/Users/hannah.spitzer/opt/miniconda3/envs/campa/lib/python3.9/site-packages/keras/engine/training.py\", line 1801, in predict_function  *\n        return step_function(self, iterator)\n    File \"/Users/hannah.spitzer/opt/miniconda3/envs/campa/lib/python3.9/site-packages/keras/engine/training.py\", line 1790, in step_function  **\n        outputs = model.distribute_strategy.run(run_step, args=(data,))\n    File \"/Users/hannah.spitzer/opt/miniconda3/envs/campa/lib/python3.9/site-packages/keras/engine/training.py\", line 1783, in run_step  **\n        outputs = model.predict_step(data)\n    File \"/Users/hannah.spitzer/opt/miniconda3/envs/campa/lib/python3.9/site-packages/keras/engine/training.py\", line 1751, in predict_step\n        return self(x, training=False)\n    File \"/Users/hannah.spitzer/opt/miniconda3/envs/campa/lib/python3.9/site-packages/keras/utils/traceback_utils.py\", line 67, in error_handler\n        raise e.with_traceback(filtered_tb) from None\n    File \"/Users/hannah.spitzer/opt/miniconda3/envs/campa/lib/python3.9/site-packages/keras/engine/input_spec.py\", line 200, in assert_input_compatibility\n        raise ValueError(f'Layer \"{layer_name}\" expects {len(input_spec)} input(s),'\n\n    ValueError: Layer \"VAEModel\" expects 2 input(s), but it received 1 input tensors. Inputs received: [<tf.Tensor 'IteratorGetNext:0' shape=(None, 3, 3, 34) dtype=float32>]\n"
     ]
    }
   ],
   "source": [
    "res = pred.est.predict_model(mpp_data.mpp, batch_size=10)"
   ]
  },
  {
   "cell_type": "code",
   "execution_count": null,
   "metadata": {},
   "outputs": [],
   "source": []
  }
 ],
 "metadata": {
  "interpreter": {
   "hash": "7c3012f799b3ef2382f56288364f3b4f8c7ccb2db3eb0b0379ff9e09fc414115"
  },
  "kernelspec": {
   "display_name": "Python 3.9.7 ('pelkmans-3.9')",
   "language": "python",
   "name": "python3"
  },
  "language_info": {
   "codemirror_mode": {
    "name": "ipython",
    "version": 3
   },
   "file_extension": ".py",
   "mimetype": "text/x-python",
   "name": "python",
   "nbconvert_exporter": "python",
   "pygments_lexer": "ipython3",
   "version": "3.9.0"
  },
  "orig_nbformat": 4
 },
 "nbformat": 4,
 "nbformat_minor": 2
}
