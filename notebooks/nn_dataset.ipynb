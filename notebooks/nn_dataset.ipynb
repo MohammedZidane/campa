{
 "cells": [
  {
   "cell_type": "markdown",
   "metadata": {},
   "source": [
    "# Dataset for training models\n",
    "A [NNDataset][] is a collection of [MPPDatas][MPPData] (one for train/val/test). It is created using a parameter file defining its properties.\n",
    "\n",
    "This notebooks shows:\n",
    "\n",
    "- how to create a dataset from parameters\n",
    "- how to iterate over an existing dataset\n",
    "\n",
    "[NNDataset]: ../classes/campa.data.NNDataset.rst\n",
    "[MPPData]: ../classes/campa.data.MPPData.rst"
   ]
  },
  {
   "cell_type": "code",
   "execution_count": 1,
   "metadata": {},
   "outputs": [
    {
     "name": "stdout",
     "output_type": "stream",
     "text": [
      "Reading config from /Users/hannah.spitzer/projects/pelkmans/software_new/campa/config.ini\n",
      "Reading config from params/campa.ini\n",
      "CAMPAConfig (fname: params/campa.ini)\n",
      "EXPERIMENT_DIR: /Users/hannah.spitzer/projects/pelkmans/software_new/campa/notebooks/example_experiments\n",
      "BASE_DATA_DIR: /Users/hannah.spitzer/projects/pelkmans/software_new/campa/notebooks/example_data/raw\n",
      "CO_OCC_CHUNK_SIZE: 10000000.0\n",
      "data_config/nascentrna: /Users/hannah.spitzer/projects/pelkmans/software_new/campa_ana/NascentRNA_constants.py\n",
      "data_config/testdata: /Users/hannah.spitzer/projects/pelkmans/software_new/campa/tests/_data/TestData_constants.py\n",
      "data_config/exampledata: /Users/hannah.spitzer/projects/pelkmans/software_new/campa/notebooks/params/ExampleData_constants.py\n",
      "\n"
     ]
    }
   ],
   "source": [
    "import os\n",
    "\n",
    "from campa.data import NNDataset, create_dataset, load_example_data\n",
    "from campa.utils import load_config, init_logging\n",
    "from campa.constants import SCRIPTS_DIR, campa_config\n",
    "\n",
    "# init logging with level INFO=20, WARNING=30\n",
    "init_logging(level=30)\n",
    "# ensure that example data is downloaded\n",
    "load_example_data()\n",
    "# read correct campa_config -- created with setup.ipynb\n",
    "campa_config.config_fname = \"params/campa.ini\"\n",
    "print(campa_config)"
   ]
  },
  {
   "cell_type": "markdown",
   "metadata": {},
   "source": [
    "## Create NNDataset\n",
    "\n",
    "[NNDataset][] is created with a config file that specifies from which folders to take the data and how to preprocess the data.\n",
    "\n",
    "Here, we will use [example_data_params.py](https://github.com/theislab/campa/blob/main/notebooks/params/example_data_params.py) to create an example dataset and save it to `DATASET_DIR/184A1_test_dataset`. See [create_dataset][]\n",
    "for a documentation of the data parameters.\n",
    "\n",
    "Alternatively to this code, the [NNDataset][] can also easily be created with the CLI (assuming ``$CAMPA_DIR`` the location of campa):\n",
    "```\n",
    "campa create_dataset $CAMPA_DIR/notebooks/params/example_data_params.py\n",
    "```\n",
    "\n",
    "First, let us load the data parameters.\n",
    "This dataset uses data from two unperturbed and two meayamycin perturbed wells. It contains condition labels for the perturbation (one-hot-encoded) and for the cell cycle (one-hot-encoded). \n",
    "All cells are used, and 10% of all pixels. It is corrected for background fluorescence signal, and percentile-normalised.\n",
    "It uses a neighborhood of 3x3 as inputs to the cVAE. \n",
    "\n",
    "It is going to be saved in the ``DATASET_DIR`` defined by the `ExampleData` data config.\n",
    "\n",
    "[NNDataset]: ../classes/campa.data.NNDataset.rst\n",
    "[MPPData]: ../classes/campa.data.MPPData.rst\n",
    "[create_dataset]: ../api/campa.data.create_dataset.rst"
   ]
  },
  {
   "cell_type": "code",
   "execution_count": 2,
   "metadata": {},
   "outputs": [
    {
     "name": "stdout",
     "output_type": "stream",
     "text": [
      "{'dataset_name': '184A1_test_dataset', 'data_config': 'ExampleData', 'data_dirs': ['184A1_unperturbed/I09', '184A1_unperturbed/I11', '184A1_meayamycin/I12', '184A1_meayamycin/I20'], 'channels': ['01_CDK9_pT186', '01_PABPC1', '02_CDK7', '03_CDK9', '03_RPS6', '05_GTF2B', '05_Sm', '07_POLR2A', '07_SETD1A', '08_H3K4me3', '09_CCNT1', '09_SRRM2', '10_H3K27ac', '10_POL2RA_pS2', '11_KPNA2_MAX', '11_PML', '12_RB1_pS807_S811', '12_YAP1', '13_PABPN1', '13_POL2RA_pS5', '14_PCNA', '15_SON', '15_U2SNRNPB', '16_H3', '17_HDAC3', '17_SRSF2', '18_NONO', '19_KPNA1_MAX', '20_ALYREF', '20_SP100', '21_COIL', '21_NCL', '00_DAPI', '07_H2B'], 'condition': ['perturbation_duration_one_hot', 'cell_cycle_one_hot'], 'condition_kwargs': {'cond_params': {}}, 'split_kwargs': {'train_frac': 0.7, 'val_frac': 0.2}, 'test_img_size': 225, 'subset': True, 'subset_kwargs': {'frac': None, 'nona_condition': True, 'cell_cycle': 'NO_NAN'}, 'subsample': True, 'subsample_kwargs': {'frac': 0.1, 'frac_per_obj': None, 'num': None, 'num_per_obj': None}, 'neighborhood': True, 'neighborhood_size': 3, 'normalise': True, 'normalise_kwargs': {'background_value': 'mean_background', 'percentile': 98.0, 'rescale_values': []}, 'seed': 42}\n"
     ]
    }
   ],
   "source": [
    "config = load_config(os.path.join(SCRIPTS_DIR, \"notebooks/params/example_data_params.py\"))\n",
    "print(config.data_params)"
   ]
  },
  {
   "cell_type": "markdown",
   "metadata": {},
   "source": [
    "Now we can create the dataset."
   ]
  },
  {
   "cell_type": "code",
   "execution_count": 3,
   "metadata": {},
   "outputs": [],
   "source": [
    "create_dataset(config.data_params)"
   ]
  },
  {
   "cell_type": "markdown",
   "metadata": {},
   "source": [
    "## Use NNDataset\n",
    "\n",
    "After creating the dataset, we can inspect it using [NNDataset][].\n",
    "\n",
    "[NNDataset]: ../classes/campa.data.NNDataset.rst"
   ]
  },
  {
   "cell_type": "code",
   "execution_count": 4,
   "metadata": {},
   "outputs": [
    {
     "name": "stdout",
     "output_type": "stream",
     "text": [
      "NNDataset for ExampleData (shape (3, 3, 34)). train: 50310, val: 12340, test: 4541\n"
     ]
    }
   ],
   "source": [
    "dataset_name = \"184A1_test_dataset\"\n",
    "ds = NNDataset(dataset_name, data_config=\"ExampleData\")\n",
    "print(ds)"
   ]
  },
  {
   "cell_type": "markdown",
   "metadata": {},
   "source": [
    "The dataset was saved in the ``DATASET_DIR`` defined by the data_config:"
   ]
  },
  {
   "cell_type": "code",
   "execution_count": 5,
   "metadata": {},
   "outputs": [
    {
     "name": "stdout",
     "output_type": "stream",
     "text": [
      "/Users/hannah.spitzer/projects/pelkmans/software_new/campa/notebooks/example_data/raw/datasets/184A1_test_dataset\n",
      "['val_imgs', 'test', 'params.json', 'test_imgs', 'train', 'val']\n"
     ]
    }
   ],
   "source": [
    "nn_dataset_fpath = os.path.join(ds.data_config.DATASET_DIR, dataset_name)\n",
    "print(nn_dataset_fpath)\n",
    "print(os.listdir(os.path.join(ds.data_config.DATASET_DIR, dataset_name)))"
   ]
  },
  {
   "cell_type": "markdown",
   "metadata": {},
   "source": [
    "[NNDataset][] consists of of a train/val/test split in [NNDataset.data][] which is represented as [MPPData][] objects.\n",
    "\n",
    "[NNDataset]: ../classes/campa.data.NNDataset.rst\n",
    "[NNDataset.data]: ../classes/campa.data.NNDataset.data.rst\n",
    "[MPPData]: ../classes/campa.data.MPPData.rst\n"
   ]
  },
  {
   "cell_type": "code",
   "execution_count": 6,
   "metadata": {},
   "outputs": [
    {
     "name": "stdout",
     "output_type": "stream",
     "text": [
      "dict_keys(['train', 'val', 'test'])\n",
      "MPPData for ExampleData (50310 mpps with shape (3, 3, 34) from 35 objects). Data keys: ['x', 'y', 'obj_ids', 'mpp', 'labels', 'conditions'].\n"
     ]
    }
   ],
   "source": [
    "print(ds.data.keys())\n",
    "print(ds.data[\"train\"])"
   ]
  },
  {
   "cell_type": "markdown",
   "metadata": {},
   "source": [
    "In addition, [NNDataset][] also has val/test images in [NNDataset.imgs][], represented as [MPPData][]. These objects contain all pixels from val and test cells such that we can plot images from the test and val split.\n",
    "\n",
    "[NNDataset]: ../classes/campa.data.NNDataset.rst\n",
    "[NNDataset.imgs]: ../classes/campa.data.NNDataset.imgs.rst\n",
    "[MPPData]: ../classes/campa.data.MPPData.rst"
   ]
  },
  {
   "cell_type": "code",
   "execution_count": 7,
   "metadata": {},
   "outputs": [
    {
     "name": "stdout",
     "output_type": "stream",
     "text": [
      "dict_keys(['val', 'test'])\n"
     ]
    },
    {
     "data": {
      "text/plain": [
       "<matplotlib.image.AxesImage at 0x7fb6a0bfe820>"
      ]
     },
     "execution_count": 7,
     "metadata": {},
     "output_type": "execute_result"
    },
    {
     "data": {
      "image/png": "[encoded data removed]",
      "text/plain": [
       "<Figure size 432x288 with 1 Axes>"
      ]
     },
     "metadata": {
      "needs_background": "light"
     },
     "output_type": "display_data"
    }
   ],
   "source": [
    "import matplotlib.pyplot as plt\n",
    "\n",
    "print(ds.imgs.keys())\n",
    "plt.imshow(ds.imgs[\"test\"].get_object_img(ds.imgs[\"test\"].obj_ids[0], channel_ids=0, img_size=255)[:, :, 0])"
   ]
  },
  {
   "cell_type": "markdown",
   "metadata": {},
   "source": [
    "[NNDataset][] also contains attributes `x` and `y`, which are numpy arrays for the VAE input and output. \n",
    "`x` is either the multiplexed pixel profiles (number of pixes x neighbors x neighbors x channels) or the multiplexed pixel profiles and the condition labels.\n",
    "\n",
    "[NNDataset]: ../classes/campa.data.NNDataset.rst"
   ]
  },
  {
   "cell_type": "code",
   "execution_count": 8,
   "metadata": {},
   "outputs": [
    {
     "name": "stdout",
     "output_type": "stream",
     "text": [
      "(12340, 3, 3, 34)\n",
      "(50310, 3, 3, 34) (50310, 14)\n"
     ]
    }
   ],
   "source": [
    "# get x without condition\n",
    "x = ds.x(\"val\", is_conditional=False)\n",
    "print(x.shape)\n",
    "\n",
    "# get x with condition\n",
    "x, c = ds.x(\"train\", is_conditional=True)\n",
    "print(x.shape, c.shape)"
   ]
  },
  {
   "cell_type": "markdown",
   "metadata": {},
   "source": [
    "For neural network training, we use the [NNDataset.get_tf_dataset][] method which returns a tensorflow dataset.\n",
    "\n",
    "[NNDataset.get_tf_dataset]: ../classes/campa.data.NNDataset.get_tf_dataset.rst"
   ]
  },
  {
   "cell_type": "code",
   "execution_count": 9,
   "metadata": {},
   "outputs": [
    {
     "name": "stdout",
     "output_type": "stream",
     "text": [
      "<FlatMapDataset element_spec=((TensorSpec(shape=(3, 3, 34), dtype=tf.float32, name=None), TensorSpec(shape=(14,), dtype=tf.float32, name=None)), TensorSpec(shape=(34,), dtype=tf.float32, name=None))>\n",
      "2 (3, 3, 34) (14,)\n",
      "(34,)\n"
     ]
    },
    {
     "name": "stderr",
     "output_type": "stream",
     "text": [
      "2022-04-22 14:02:22.295593: I tensorflow/core/platform/cpu_feature_guard.cc:151] This TensorFlow binary is optimized with oneAPI Deep Neural Network Library (oneDNN) to use the following CPU instructions in performance-critical operations:  AVX2 FMA\n",
      "To enable them in other operations, rebuild TensorFlow with the appropriate compiler flags.\n"
     ]
    }
   ],
   "source": [
    "# dataset can returrn a tf dataset for using with e.g. keras\n",
    "tf_ds = ds.get_tf_dataset(split=\"train\", is_conditional=True)\n",
    "print(tf_ds)\n",
    "\n",
    "for x, y in tf_ds.take(1):\n",
    "    # x here contains x, condition\n",
    "    print(len(x), x[0].shape, x[1].shape)\n",
    "    print(y.shape)"
   ]
  },
  {
   "cell_type": "markdown",
   "metadata": {},
   "source": [
    "For more information on the training and evaluation process, see [the tutorial on training cVAE models](train.ipynb)"
   ]
  }
 ],
 "metadata": {
  "interpreter": {
   "hash": "7c3012f799b3ef2382f56288364f3b4f8c7ccb2db3eb0b0379ff9e09fc414115"
  },
  "kernelspec": {
   "display_name": "Python 3 (ipykernel)",
   "language": "python",
   "name": "python3"
  },
  "language_info": {
   "codemirror_mode": {
    "name": "ipython",
    "version": 3
   },
   "file_extension": ".py",
   "mimetype": "text/x-python",
   "name": "python",
   "nbconvert_exporter": "python",
   "pygments_lexer": "ipython3",
   "version": "3.9.0"
  }
 },
 "nbformat": 4,
 "nbformat_minor": 4
}
