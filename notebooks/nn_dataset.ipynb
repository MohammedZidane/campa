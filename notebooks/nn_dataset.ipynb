{
 "cells": [
  {
   "cell_type": "markdown",
   "metadata": {},
   "source": [
    "# Creation of NNDataset for training neural networks\n",
    "A NNDataset is a collection of MPPDatas (one for train/val/test). It is created using a parameter file defining its properties.\n",
    "\n",
    "TODO add more info + example creation from params dict here!\n",
    "+ after creation load NNDataset + show how to iterate over samples for training"
   ]
  },
  {
   "cell_type": "markdown",
   "metadata": {},
   "source": []
  }
 ],
 "metadata": {
  "language_info": {
   "name": "python"
  },
  "orig_nbformat": 4
 },
 "nbformat": 4,
 "nbformat_minor": 2
}
