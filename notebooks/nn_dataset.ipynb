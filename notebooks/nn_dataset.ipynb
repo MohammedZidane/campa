{
 "cells": [
  {
   "cell_type": "markdown",
   "metadata": {},
   "source": [
    "# NNDataset for training neural networks\n",
    "A NNDataset is a collection of MPPDatas (one for train/val/test). It is created using a parameter file defining its properties.\n",
    "\n",
    "This notebooks shows:\n",
    "- how to create a dataset from parameters\n",
    "- how to iterate over an existing dataset\n",
    "TODO for actual examples, need to handle downloading of files\n",
    "TODO add more info text \n",
    "TODO change dataset?\n",
    "\n",
    "+ example creation from params dict here!\n",
    "+ after creation load NNDataset + show how to iterate over samples for training"
   ]
  },
  {
   "cell_type": "code",
   "execution_count": 1,
   "metadata": {},
   "outputs": [],
   "source": [
    "import os\n",
    "from miann.data import NNDataset"
   ]
  },
  {
   "cell_type": "markdown",
   "metadata": {},
   "source": [
    "## Create NNDataset\n",
    "TODO"
   ]
  },
  {
   "cell_type": "code",
   "execution_count": 2,
   "metadata": {},
   "outputs": [],
   "source": [
    "data_params = {\n",
    "    # name of the resulting dataset that is defined by these params (relative to DATA_DIR/datasets)\n",
    "    'dataset_name': '184A1_test_dataset',\n",
    "    # name of data config (registered in config.ini)\n",
    "    'data_config': \"NascentRNA\", # TODO change to example data_config\n",
    "    # where to read data from (relative to DATA_DIR defined in data config)\n",
    "    'data_dirs': \n",
    "            [os.path.join('184A1_unperturbed', well) for well in ['I09', 'I11']] + \\\n",
    "            [os.path.join('184A1_meayamycin', well) for well in ['I12', 'I20']],\n",
    "    'channels': [\n",
    "        '00_DAPI','07_H2B','01_CDK9_pT186','03_CDK9','05_GTF2B','07_SETD1A','08_H3K4me3','09_SRRM2','10_H3K27ac',\n",
    "        '11_KPNA2_MAX','12_RB1_pS807_S811','13_PABPN1','14_PCNA','15_SON','16_H3','17_HDAC3','19_KPNA1_MAX',\n",
    "        '20_SP100','21_NCL','01_PABPC1','02_CDK7','03_RPS6','05_Sm','07_POLR2A','09_CCNT1','10_POL2RA_pS2', \n",
    "        '11_PML','12_YAP1','13_POL2RA_pS5','15_U2SNRNPB','18_NONO','20_ALYREF','21_COIL'\n",
    "    ],\n",
    "    # list of conditions. Should be defined in data config. \n",
    "    # The suffix '_one_hot' will convert the condition in a one-hot encoded vector.\n",
    "    # Conditions are concatenated, except when they are defined as a list of lists. \n",
    "    # In this case the condition is defined as a pairwise combination of the conditions.\n",
    "    'condition': ['perturbation_duration_one_hot', 'cell_cycle_one_hot'],\n",
    "    'condition_kwargs': {\n",
    "        'cond_params': {}\n",
    "    },\n",
    "    # train/val/test split\n",
    "    'split_kwargs': {\n",
    "        'train_frac': 0.8,\n",
    "        'val_frac': 0.1,\n",
    "    },\n",
    "    'test_img_size': 225,\n",
    "    # subset to objects with certain metadata.\n",
    "    'subset': True,\n",
    "    # kwargs to MPPData.subset() defining which object to subset to\n",
    "    'subset_kwargs': {\n",
    "        'frac': None, # special kwarg for random subsetting of objects\n",
    "        'nona_condition': True,  # special kwarg for removing all objects with NAN condition\n",
    "        'cell_cycle': 'NO_NAN'\n",
    "    },\n",
    "    # subsampling of pixels (only for train/val)\n",
    "    'subsample': True,\n",
    "    # kwargs for MPPData.subsample() defining the fraction of pixels to be sampled\n",
    "    'subsample_kwargs': {\n",
    "        'frac': None,\n",
    "        'frac_per_obj': 0.05,\n",
    "        'num': None,\n",
    "        'num_per_obj': None,\n",
    "    },\n",
    "    # neighborhood information\n",
    "    'neighborhood': True,\n",
    "    'neighborhood_size': 3,\n",
    "    # normalisation\n",
    "    'normalise': True,\n",
    "    'normalise_kwargs': {\n",
    "        # background_value is column name in CHANNELS_METADATA, or list of floats per channel\n",
    "        'background_value': 'mean_background',\n",
    "        'percentile': 98.0,\n",
    "        'rescale_values': [],\n",
    "    },\n",
    "    # make results reproducible\n",
    "    'seed': 42,\n",
    "}"
   ]
  },
  {
   "cell_type": "markdown",
   "metadata": {},
   "source": [
    "## Use NNDataset"
   ]
  },
  {
   "cell_type": "code",
   "execution_count": 3,
   "metadata": {},
   "outputs": [],
   "source": [
    "dataset_name = '184A1_all_frac005_neigh3_cond_pert-CC'\n",
    "ds = NNDataset(dataset_name, data_config='NascentRNA')"
   ]
  },
  {
   "cell_type": "code",
   "execution_count": 3,
   "metadata": {},
   "outputs": [
    {
     "name": "stdout",
     "output_type": "stream",
     "text": [
      "(78814, 3, 3, 33)\n",
      "(622394, 3, 3, 33) (622394, 14)\n"
     ]
    }
   ],
   "source": [
    "# dataset has attributes x and y (NN input + output)\n",
    "# x is either mpp or mpp+condition\n",
    "x = ds.x('val', is_conditional=False)\n",
    "print(x.shape)\n",
    "\n",
    "x, c = ds.x('train', is_conditional=True)\n",
    "print(x.shape, c.shape)"
   ]
  },
  {
   "cell_type": "code",
   "execution_count": 4,
   "metadata": {},
   "outputs": [
    {
     "name": "stdout",
     "output_type": "stream",
     "text": [
      "MPPData for NascentRNA (622394 mpps with shape (3, 3, 33) from 964 objects). Data keys: ['x', 'y', 'mpp', 'obj_ids', 'labels', 'conditions'].\n"
     ]
    }
   ],
   "source": [
    "# dataset has data attributes with train/val/test data and img attribute with val/test image data. \n",
    "# each split is represented as an MPPData object\n",
    "print(ds.data['train'])"
   ]
  },
  {
   "cell_type": "code",
   "execution_count": 7,
   "metadata": {},
   "outputs": [
    {
     "name": "stdout",
     "output_type": "stream",
     "text": [
      "[(tf.float32, tf.float32), tf.float32]\n",
      "[(TensorShape([3, 3, 33]), TensorShape([14])), TensorShape([33])]\n",
      "<FlatMapDataset shapes: (((3, 3, 33), (14,)), (33,)), types: ((tf.float32, tf.float32), tf.float32)>\n",
      "(<tf.Tensor: shape=(3, 3, 33), dtype=float32, numpy=\n",
      "array([[[0.15203735, 0.62895805, 0.03757562, 0.06181163, 0.65934986,\n",
      "         0.11308727, 0.19545957, 0.08731578, 0.09365417, 0.10214146,\n",
      "         0.14875232, 0.00492055, 0.25848264, 0.08706211, 0.3823452 ,\n",
      "         0.13618195, 0.27064598, 0.21471222, 0.211353  , 0.14106484,\n",
      "         0.4476323 , 0.        , 0.27191448, 0.4585612 , 0.45791107,\n",
      "         0.09481694, 0.70633245, 0.04939254, 0.02446112, 0.01210488,\n",
      "         0.03928334, 0.22237381, 0.35262993],\n",
      "        [0.07494983, 0.9156723 , 0.1192574 , 0.01916671, 0.97870934,\n",
      "         0.16651575, 0.24637985, 0.02988384, 0.09365417, 0.16761032,\n",
      "         0.21968962, 0.00492055, 0.25848264, 0.15798756, 0.29212594,\n",
      "         0.18086219, 0.30235702, 0.2597287 , 0.25311935, 0.09678983,\n",
      "         0.4476323 , 0.01452517, 0.37430152, 0.5292797 , 0.42271048,\n",
      "         0.10619266, 0.94860816, 0.05693705, 0.00166816, 0.        ,\n",
      "         0.05899034, 0.3042292 , 0.4553377 ],\n",
      "        [0.13276547, 0.56149584, 0.10860325, 0.09379533, 0.6806405 ,\n",
      "         0.31077263, 0.22601174, 0.09336124, 0.03114756, 0.20502108,\n",
      "         0.19604386, 0.        , 0.19937618, 0.15435036, 0.35458544,\n",
      "         0.24043585, 0.30235702, 0.27973604, 0.20889616, 0.14106484,\n",
      "         0.6160371 , 0.        , 0.27191448, 0.4011024 , 0.31006864,\n",
      "         0.07531568, 1.0660752 , 0.03883024, 0.05181268, 0.2887155 ,\n",
      "         0.0836241 , 0.35879946, 0.43666357]],\n",
      "\n",
      "       [[0.        , 0.7638824 , 0.07308944, 0.0831341 , 0.57418734,\n",
      "         0.24665847, 0.08343495, 0.13265678, 0.10407194, 0.25178456,\n",
      "         0.23860624, 0.00849998, 0.32833573, 0.13434574, 0.2990659 ,\n",
      "         0.06171487, 0.3287829 , 0.28473788, 0.28505832, 0.1609886 ,\n",
      "         0.87874854, 0.00595582, 0.26053816, 0.5403295 , 0.48607153,\n",
      "         0.15169558, 0.9412665 , 0.06749935, 0.02901971, 0.20968391,\n",
      "         0.06391709, 0.3042292 , 0.45845005],\n",
      "        [0.        , 0.74701685, 0.05178115, 0.10445656, 0.82967496,\n",
      "         0.26802987, 0.12417118, 0.12358858, 0.0519831 , 0.07408338,\n",
      "         0.262252  , 0.00492055, 0.4411753 , 0.18162937, 0.47256443,\n",
      "         0.18086219, 0.3234977 , 0.18970305, 0.24820566, 0.22075985,\n",
      "         0.64971805, 0.        , 0.35154885, 0.5204399 , 0.7324756 ,\n",
      "         0.1191935 , 0.6475989 , 0.04335694, 0.02446112, 0.05162068,\n",
      "         0.06391709, 0.56343794, 0.49268597],\n",
      "        [0.24839674, 0.8482101 , 0.12636016, 0.02982794, 0.595478  ,\n",
      "         0.2840584 , 0.26674795, 0.11149765, 0.07281864, 0.28919533,\n",
      "         0.2433354 , 0.00134113, 0.40356213, 0.29074547, 0.47256443,\n",
      "         0.13618195, 0.29707184, 0.28473788, 0.2776878 , 0.20304985,\n",
      "         0.8922209 , 0.        , 0.13539846, 0.49613044, 0.40159014,\n",
      "         0.18094747, 0.7283575 , 0.07655276, 0.07004705, 0.2491997 ,\n",
      "         0.13781838, 0.6180082 , 0.4833489 ]],\n",
      "\n",
      "       [[0.2676686 , 0.8482101 , 0.04822977, 0.17908518, 0.38257164,\n",
      "         0.33214402, 0.21582767, 0.3502936 , 0.0832364 , 0.176963  ,\n",
      "         0.3142727 , 0.0120794 , 0.78506744, 0.29620126, 0.528084  ,\n",
      "         0.00214121, 0.4450567 , 0.30974704, 0.20643932, 0.19419485,\n",
      "         1.1010429 , 0.        , 0.3060435 , 0.49834037, 0.45791107,\n",
      "         0.25895247, 0.7136741 , 0.06599045, 0.        , 0.2491997 ,\n",
      "         0.0737706 , 0.63165075, 0.5985061 ],\n",
      "        [0.15203735, 0.47716814, 0.07664082, 0.18974641, 0.44644356,\n",
      "         0.508458  , 0.17509146, 0.17497505, 0.04156533, 0.3453115 ,\n",
      "         0.40885577, 0.01565882, 0.7528275 , 0.2216386 , 0.27130613,\n",
      "         0.        , 0.29707184, 0.2547269 , 0.30962676, 0.24953862,\n",
      "         0.93937427, 0.01452517, 0.45393586, 0.46077114, 0.39455003,\n",
      "         0.31745622, 0.88253295, 0.12031087, 0.01078534, 0.09113649,\n",
      "         0.07869735, 0.3860846 , 0.45845005],\n",
      "        [0.07494983, 0.814479  , 0.10860325, 0.10445656, 0.57418734,\n",
      "         0.44968668, 0.30748418, 0.2233388 , 0.03114756, 0.4575438 ,\n",
      "         0.47033477, 0.01565882, 0.54326826, 0.3325733 , 0.32682565,\n",
      "         0.01703463, 0.4292012 , 0.3197507 , 0.24329197, 0.28274485,\n",
      "         1.067362  , 0.03594853, 0.1809038 , 0.4585612 , 0.39455003,\n",
      "         0.2687031 , 0.6843074 , 0.06448155, 0.01990253, 0.3282313 ,\n",
      "         0.10333111, 0.48158255, 0.6047308 ]]], dtype=float32)>, <tf.Tensor: shape=(14,), dtype=float32, numpy=\n",
      "array([0., 0., 0., 0., 0., 0., 0., 0., 0., 1., 0., 0., 1., 0.],\n",
      "      dtype=float32)>)\n",
      "tf.Tensor(\n",
      "[0.         0.74701685 0.05178115 0.10445656 0.82967496 0.26802987\n",
      " 0.12417118 0.12358858 0.0519831  0.07408338 0.262252   0.00492055\n",
      " 0.4411753  0.18162937 0.47256443 0.18086219 0.3234977  0.18970305\n",
      " 0.24820566 0.22075985 0.64971805 0.         0.35154885 0.5204399\n",
      " 0.7324756  0.1191935  0.6475989  0.04335694 0.02446112 0.05162068\n",
      " 0.06391709 0.56343794 0.49268597], shape=(33,), dtype=float32)\n"
     ]
    }
   ],
   "source": [
    "# dataset can returrn a tf dataset for using with e.g. keras\n",
    "tf_ds = ds.get_tf_dataset(split='train', is_conditional=True)\n",
    "print(tf_ds)\n",
    "\n",
    "for x,y in tf_ds.take(1):\n",
    "    print(x)\n",
    "    print(y)"
   ]
  },
  {
   "cell_type": "code",
   "execution_count": 6,
   "metadata": {},
   "outputs": [
    {
     "data": {
      "text/plain": [
       "[23, 10]"
      ]
     },
     "execution_count": 6,
     "metadata": {},
     "output_type": "execute_result"
    }
   ],
   "source": [
    "# dataset has fn for mapping channel orderings to channel ids TODO when do we need this?\n",
    "ds.get_channel_ids(['16_H3', '09_CCNT1'])"
   ]
  }
 ],
 "metadata": {
  "interpreter": {
   "hash": "7c3012f799b3ef2382f56288364f3b4f8c7ccb2db3eb0b0379ff9e09fc414115"
  },
  "kernelspec": {
   "display_name": "Python 3.9.7 64-bit ('pelkmans-3.9': conda)",
   "name": "python3"
  },
  "language_info": {
   "codemirror_mode": {
    "name": "ipython",
    "version": 3
   },
   "file_extension": ".py",
   "mimetype": "text/x-python",
   "name": "python",
   "nbconvert_exporter": "python",
   "pygments_lexer": "ipython3",
   "version": "3.9.7"
  },
  "orig_nbformat": 4
 },
 "nbformat": 4,
 "nbformat_minor": 2
}
