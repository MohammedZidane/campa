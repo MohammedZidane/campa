{
 "cells": [
  {
   "cell_type": "markdown",
   "metadata": {},
   "source": [
    "# NNDataset for training neural networks\n",
    "A `NNDataset` is a collection of `MPPData`s (one for train/val/test). It is created using a parameter file defining its properties.\n",
    "\n",
    "This notebooks shows:\n",
    "- how to create a dataset from parameters\n",
    "- how to iterate over an existing dataset\n",
    "\n",
    "\n",
    "TODO add more info text "
   ]
  },
  {
   "cell_type": "code",
   "execution_count": 9,
   "metadata": {},
   "outputs": [],
   "source": [
    "import logging\n",
    "\n",
    "logging.basicConfig(level=logging.INFO)\n",
    "\n",
    "import os\n",
    "\n",
    "from campa.data import NNDataset, create_dataset, load_example_data\n",
    "from campa.utils import load_config\n",
    "from campa.constants import SCRIPTS_DIR\n",
    "\n",
    "# ensure that example data is downloaded\n",
    "load_example_data()"
   ]
  },
  {
   "cell_type": "markdown",
   "metadata": {},
   "source": [
    "## Create NNDataset\n",
    "`NNDataset` is created with a config file that specifies from which folders to take the data and how to preprocess the data.\n",
    "\n",
    "Here, we will use [params/example_data_params.py](params/example_data_params.py) to create an example dataset and save it to `DATASET_DIR/184A1_test_dataset`. \n",
    "Alternatively to this code, the `NNDataset` can also easily be created with the cli:\n",
    "```\n",
    "campa create_dataset $CAMPA_DIR/notebooks/params/example_data_params.py\n",
    "```\n",
    "\n",
    "This dataset uses data from two unperturbed and two meayamycin perturbed wells. It contains condition labels for the perturbation (one-hot-encoded) and for the cell cycle (one-hot-encoded). \n",
    "All cells are used, and 10% of all pixels. It is corrected for background fluorescence signal, and percentile-normalised.\n",
    "It uses a neighborhood of 3x3 as inputs to the cVAE. "
   ]
  },
  {
   "cell_type": "code",
   "execution_count": 10,
   "metadata": {},
   "outputs": [
    {
     "data": {
      "text/plain": [
       "{'dataset_name': '184A1_test_dataset',\n",
       " 'data_config': 'TestData',\n",
       " 'data_dirs': ['184A1_unperturbed/I09',\n",
       "  '184A1_unperturbed/I11',\n",
       "  '184A1_meayamycin/I12',\n",
       "  '184A1_meayamycin/I20'],\n",
       " 'channels': ['01_CDK9_pT186',\n",
       "  '01_PABPC1',\n",
       "  '02_CDK7',\n",
       "  '03_CDK9',\n",
       "  '03_RPS6',\n",
       "  '05_GTF2B',\n",
       "  '05_Sm',\n",
       "  '07_POLR2A',\n",
       "  '07_SETD1A',\n",
       "  '08_H3K4me3',\n",
       "  '09_CCNT1',\n",
       "  '09_SRRM2',\n",
       "  '10_H3K27ac',\n",
       "  '10_POL2RA_pS2',\n",
       "  '11_KPNA2_MAX',\n",
       "  '11_PML',\n",
       "  '12_RB1_pS807_S811',\n",
       "  '12_YAP1',\n",
       "  '13_PABPN1',\n",
       "  '13_POL2RA_pS5',\n",
       "  '14_PCNA',\n",
       "  '15_SON',\n",
       "  '15_U2SNRNPB',\n",
       "  '16_H3',\n",
       "  '17_HDAC3',\n",
       "  '17_SRSF2',\n",
       "  '18_NONO',\n",
       "  '19_KPNA1_MAX',\n",
       "  '20_ALYREF',\n",
       "  '20_SP100',\n",
       "  '21_COIL',\n",
       "  '21_NCL',\n",
       "  '00_DAPI',\n",
       "  '07_H2B'],\n",
       " 'condition': ['perturbation_duration_one_hot', 'cell_cycle_one_hot'],\n",
       " 'condition_kwargs': {'cond_params': {}},\n",
       " 'split_kwargs': {'train_frac': 0.7, 'val_frac': 0.2},\n",
       " 'test_img_size': 225,\n",
       " 'subset': True,\n",
       " 'subset_kwargs': {'frac': None,\n",
       "  'nona_condition': True,\n",
       "  'cell_cycle': 'NO_NAN'},\n",
       " 'subsample': True,\n",
       " 'subsample_kwargs': {'frac': 0.1,\n",
       "  'frac_per_obj': None,\n",
       "  'num': None,\n",
       "  'num_per_obj': None},\n",
       " 'neighborhood': True,\n",
       " 'neighborhood_size': 3,\n",
       " 'normalise': True,\n",
       " 'normalise_kwargs': {'background_value': 'mean_background',\n",
       "  'percentile': 98.0,\n",
       "  'rescale_values': []},\n",
       " 'seed': 42}"
      ]
     },
     "execution_count": 10,
     "metadata": {},
     "output_type": "execute_result"
    }
   ],
   "source": [
    "config = load_config(os.path.join(SCRIPTS_DIR, \"notebooks/params/example_data_params.py\"))\n",
    "config.data_params"
   ]
  },
  {
   "cell_type": "code",
   "execution_count": 11,
   "metadata": {},
   "outputs": [
    {
     "name": "stderr",
     "output_type": "stream",
     "text": [
      "INFO:root:Creating train/val/test datasets with params:\n",
      "INFO:root:{\n",
      "    \"dataset_name\": \"184A1_test_dataset\",\n",
      "    \"data_config\": \"TestData\",\n",
      "    \"data_dirs\": [\n",
      "        \"184A1_unperturbed/I09\",\n",
      "        \"184A1_unperturbed/I11\",\n",
      "        \"184A1_meayamycin/I12\",\n",
      "        \"184A1_meayamycin/I20\"\n",
      "    ],\n",
      "    \"channels\": [\n",
      "        \"01_CDK9_pT186\",\n",
      "        \"01_PABPC1\",\n",
      "        \"02_CDK7\",\n",
      "        \"03_CDK9\",\n",
      "        \"03_RPS6\",\n",
      "        \"05_GTF2B\",\n",
      "        \"05_Sm\",\n",
      "        \"07_POLR2A\",\n",
      "        \"07_SETD1A\",\n",
      "        \"08_H3K4me3\",\n",
      "        \"09_CCNT1\",\n",
      "        \"09_SRRM2\",\n",
      "        \"10_H3K27ac\",\n",
      "        \"10_POL2RA_pS2\",\n",
      "        \"11_KPNA2_MAX\",\n",
      "        \"11_PML\",\n",
      "        \"12_RB1_pS807_S811\",\n",
      "        \"12_YAP1\",\n",
      "        \"13_PABPN1\",\n",
      "        \"13_POL2RA_pS5\",\n",
      "        \"14_PCNA\",\n",
      "        \"15_SON\",\n",
      "        \"15_U2SNRNPB\",\n",
      "        \"16_H3\",\n",
      "        \"17_HDAC3\",\n",
      "        \"17_SRSF2\",\n",
      "        \"18_NONO\",\n",
      "        \"19_KPNA1_MAX\",\n",
      "        \"20_ALYREF\",\n",
      "        \"20_SP100\",\n",
      "        \"21_COIL\",\n",
      "        \"21_NCL\",\n",
      "        \"00_DAPI\",\n",
      "        \"07_H2B\"\n",
      "    ],\n",
      "    \"condition\": [\n",
      "        \"perturbation_duration_one_hot\",\n",
      "        \"cell_cycle_one_hot\"\n",
      "    ],\n",
      "    \"condition_kwargs\": {\n",
      "        \"cond_params\": {}\n",
      "    },\n",
      "    \"split_kwargs\": {\n",
      "        \"train_frac\": 0.7,\n",
      "        \"val_frac\": 0.2\n",
      "    },\n",
      "    \"test_img_size\": 225,\n",
      "    \"subset\": true,\n",
      "    \"subset_kwargs\": {\n",
      "        \"frac\": null,\n",
      "        \"nona_condition\": true,\n",
      "        \"cell_cycle\": \"NO_NAN\"\n",
      "    },\n",
      "    \"subsample\": true,\n",
      "    \"subsample_kwargs\": {\n",
      "        \"frac\": 0.1,\n",
      "        \"frac_per_obj\": null,\n",
      "        \"num\": null,\n",
      "        \"num_per_obj\": null\n",
      "    },\n",
      "    \"neighborhood\": true,\n",
      "    \"neighborhood_size\": 3,\n",
      "    \"normalise\": true,\n",
      "    \"normalise_kwargs\": {\n",
      "        \"background_value\": \"mean_background\",\n",
      "        \"percentile\": 98.0,\n",
      "        \"rescale_values\": []\n",
      "    },\n",
      "    \"seed\": 42\n",
      "}\n"
     ]
    },
    {
     "ename": "FileNotFoundError",
     "evalue": "[Errno 2] No such file or directory: '/Users/hannah.spitzer/projects/pelkmans/software_new/campa/notebooks/example_data/raw/184A1_unperturbed/I09/metadata.csv'",
     "output_type": "error",
     "traceback": [
      "\u001b[0;31m---------------------------------------------------------------------------\u001b[0m",
      "\u001b[0;31mFileNotFoundError\u001b[0m                         Traceback (most recent call last)",
      "\u001b[1;32m/Users/hannah.spitzer/projects/pelkmans/software_new/campa/notebooks/nn_dataset.ipynb Cell 5'\u001b[0m in \u001b[0;36m<cell line: 1>\u001b[0;34m()\u001b[0m\n\u001b[0;32m----> <a href='vscode-notebook-cell:/Users/hannah.spitzer/projects/pelkmans/software_new/campa/notebooks/nn_dataset.ipynb#ch0000004?line=0'>1</a>\u001b[0m create_dataset(config\u001b[39m.\u001b[39;49mdata_params)\n",
      "File \u001b[0;32m~/projects/pelkmans/software_new/campa/campa/data/_nn_dataset.py:57\u001b[0m, in \u001b[0;36mcreate_dataset\u001b[0;34m(params)\u001b[0m\n\u001b[1;32m     <a href='file:///Users/hannah.spitzer/projects/pelkmans/software_new/campa/campa/data/_nn_dataset.py?line=54'>55</a>\u001b[0m \u001b[39m# prepare datasets\u001b[39;00m\n\u001b[1;32m     <a href='file:///Users/hannah.spitzer/projects/pelkmans/software_new/campa/campa/data/_nn_dataset.py?line=55'>56</a>\u001b[0m mpp_datas: Mapping[\u001b[39mstr\u001b[39m, List[MPPData]] \u001b[39m=\u001b[39m {\u001b[39m\"\u001b[39m\u001b[39mtrain\u001b[39m\u001b[39m\"\u001b[39m: [], \u001b[39m\"\u001b[39m\u001b[39mval\u001b[39m\u001b[39m\"\u001b[39m: [], \u001b[39m\"\u001b[39m\u001b[39mtest\u001b[39m\u001b[39m\"\u001b[39m: []}\n\u001b[0;32m---> <a href='file:///Users/hannah.spitzer/projects/pelkmans/software_new/campa/campa/data/_nn_dataset.py?line=56'>57</a>\u001b[0m \u001b[39mfor\u001b[39;00m data_dir \u001b[39min\u001b[39;00m p[\u001b[39m\"\u001b[39m\u001b[39mdata_dirs\u001b[39m\u001b[39m\"\u001b[39m]:\n\u001b[1;32m     <a href='file:///Users/hannah.spitzer/projects/pelkmans/software_new/campa/campa/data/_nn_dataset.py?line=57'>58</a>\u001b[0m     mpp_data \u001b[39m=\u001b[39m MPPData\u001b[39m.\u001b[39mfrom_data_dir(data_dir, seed\u001b[39m=\u001b[39mp[\u001b[39m\"\u001b[39m\u001b[39mseed\u001b[39m\u001b[39m\"\u001b[39m], data_config\u001b[39m=\u001b[39mp[\u001b[39m\"\u001b[39m\u001b[39mdata_config\u001b[39m\u001b[39m\"\u001b[39m])\n\u001b[1;32m     <a href='file:///Users/hannah.spitzer/projects/pelkmans/software_new/campa/campa/data/_nn_dataset.py?line=58'>59</a>\u001b[0m     train, val, test \u001b[39m=\u001b[39m mpp_data\u001b[39m.\u001b[39mtrain_val_test_split(\u001b[39m*\u001b[39m\u001b[39m*\u001b[39mp[\u001b[39m\"\u001b[39m\u001b[39msplit_kwargs\u001b[39m\u001b[39m\"\u001b[39m])\n",
      "File \u001b[0;32m~/projects/pelkmans/software_new/campa/campa/data/_data.py:146\u001b[0m, in \u001b[0;36mMPPData.from_data_dir\u001b[0;34m(cls, data_dir, mode, base_dir, keys, optional_keys, **kwargs)\u001b[0m\n\u001b[1;32m    <a href='file:///Users/hannah.spitzer/projects/pelkmans/software_new/campa/campa/data/_data.py?line=141'>142</a>\u001b[0m     \u001b[39mreturn\u001b[39;00m \u001b[39mself\u001b[39m\n\u001b[1;32m    <a href='file:///Users/hannah.spitzer/projects/pelkmans/software_new/campa/campa/data/_data.py?line=142'>143</a>\u001b[0m \u001b[39melse\u001b[39;00m:\n\u001b[1;32m    <a href='file:///Users/hannah.spitzer/projects/pelkmans/software_new/campa/campa/data/_data.py?line=143'>144</a>\u001b[0m     \u001b[39m# have reached true base_dir, load data\u001b[39;00m\n\u001b[1;32m    <a href='file:///Users/hannah.spitzer/projects/pelkmans/software_new/campa/campa/data/_data.py?line=144'>145</a>\u001b[0m     \u001b[39m# read all data from data_dir\u001b[39;00m\n\u001b[0;32m--> <a href='file:///Users/hannah.spitzer/projects/pelkmans/software_new/campa/campa/data/_data.py?line=145'>146</a>\u001b[0m     \u001b[39mself\u001b[39m \u001b[39m=\u001b[39m \u001b[39mcls\u001b[39;49m\u001b[39m.\u001b[39;49m_from_data_dir(data_dir, mode, base_dir, keys, optional_keys, \u001b[39m*\u001b[39;49m\u001b[39m*\u001b[39;49mkwargs)\n\u001b[1;32m    <a href='file:///Users/hannah.spitzer/projects/pelkmans/software_new/campa/campa/data/_data.py?line=146'>147</a>\u001b[0m     \u001b[39mself\u001b[39m\u001b[39m.\u001b[39mlog\u001b[39m.\u001b[39minfo(\u001b[39mf\u001b[39m\u001b[39m\"\u001b[39m\u001b[39mLoaded data from \u001b[39m\u001b[39m{\u001b[39;00mdata_dir\u001b[39m}\u001b[39;00m\u001b[39m.\u001b[39m\u001b[39m\"\u001b[39m)\n\u001b[1;32m    <a href='file:///Users/hannah.spitzer/projects/pelkmans/software_new/campa/campa/data/_data.py?line=147'>148</a>\u001b[0m \u001b[39mreturn\u001b[39;00m \u001b[39mself\u001b[39m\n",
      "File \u001b[0;32m~/projects/pelkmans/software_new/campa/campa/data/_data.py:168\u001b[0m, in \u001b[0;36mMPPData._from_data_dir\u001b[0;34m(cls, data_dir, mode, base_dir, keys, optional_keys, **kwargs)\u001b[0m\n\u001b[1;32m    <a href='file:///Users/hannah.spitzer/projects/pelkmans/software_new/campa/campa/data/_data.py?line=164'>165</a>\u001b[0m     data_config \u001b[39m=\u001b[39m get_data_config(kwargs\u001b[39m.\u001b[39mget(\u001b[39m\"\u001b[39m\u001b[39mdata_config\u001b[39m\u001b[39m\"\u001b[39m, \u001b[39m\"\u001b[39m\u001b[39mNascentRNA\u001b[39m\u001b[39m\"\u001b[39m))\n\u001b[1;32m    <a href='file:///Users/hannah.spitzer/projects/pelkmans/software_new/campa/campa/data/_data.py?line=165'>166</a>\u001b[0m     base_dir \u001b[39m=\u001b[39m data_config\u001b[39m.\u001b[39mDATA_DIR\n\u001b[0;32m--> <a href='file:///Users/hannah.spitzer/projects/pelkmans/software_new/campa/campa/data/_data.py?line=167'>168</a>\u001b[0m metadata \u001b[39m=\u001b[39m pd\u001b[39m.\u001b[39;49mread_csv(os\u001b[39m.\u001b[39;49mpath\u001b[39m.\u001b[39;49mjoin(base_dir, data_dir, \u001b[39m\"\u001b[39;49m\u001b[39mmetadata.csv\u001b[39;49m\u001b[39m\"\u001b[39;49m), index_col\u001b[39m=\u001b[39;49m\u001b[39m0\u001b[39;49m)\u001b[39m.\u001b[39mreset_index(drop\u001b[39m=\u001b[39m\u001b[39mTrue\u001b[39;00m)\n\u001b[1;32m    <a href='file:///Users/hannah.spitzer/projects/pelkmans/software_new/campa/campa/data/_data.py?line=168'>169</a>\u001b[0m channels \u001b[39m=\u001b[39m pd\u001b[39m.\u001b[39mread_csv(\n\u001b[1;32m    <a href='file:///Users/hannah.spitzer/projects/pelkmans/software_new/campa/campa/data/_data.py?line=169'>170</a>\u001b[0m     os\u001b[39m.\u001b[39mpath\u001b[39m.\u001b[39mjoin(base_dir, data_dir, \u001b[39m\"\u001b[39m\u001b[39mchannels.csv\u001b[39m\u001b[39m\"\u001b[39m),\n\u001b[1;32m    <a href='file:///Users/hannah.spitzer/projects/pelkmans/software_new/campa/campa/data/_data.py?line=170'>171</a>\u001b[0m     names\u001b[39m=\u001b[39m[\u001b[39m\"\u001b[39m\u001b[39mchannel_id\u001b[39m\u001b[39m\"\u001b[39m, \u001b[39m\"\u001b[39m\u001b[39mname\u001b[39m\u001b[39m\"\u001b[39m],\n\u001b[1;32m    <a href='file:///Users/hannah.spitzer/projects/pelkmans/software_new/campa/campa/data/_data.py?line=171'>172</a>\u001b[0m     index_col\u001b[39m=\u001b[39m\u001b[39m0\u001b[39m,\n\u001b[1;32m    <a href='file:///Users/hannah.spitzer/projects/pelkmans/software_new/campa/campa/data/_data.py?line=172'>173</a>\u001b[0m )\u001b[39m.\u001b[39mreset_index(drop\u001b[39m=\u001b[39m\u001b[39mTrue\u001b[39;00m)\n\u001b[1;32m    <a href='file:///Users/hannah.spitzer/projects/pelkmans/software_new/campa/campa/data/_data.py?line=173'>174</a>\u001b[0m channels\u001b[39m.\u001b[39mindex\u001b[39m.\u001b[39mname \u001b[39m=\u001b[39m \u001b[39m\"\u001b[39m\u001b[39mchannel_id\u001b[39m\u001b[39m\"\u001b[39m\n",
      "File \u001b[0;32m~/opt/miniconda3/envs/campa/lib/python3.9/site-packages/pandas/util/_decorators.py:311\u001b[0m, in \u001b[0;36mdeprecate_nonkeyword_arguments.<locals>.decorate.<locals>.wrapper\u001b[0;34m(*args, **kwargs)\u001b[0m\n\u001b[1;32m    <a href='file:///Users/hannah.spitzer/opt/miniconda3/envs/campa/lib/python3.9/site-packages/pandas/util/_decorators.py?line=304'>305</a>\u001b[0m \u001b[39mif\u001b[39;00m \u001b[39mlen\u001b[39m(args) \u001b[39m>\u001b[39m num_allow_args:\n\u001b[1;32m    <a href='file:///Users/hannah.spitzer/opt/miniconda3/envs/campa/lib/python3.9/site-packages/pandas/util/_decorators.py?line=305'>306</a>\u001b[0m     warnings\u001b[39m.\u001b[39mwarn(\n\u001b[1;32m    <a href='file:///Users/hannah.spitzer/opt/miniconda3/envs/campa/lib/python3.9/site-packages/pandas/util/_decorators.py?line=306'>307</a>\u001b[0m         msg\u001b[39m.\u001b[39mformat(arguments\u001b[39m=\u001b[39marguments),\n\u001b[1;32m    <a href='file:///Users/hannah.spitzer/opt/miniconda3/envs/campa/lib/python3.9/site-packages/pandas/util/_decorators.py?line=307'>308</a>\u001b[0m         \u001b[39mFutureWarning\u001b[39;00m,\n\u001b[1;32m    <a href='file:///Users/hannah.spitzer/opt/miniconda3/envs/campa/lib/python3.9/site-packages/pandas/util/_decorators.py?line=308'>309</a>\u001b[0m         stacklevel\u001b[39m=\u001b[39mstacklevel,\n\u001b[1;32m    <a href='file:///Users/hannah.spitzer/opt/miniconda3/envs/campa/lib/python3.9/site-packages/pandas/util/_decorators.py?line=309'>310</a>\u001b[0m     )\n\u001b[0;32m--> <a href='file:///Users/hannah.spitzer/opt/miniconda3/envs/campa/lib/python3.9/site-packages/pandas/util/_decorators.py?line=310'>311</a>\u001b[0m \u001b[39mreturn\u001b[39;00m func(\u001b[39m*\u001b[39;49margs, \u001b[39m*\u001b[39;49m\u001b[39m*\u001b[39;49mkwargs)\n",
      "File \u001b[0;32m~/opt/miniconda3/envs/campa/lib/python3.9/site-packages/pandas/io/parsers/readers.py:680\u001b[0m, in \u001b[0;36mread_csv\u001b[0;34m(filepath_or_buffer, sep, delimiter, header, names, index_col, usecols, squeeze, prefix, mangle_dupe_cols, dtype, engine, converters, true_values, false_values, skipinitialspace, skiprows, skipfooter, nrows, na_values, keep_default_na, na_filter, verbose, skip_blank_lines, parse_dates, infer_datetime_format, keep_date_col, date_parser, dayfirst, cache_dates, iterator, chunksize, compression, thousands, decimal, lineterminator, quotechar, quoting, doublequote, escapechar, comment, encoding, encoding_errors, dialect, error_bad_lines, warn_bad_lines, on_bad_lines, delim_whitespace, low_memory, memory_map, float_precision, storage_options)\u001b[0m\n\u001b[1;32m    <a href='file:///Users/hannah.spitzer/opt/miniconda3/envs/campa/lib/python3.9/site-packages/pandas/io/parsers/readers.py?line=664'>665</a>\u001b[0m kwds_defaults \u001b[39m=\u001b[39m _refine_defaults_read(\n\u001b[1;32m    <a href='file:///Users/hannah.spitzer/opt/miniconda3/envs/campa/lib/python3.9/site-packages/pandas/io/parsers/readers.py?line=665'>666</a>\u001b[0m     dialect,\n\u001b[1;32m    <a href='file:///Users/hannah.spitzer/opt/miniconda3/envs/campa/lib/python3.9/site-packages/pandas/io/parsers/readers.py?line=666'>667</a>\u001b[0m     delimiter,\n\u001b[0;32m   (...)\u001b[0m\n\u001b[1;32m    <a href='file:///Users/hannah.spitzer/opt/miniconda3/envs/campa/lib/python3.9/site-packages/pandas/io/parsers/readers.py?line=675'>676</a>\u001b[0m     defaults\u001b[39m=\u001b[39m{\u001b[39m\"\u001b[39m\u001b[39mdelimiter\u001b[39m\u001b[39m\"\u001b[39m: \u001b[39m\"\u001b[39m\u001b[39m,\u001b[39m\u001b[39m\"\u001b[39m},\n\u001b[1;32m    <a href='file:///Users/hannah.spitzer/opt/miniconda3/envs/campa/lib/python3.9/site-packages/pandas/io/parsers/readers.py?line=676'>677</a>\u001b[0m )\n\u001b[1;32m    <a href='file:///Users/hannah.spitzer/opt/miniconda3/envs/campa/lib/python3.9/site-packages/pandas/io/parsers/readers.py?line=677'>678</a>\u001b[0m kwds\u001b[39m.\u001b[39mupdate(kwds_defaults)\n\u001b[0;32m--> <a href='file:///Users/hannah.spitzer/opt/miniconda3/envs/campa/lib/python3.9/site-packages/pandas/io/parsers/readers.py?line=679'>680</a>\u001b[0m \u001b[39mreturn\u001b[39;00m _read(filepath_or_buffer, kwds)\n",
      "File \u001b[0;32m~/opt/miniconda3/envs/campa/lib/python3.9/site-packages/pandas/io/parsers/readers.py:575\u001b[0m, in \u001b[0;36m_read\u001b[0;34m(filepath_or_buffer, kwds)\u001b[0m\n\u001b[1;32m    <a href='file:///Users/hannah.spitzer/opt/miniconda3/envs/campa/lib/python3.9/site-packages/pandas/io/parsers/readers.py?line=571'>572</a>\u001b[0m _validate_names(kwds\u001b[39m.\u001b[39mget(\u001b[39m\"\u001b[39m\u001b[39mnames\u001b[39m\u001b[39m\"\u001b[39m, \u001b[39mNone\u001b[39;00m))\n\u001b[1;32m    <a href='file:///Users/hannah.spitzer/opt/miniconda3/envs/campa/lib/python3.9/site-packages/pandas/io/parsers/readers.py?line=573'>574</a>\u001b[0m \u001b[39m# Create the parser.\u001b[39;00m\n\u001b[0;32m--> <a href='file:///Users/hannah.spitzer/opt/miniconda3/envs/campa/lib/python3.9/site-packages/pandas/io/parsers/readers.py?line=574'>575</a>\u001b[0m parser \u001b[39m=\u001b[39m TextFileReader(filepath_or_buffer, \u001b[39m*\u001b[39;49m\u001b[39m*\u001b[39;49mkwds)\n\u001b[1;32m    <a href='file:///Users/hannah.spitzer/opt/miniconda3/envs/campa/lib/python3.9/site-packages/pandas/io/parsers/readers.py?line=576'>577</a>\u001b[0m \u001b[39mif\u001b[39;00m chunksize \u001b[39mor\u001b[39;00m iterator:\n\u001b[1;32m    <a href='file:///Users/hannah.spitzer/opt/miniconda3/envs/campa/lib/python3.9/site-packages/pandas/io/parsers/readers.py?line=577'>578</a>\u001b[0m     \u001b[39mreturn\u001b[39;00m parser\n",
      "File \u001b[0;32m~/opt/miniconda3/envs/campa/lib/python3.9/site-packages/pandas/io/parsers/readers.py:933\u001b[0m, in \u001b[0;36mTextFileReader.__init__\u001b[0;34m(self, f, engine, **kwds)\u001b[0m\n\u001b[1;32m    <a href='file:///Users/hannah.spitzer/opt/miniconda3/envs/campa/lib/python3.9/site-packages/pandas/io/parsers/readers.py?line=929'>930</a>\u001b[0m     \u001b[39mself\u001b[39m\u001b[39m.\u001b[39moptions[\u001b[39m\"\u001b[39m\u001b[39mhas_index_names\u001b[39m\u001b[39m\"\u001b[39m] \u001b[39m=\u001b[39m kwds[\u001b[39m\"\u001b[39m\u001b[39mhas_index_names\u001b[39m\u001b[39m\"\u001b[39m]\n\u001b[1;32m    <a href='file:///Users/hannah.spitzer/opt/miniconda3/envs/campa/lib/python3.9/site-packages/pandas/io/parsers/readers.py?line=931'>932</a>\u001b[0m \u001b[39mself\u001b[39m\u001b[39m.\u001b[39mhandles: IOHandles \u001b[39m|\u001b[39m \u001b[39mNone\u001b[39;00m \u001b[39m=\u001b[39m \u001b[39mNone\u001b[39;00m\n\u001b[0;32m--> <a href='file:///Users/hannah.spitzer/opt/miniconda3/envs/campa/lib/python3.9/site-packages/pandas/io/parsers/readers.py?line=932'>933</a>\u001b[0m \u001b[39mself\u001b[39m\u001b[39m.\u001b[39m_engine \u001b[39m=\u001b[39m \u001b[39mself\u001b[39;49m\u001b[39m.\u001b[39;49m_make_engine(f, \u001b[39mself\u001b[39;49m\u001b[39m.\u001b[39;49mengine)\n",
      "File \u001b[0;32m~/opt/miniconda3/envs/campa/lib/python3.9/site-packages/pandas/io/parsers/readers.py:1217\u001b[0m, in \u001b[0;36mTextFileReader._make_engine\u001b[0;34m(self, f, engine)\u001b[0m\n\u001b[1;32m   <a href='file:///Users/hannah.spitzer/opt/miniconda3/envs/campa/lib/python3.9/site-packages/pandas/io/parsers/readers.py?line=1212'>1213</a>\u001b[0m     mode \u001b[39m=\u001b[39m \u001b[39m\"\u001b[39m\u001b[39mrb\u001b[39m\u001b[39m\"\u001b[39m\n\u001b[1;32m   <a href='file:///Users/hannah.spitzer/opt/miniconda3/envs/campa/lib/python3.9/site-packages/pandas/io/parsers/readers.py?line=1213'>1214</a>\u001b[0m \u001b[39m# error: No overload variant of \"get_handle\" matches argument types\u001b[39;00m\n\u001b[1;32m   <a href='file:///Users/hannah.spitzer/opt/miniconda3/envs/campa/lib/python3.9/site-packages/pandas/io/parsers/readers.py?line=1214'>1215</a>\u001b[0m \u001b[39m# \"Union[str, PathLike[str], ReadCsvBuffer[bytes], ReadCsvBuffer[str]]\"\u001b[39;00m\n\u001b[1;32m   <a href='file:///Users/hannah.spitzer/opt/miniconda3/envs/campa/lib/python3.9/site-packages/pandas/io/parsers/readers.py?line=1215'>1216</a>\u001b[0m \u001b[39m# , \"str\", \"bool\", \"Any\", \"Any\", \"Any\", \"Any\", \"Any\"\u001b[39;00m\n\u001b[0;32m-> <a href='file:///Users/hannah.spitzer/opt/miniconda3/envs/campa/lib/python3.9/site-packages/pandas/io/parsers/readers.py?line=1216'>1217</a>\u001b[0m \u001b[39mself\u001b[39m\u001b[39m.\u001b[39mhandles \u001b[39m=\u001b[39m get_handle(  \u001b[39m# type: ignore[call-overload]\u001b[39;49;00m\n\u001b[1;32m   <a href='file:///Users/hannah.spitzer/opt/miniconda3/envs/campa/lib/python3.9/site-packages/pandas/io/parsers/readers.py?line=1217'>1218</a>\u001b[0m     f,\n\u001b[1;32m   <a href='file:///Users/hannah.spitzer/opt/miniconda3/envs/campa/lib/python3.9/site-packages/pandas/io/parsers/readers.py?line=1218'>1219</a>\u001b[0m     mode,\n\u001b[1;32m   <a href='file:///Users/hannah.spitzer/opt/miniconda3/envs/campa/lib/python3.9/site-packages/pandas/io/parsers/readers.py?line=1219'>1220</a>\u001b[0m     encoding\u001b[39m=\u001b[39;49m\u001b[39mself\u001b[39;49m\u001b[39m.\u001b[39;49moptions\u001b[39m.\u001b[39;49mget(\u001b[39m\"\u001b[39;49m\u001b[39mencoding\u001b[39;49m\u001b[39m\"\u001b[39;49m, \u001b[39mNone\u001b[39;49;00m),\n\u001b[1;32m   <a href='file:///Users/hannah.spitzer/opt/miniconda3/envs/campa/lib/python3.9/site-packages/pandas/io/parsers/readers.py?line=1220'>1221</a>\u001b[0m     compression\u001b[39m=\u001b[39;49m\u001b[39mself\u001b[39;49m\u001b[39m.\u001b[39;49moptions\u001b[39m.\u001b[39;49mget(\u001b[39m\"\u001b[39;49m\u001b[39mcompression\u001b[39;49m\u001b[39m\"\u001b[39;49m, \u001b[39mNone\u001b[39;49;00m),\n\u001b[1;32m   <a href='file:///Users/hannah.spitzer/opt/miniconda3/envs/campa/lib/python3.9/site-packages/pandas/io/parsers/readers.py?line=1221'>1222</a>\u001b[0m     memory_map\u001b[39m=\u001b[39;49m\u001b[39mself\u001b[39;49m\u001b[39m.\u001b[39;49moptions\u001b[39m.\u001b[39;49mget(\u001b[39m\"\u001b[39;49m\u001b[39mmemory_map\u001b[39;49m\u001b[39m\"\u001b[39;49m, \u001b[39mFalse\u001b[39;49;00m),\n\u001b[1;32m   <a href='file:///Users/hannah.spitzer/opt/miniconda3/envs/campa/lib/python3.9/site-packages/pandas/io/parsers/readers.py?line=1222'>1223</a>\u001b[0m     is_text\u001b[39m=\u001b[39;49mis_text,\n\u001b[1;32m   <a href='file:///Users/hannah.spitzer/opt/miniconda3/envs/campa/lib/python3.9/site-packages/pandas/io/parsers/readers.py?line=1223'>1224</a>\u001b[0m     errors\u001b[39m=\u001b[39;49m\u001b[39mself\u001b[39;49m\u001b[39m.\u001b[39;49moptions\u001b[39m.\u001b[39;49mget(\u001b[39m\"\u001b[39;49m\u001b[39mencoding_errors\u001b[39;49m\u001b[39m\"\u001b[39;49m, \u001b[39m\"\u001b[39;49m\u001b[39mstrict\u001b[39;49m\u001b[39m\"\u001b[39;49m),\n\u001b[1;32m   <a href='file:///Users/hannah.spitzer/opt/miniconda3/envs/campa/lib/python3.9/site-packages/pandas/io/parsers/readers.py?line=1224'>1225</a>\u001b[0m     storage_options\u001b[39m=\u001b[39;49m\u001b[39mself\u001b[39;49m\u001b[39m.\u001b[39;49moptions\u001b[39m.\u001b[39;49mget(\u001b[39m\"\u001b[39;49m\u001b[39mstorage_options\u001b[39;49m\u001b[39m\"\u001b[39;49m, \u001b[39mNone\u001b[39;49;00m),\n\u001b[1;32m   <a href='file:///Users/hannah.spitzer/opt/miniconda3/envs/campa/lib/python3.9/site-packages/pandas/io/parsers/readers.py?line=1225'>1226</a>\u001b[0m )\n\u001b[1;32m   <a href='file:///Users/hannah.spitzer/opt/miniconda3/envs/campa/lib/python3.9/site-packages/pandas/io/parsers/readers.py?line=1226'>1227</a>\u001b[0m \u001b[39massert\u001b[39;00m \u001b[39mself\u001b[39m\u001b[39m.\u001b[39mhandles \u001b[39mis\u001b[39;00m \u001b[39mnot\u001b[39;00m \u001b[39mNone\u001b[39;00m\n\u001b[1;32m   <a href='file:///Users/hannah.spitzer/opt/miniconda3/envs/campa/lib/python3.9/site-packages/pandas/io/parsers/readers.py?line=1227'>1228</a>\u001b[0m f \u001b[39m=\u001b[39m \u001b[39mself\u001b[39m\u001b[39m.\u001b[39mhandles\u001b[39m.\u001b[39mhandle\n",
      "File \u001b[0;32m~/opt/miniconda3/envs/campa/lib/python3.9/site-packages/pandas/io/common.py:789\u001b[0m, in \u001b[0;36mget_handle\u001b[0;34m(path_or_buf, mode, encoding, compression, memory_map, is_text, errors, storage_options)\u001b[0m\n\u001b[1;32m    <a href='file:///Users/hannah.spitzer/opt/miniconda3/envs/campa/lib/python3.9/site-packages/pandas/io/common.py?line=783'>784</a>\u001b[0m \u001b[39melif\u001b[39;00m \u001b[39misinstance\u001b[39m(handle, \u001b[39mstr\u001b[39m):\n\u001b[1;32m    <a href='file:///Users/hannah.spitzer/opt/miniconda3/envs/campa/lib/python3.9/site-packages/pandas/io/common.py?line=784'>785</a>\u001b[0m     \u001b[39m# Check whether the filename is to be opened in binary mode.\u001b[39;00m\n\u001b[1;32m    <a href='file:///Users/hannah.spitzer/opt/miniconda3/envs/campa/lib/python3.9/site-packages/pandas/io/common.py?line=785'>786</a>\u001b[0m     \u001b[39m# Binary mode does not support 'encoding' and 'newline'.\u001b[39;00m\n\u001b[1;32m    <a href='file:///Users/hannah.spitzer/opt/miniconda3/envs/campa/lib/python3.9/site-packages/pandas/io/common.py?line=786'>787</a>\u001b[0m     \u001b[39mif\u001b[39;00m ioargs\u001b[39m.\u001b[39mencoding \u001b[39mand\u001b[39;00m \u001b[39m\"\u001b[39m\u001b[39mb\u001b[39m\u001b[39m\"\u001b[39m \u001b[39mnot\u001b[39;00m \u001b[39min\u001b[39;00m ioargs\u001b[39m.\u001b[39mmode:\n\u001b[1;32m    <a href='file:///Users/hannah.spitzer/opt/miniconda3/envs/campa/lib/python3.9/site-packages/pandas/io/common.py?line=787'>788</a>\u001b[0m         \u001b[39m# Encoding\u001b[39;00m\n\u001b[0;32m--> <a href='file:///Users/hannah.spitzer/opt/miniconda3/envs/campa/lib/python3.9/site-packages/pandas/io/common.py?line=788'>789</a>\u001b[0m         handle \u001b[39m=\u001b[39m \u001b[39mopen\u001b[39;49m(\n\u001b[1;32m    <a href='file:///Users/hannah.spitzer/opt/miniconda3/envs/campa/lib/python3.9/site-packages/pandas/io/common.py?line=789'>790</a>\u001b[0m             handle,\n\u001b[1;32m    <a href='file:///Users/hannah.spitzer/opt/miniconda3/envs/campa/lib/python3.9/site-packages/pandas/io/common.py?line=790'>791</a>\u001b[0m             ioargs\u001b[39m.\u001b[39;49mmode,\n\u001b[1;32m    <a href='file:///Users/hannah.spitzer/opt/miniconda3/envs/campa/lib/python3.9/site-packages/pandas/io/common.py?line=791'>792</a>\u001b[0m             encoding\u001b[39m=\u001b[39;49mioargs\u001b[39m.\u001b[39;49mencoding,\n\u001b[1;32m    <a href='file:///Users/hannah.spitzer/opt/miniconda3/envs/campa/lib/python3.9/site-packages/pandas/io/common.py?line=792'>793</a>\u001b[0m             errors\u001b[39m=\u001b[39;49merrors,\n\u001b[1;32m    <a href='file:///Users/hannah.spitzer/opt/miniconda3/envs/campa/lib/python3.9/site-packages/pandas/io/common.py?line=793'>794</a>\u001b[0m             newline\u001b[39m=\u001b[39;49m\u001b[39m\"\u001b[39;49m\u001b[39m\"\u001b[39;49m,\n\u001b[1;32m    <a href='file:///Users/hannah.spitzer/opt/miniconda3/envs/campa/lib/python3.9/site-packages/pandas/io/common.py?line=794'>795</a>\u001b[0m         )\n\u001b[1;32m    <a href='file:///Users/hannah.spitzer/opt/miniconda3/envs/campa/lib/python3.9/site-packages/pandas/io/common.py?line=795'>796</a>\u001b[0m     \u001b[39melse\u001b[39;00m:\n\u001b[1;32m    <a href='file:///Users/hannah.spitzer/opt/miniconda3/envs/campa/lib/python3.9/site-packages/pandas/io/common.py?line=796'>797</a>\u001b[0m         \u001b[39m# Binary mode\u001b[39;00m\n\u001b[1;32m    <a href='file:///Users/hannah.spitzer/opt/miniconda3/envs/campa/lib/python3.9/site-packages/pandas/io/common.py?line=797'>798</a>\u001b[0m         handle \u001b[39m=\u001b[39m \u001b[39mopen\u001b[39m(handle, ioargs\u001b[39m.\u001b[39mmode)\n",
      "\u001b[0;31mFileNotFoundError\u001b[0m: [Errno 2] No such file or directory: '/Users/hannah.spitzer/projects/pelkmans/software_new/campa/notebooks/example_data/raw/184A1_unperturbed/I09/metadata.csv'"
     ]
    }
   ],
   "source": [
    "create_dataset(config.data_params)"
   ]
  },
  {
   "cell_type": "markdown",
   "metadata": {},
   "source": [
    "## Use NNDataset\n",
    "\n",
    "After creating the dataset, we can inspect it using `NNDataset`.\n",
    "\n",
    "TODO: more comments + description here?"
   ]
  },
  {
   "cell_type": "code",
   "execution_count": 4,
   "metadata": {},
   "outputs": [
    {
     "name": "stderr",
     "output_type": "stream",
     "text": [
      "INFO:MPPData:Created new: MPPData for NascentRNA (50310 mpps with shape (3, 3, 34) from 35 objects). Data keys: ['x', 'y', 'obj_ids', 'mpp', 'labels', 'conditions'].\n",
      "INFO:MPPData:Loaded data from /home/icb/hannah.spitzer/projects/pelkmans/software_new/campa/notebooks/example_data/datasets/184A1_test_dataset/train.\n",
      "INFO:MPPData:Created new: MPPData for NascentRNA (12340 mpps with shape (3, 3, 34) from 8 objects). Data keys: ['x', 'y', 'obj_ids', 'mpp', 'labels', 'conditions'].\n",
      "INFO:MPPData:Loaded data from /home/icb/hannah.spitzer/projects/pelkmans/software_new/campa/notebooks/example_data/datasets/184A1_test_dataset/val.\n",
      "INFO:MPPData:Created new: MPPData for NascentRNA (4541 mpps with shape (3, 3, 34) from 3 objects). Data keys: ['x', 'y', 'obj_ids', 'mpp', 'labels', 'conditions'].\n",
      "INFO:MPPData:Loaded data from /home/icb/hannah.spitzer/projects/pelkmans/software_new/campa/notebooks/example_data/datasets/184A1_test_dataset/test.\n",
      "INFO:MPPData:Created new: MPPData for NascentRNA (123401 mpps with shape (1, 1, 34) from 8 objects). Data keys: ['x', 'y', 'obj_ids', 'mpp', 'labels', 'conditions'].\n",
      "INFO:MPPData:Loaded data from /home/icb/hannah.spitzer/projects/pelkmans/software_new/campa/notebooks/example_data/datasets/184A1_test_dataset/val_imgs.\n",
      "INFO:MPPData:Created new: MPPData for NascentRNA (45418 mpps with shape (1, 1, 34) from 3 objects). Data keys: ['x', 'y', 'obj_ids', 'mpp', 'labels', 'conditions'].\n",
      "INFO:MPPData:Loaded data from /home/icb/hannah.spitzer/projects/pelkmans/software_new/campa/notebooks/example_data/datasets/184A1_test_dataset/test_imgs.\n"
     ]
    }
   ],
   "source": [
    "dataset_name = \"184A1_test_dataset\"\n",
    "ds = NNDataset(dataset_name, data_config=\"TestData\")"
   ]
  },
  {
   "cell_type": "code",
   "execution_count": 5,
   "metadata": {},
   "outputs": [
    {
     "name": "stdout",
     "output_type": "stream",
     "text": [
      "(12340, 3, 3, 34)\n",
      "(50310, 3, 3, 34) (50310, 14)\n"
     ]
    }
   ],
   "source": [
    "# dataset has attributes x and y (NN input + output)\n",
    "# x is either mpp or mpp+condition\n",
    "x = ds.x(\"val\", is_conditional=False)\n",
    "print(x.shape)\n",
    "\n",
    "x, c = ds.x(\"train\", is_conditional=True)\n",
    "print(x.shape, c.shape)"
   ]
  },
  {
   "cell_type": "code",
   "execution_count": 6,
   "metadata": {},
   "outputs": [
    {
     "name": "stdout",
     "output_type": "stream",
     "text": [
      "MPPData for NascentRNA (50310 mpps with shape (3, 3, 34) from 35 objects). Data keys: ['x', 'y', 'obj_ids', 'mpp', 'labels', 'conditions'].\n"
     ]
    }
   ],
   "source": [
    "# dataset has data attributes with train/val/test data and img attribute with val/test image data.\n",
    "# each split is represented as an MPPData object\n",
    "print(ds.data[\"train\"])"
   ]
  },
  {
   "cell_type": "code",
   "execution_count": 7,
   "metadata": {},
   "outputs": [
    {
     "data": {
      "text/plain": [
       "<matplotlib.image.AxesImage at 0x7fe95f4e73a0>"
      ]
     },
     "execution_count": 7,
     "metadata": {},
     "output_type": "execute_result"
    },
    {
     "data": {
      "image/png": "[encoded data removed]",
      "text/plain": [
       "<Figure size 432x288 with 1 Axes>"
      ]
     },
     "metadata": {
      "needs_background": "light"
     },
     "output_type": "display_data"
    }
   ],
   "source": [
    "# ds.imgs contains the test and val image splits as MPPData objects\n",
    "# we can plot images from the test_img / val_img split\n",
    "import matplotlib.pyplot as plt\n",
    "\n",
    "plt.imshow(ds.imgs[\"test\"].get_object_img(ds.imgs[\"test\"].obj_ids[0], channel_ids=0, img_size=255)[:, :, 0])"
   ]
  },
  {
   "cell_type": "code",
   "execution_count": 8,
   "metadata": {},
   "outputs": [
    {
     "name": "stdout",
     "output_type": "stream",
     "text": [
      "<FlatMapDataset shapes: (((3, 3, 34), (14,)), (34,)), types: ((tf.float32, tf.float32), tf.float32)>\n",
      "(<tf.Tensor: shape=(3, 3, 34), dtype=float32, numpy=\n",
      "array([[[0.0936107 , 0.26630774, 0.07320934, 0.15940166, 0.36546448,\n",
      "         0.3404446 , 0.45454368, 0.37173337, 0.60624796, 0.3960421 ,\n",
      "         0.8255608 , 0.3494866 , 0.39361078, 0.09944887, 0.26922902,\n",
      "         0.59656715, 0.18625735, 0.04901129, 0.2675152 , 0.42029494,\n",
      "         0.38429663, 0.72124416, 0.29912266, 0.09898952, 0.3727516 ,\n",
      "         0.47532848, 0.26298115, 0.04432724, 0.485047  , 0.2930464 ,\n",
      "         0.38888854, 0.01815833, 0.48511842, 0.01315851],\n",
      "        [0.27191678, 0.5353282 , 0.07320934, 0.42257965, 0.61927867,\n",
      "         0.0902684 , 0.43731877, 0.47501007, 0.60299385, 0.68134737,\n",
      "         0.27898467, 0.59968406, 0.50128734, 0.05882251, 0.42537665,\n",
      "         0.63191956, 0.15770498, 0.00224136, 0.29526088, 0.5331579 ,\n",
      "         0.46299556, 0.91184646, 0.26879478, 0.03811043, 0.27625182,\n",
      "         0.3237032 , 0.21215226, 0.07285479, 0.5172316 , 0.27847004,\n",
      "         0.43369552, 0.03434254, 0.31349123, 0.035285  ],\n",
      "        [0.6879643 , 0.31522056, 0.15620552, 0.5482766 , 0.2766295 ,\n",
      "         0.3404446 , 0.24210282, 0.518042  , 0.46631956, 0.58130527,\n",
      "         0.34876034, 0.509613  , 0.55229205, 0.06559356, 0.3504258 ,\n",
      "         0.57785124, 0.12201451, 0.        , 0.29526088, 0.461336  ,\n",
      "         0.4236461 , 0.7593646 , 0.48108995, 0.03811043, 0.4451264 ,\n",
      "         0.37905845, 0.31381002, 0.05145913, 0.48674092, 0.40236914,\n",
      "         0.4028907 , 0.05052674, 0.22767763, 0.00873322]],\n",
      "\n",
      "       [[0.52451706, 0.36413336, 0.12854013, 0.23796226, 0.5558251 ,\n",
      "         0.40867448, 0.54066837, 0.39755252, 0.49235275, 0.4256842 ,\n",
      "         0.33713108, 0.27943128, 0.280267  , 0.08590675, 0.2504913 ,\n",
      "         0.5487375 , 0.18625735, 0.14255117, 0.20647483, 0.461336  ,\n",
      "         0.45605153, 0.68312365, 0.33703253, 0.05434485, 0.62606347,\n",
      "         0.4007192 , 0.62725484, 0.17983308, 0.40035078, 0.15457097,\n",
      "         0.46029967, 0.01815833, 0.01314364, 0.0529862 ],\n",
      "        [0.4205052 , 0.55978465, 0.04554394, 0.3872274 , 0.5938973 ,\n",
      "         0.38593116, 0.4028689 , 0.40615892, 0.60624796, 0.5998316 ,\n",
      "         0.31387252, 0.52962875, 0.280267  , 0.05543697, 0.33168808,\n",
      "         0.569533  , 0.14342879, 0.03342132, 0.2675152 , 0.49211678,\n",
      "         0.4768836 , 0.7784248 , 0.2915407 , 0.11928254, 0.3968765 ,\n",
      "         0.4103462 , 0.36463892, 0.12990987, 0.44439283, 0.2566055 ,\n",
      "         0.44489726, 0.        , 0.27058443, 0.07511269],\n",
      "        [0.45022288, 0.38858977, 0.15620552, 0.67397356, 0.2512481 ,\n",
      "         0.3177013 , 0.3799023 , 0.36312696, 0.5964855 , 0.4479158 ,\n",
      "         0.33713108, 0.49960506, 0.41061234, 0.15361735, 0.19427815,\n",
      "         0.5071465 , 0.12201451, 0.11137121, 0.27306435, 0.38951412,\n",
      "         0.41670206, 0.9428193 , 0.23088494, 0.02999322, 0.34862664,\n",
      "         0.38868546, 0.35616744, 0.1156461 , 0.47318953, 0.21287642,\n",
      "         0.41829312, 0.01815833, 0.31349123, 0.035285  ]],\n",
      "\n",
      "       [[0.45022288, 0.82880515, 0.05937664, 0.39115542, 0.65735084,\n",
      "         0.24947144, 0.2535861 , 0.518042  , 0.60950214, 0.36269474,\n",
      "         0.918595  , 0.48959717, 0.3369389 , 0.2585688 , 0.3504258 ,\n",
      "         0.5362602 , 0.1291526 , 0.00224136, 0.22867134, 0.5126373 ,\n",
      "         0.48614228, 0.71409655, 0.41285223, 0.31409562, 0.50543875,\n",
      "         0.3766517 , 0.47476816, 0.14417365, 0.38171762, 0.28575823,\n",
      "         0.53171086, 0.03434254, 0.6567456 , 0.0529862 ],\n",
      "        [0.30163446, 0.21739492, 0.10087473, 0.35580313, 0.45429945,\n",
      "         0.24947144, 0.28229433, 0.518042  , 0.5867231 , 0.42938948,\n",
      "         0.34876034, 0.35949448, 0.39927796, 0.13330418, 0.2567372 ,\n",
      "         0.5840899 , 0.1291526 , 0.08019125, 0.52277505, 0.4151648 ,\n",
      "         0.5231771 , 0.77365977, 0.22330296, 0.11928254, 0.408939  ,\n",
      "         0.45126095, 0.28839558, 0.22975628, 0.40035078, 0.38050458,\n",
      "         0.5359115 , 0.        , 0.48511842, 0.03085971],\n",
      "        [0.3164933 , 0.41304618, 0.01787855, 0.54434854, 0.40353662,\n",
      "         0.3177013 , 0.35119408, 0.5524676 , 0.5314025 , 0.2774737 ,\n",
      "         0.16269188, 0.6397157 , 0.37094203, 0.04528038, 0.38790125,\n",
      "         0.5653739 , 0.15056688, 0.        , 0.39514515, 0.36899358,\n",
      "         0.59030265, 0.9237591 , 0.39010632, 0.09493091, 0.42100146,\n",
      "         0.3766517 , 0.30533856, 0.22262439, 0.43422928, 0.38050458,\n",
      "         0.48970428, 0.        , 0.35639802, 0.02643441]]], dtype=float32)>, <tf.Tensor: shape=(14,), dtype=float32, numpy=\n",
      "array([0., 0., 0., 0., 0., 0., 0., 0., 0., 1., 0., 1., 0., 0.],\n",
      "      dtype=float32)>)\n",
      "tf.Tensor(\n",
      "[0.4205052  0.55978465 0.04554394 0.3872274  0.5938973  0.38593116\n",
      " 0.4028689  0.40615892 0.60624796 0.5998316  0.31387252 0.52962875\n",
      " 0.280267   0.05543697 0.33168808 0.569533   0.14342879 0.03342132\n",
      " 0.2675152  0.49211678 0.4768836  0.7784248  0.2915407  0.11928254\n",
      " 0.3968765  0.4103462  0.36463892 0.12990987 0.44439283 0.2566055\n",
      " 0.44489726 0.         0.27058443 0.07511269], shape=(34,), dtype=float32)\n"
     ]
    },
    {
     "name": "stderr",
     "output_type": "stream",
     "text": [
      "2022-03-24 12:58:29.185523: I tensorflow/core/platform/cpu_feature_guard.cc:142] This TensorFlow binary is optimized with oneAPI Deep Neural Network Library (oneDNN) to use the following CPU instructions in performance-critical operations:  SSE4.1 SSE4.2 AVX AVX2 FMA\n",
      "To enable them in other operations, rebuild TensorFlow with the appropriate compiler flags.\n",
      "2022-03-24 12:58:29.247882: I tensorflow/compiler/mlir/mlir_graph_optimization_pass.cc:185] None of the MLIR Optimization Passes are enabled (registered 2)\n"
     ]
    }
   ],
   "source": [
    "# dataset can returrn a tf dataset for using with e.g. keras\n",
    "tf_ds = ds.get_tf_dataset(split=\"train\", is_conditional=True)\n",
    "print(tf_ds)\n",
    "\n",
    "for x, y in tf_ds.take(1):\n",
    "    print(x)\n",
    "    print(y)"
   ]
  }
 ],
 "metadata": {
  "interpreter": {
   "hash": "7c3012f799b3ef2382f56288364f3b4f8c7ccb2db3eb0b0379ff9e09fc414115"
  },
  "kernelspec": {
   "display_name": "Python 3 (ipykernel)",
   "language": "python",
   "name": "python3"
  },
  "language_info": {
   "codemirror_mode": {
    "name": "ipython",
    "version": 3
   },
   "file_extension": ".py",
   "mimetype": "text/x-python",
   "name": "python",
   "nbconvert_exporter": "python",
   "pygments_lexer": "ipython3",
   "version": "3.9.7"
  }
 },
 "nbformat": 4,
 "nbformat_minor": 4
}
