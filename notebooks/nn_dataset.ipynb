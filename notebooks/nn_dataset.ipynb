{
 "cells": [
  {
   "cell_type": "markdown",
   "metadata": {},
   "source": [
    "# NNDataset for training neural networks\n",
    "A NNDataset is a collection of MPPDatas (one for train/val/test). It is created using a parameter file defining its properties.\n",
    "\n",
    "This notebooks shows:\n",
    "- how to create a dataset from parameters\n",
    "- how to iterate over an existing dataset\n",
    "TODO for actual examples, need to handle downloading of files\n",
    "TODO add more info text \n",
    "TODO change dataset?\n",
    "\n",
    "+ example creation from params dict here!\n",
    "+ after creation load NNDataset + show how to iterate over samples for training"
   ]
  },
  {
   "cell_type": "code",
   "execution_count": 2,
   "metadata": {},
   "outputs": [],
   "source": [
    "import logging\n",
    "logging.basicConfig(level=logging.INFO)\n",
    "\n",
    "from miann.data import NNDataset\n",
    "from miann.data import create_dataset\n",
    "from miann.utils import load_config\n"
   ]
  },
  {
   "cell_type": "markdown",
   "metadata": {},
   "source": [
    "## Create NNDataset\n",
    "NNDataset is created with a config file that specifies from which folders to take the data and how to preprocess the data.\n",
    "\n",
    "Below a dataset is created and saved to DATASET_DIR/184A1_test_dataset. Alternatively to this code, the NNDataset can also easily be created with the cli:\n",
    "`python create_dataset.py params/example_data_params.py`"
   ]
  },
  {
   "cell_type": "code",
   "execution_count": 3,
   "metadata": {},
   "outputs": [
    {
     "data": {
      "text/plain": [
       "{'dataset_name': '184A1_test_dataset',\n",
       " 'data_config': 'NascentRNA',\n",
       " 'data_dirs': ['184A1_unperturbed/I09',\n",
       "  '184A1_unperturbed/I11',\n",
       "  '184A1_meayamycin/I12',\n",
       "  '184A1_meayamycin/I20'],\n",
       " 'channels': ['01_CDK9_pT186',\n",
       "  '01_PABPC1',\n",
       "  '02_CDK7',\n",
       "  '03_CDK9',\n",
       "  '03_RPS6',\n",
       "  '05_GTF2B',\n",
       "  '05_Sm',\n",
       "  '07_POLR2A',\n",
       "  '07_SETD1A',\n",
       "  '08_H3K4me3',\n",
       "  '09_CCNT1',\n",
       "  '09_SRRM2',\n",
       "  '10_H3K27ac',\n",
       "  '10_POL2RA_pS2',\n",
       "  '11_KPNA2_MAX',\n",
       "  '11_PML',\n",
       "  '12_RB1_pS807_S811',\n",
       "  '12_YAP1',\n",
       "  '13_PABPN1',\n",
       "  '13_POL2RA_pS5',\n",
       "  '14_PCNA',\n",
       "  '15_SON',\n",
       "  '15_U2SNRNPB',\n",
       "  '16_H3',\n",
       "  '17_HDAC3',\n",
       "  '17_SRSF2',\n",
       "  '18_NONO',\n",
       "  '19_KPNA1_MAX',\n",
       "  '20_ALYREF',\n",
       "  '20_SP100',\n",
       "  '21_COIL',\n",
       "  '21_NCL',\n",
       "  '00_DAPI',\n",
       "  '07_H2B'],\n",
       " 'condition': ['perturbation_duration_one_hot', 'cell_cycle_one_hot'],\n",
       " 'condition_kwargs': {'cond_params': {}},\n",
       " 'split_kwargs': {'train_frac': 0.9, 'val_frac': 0.05},\n",
       " 'test_img_size': 225,\n",
       " 'subset': True,\n",
       " 'subset_kwargs': {'frac': None,\n",
       "  'nona_condition': True,\n",
       "  'cell_cycle': 'NO_NAN'},\n",
       " 'subsample': True,\n",
       " 'subsample_kwargs': {'frac': 0.01,\n",
       "  'frac_per_obj': None,\n",
       "  'num': None,\n",
       "  'num_per_obj': None},\n",
       " 'neighborhood': True,\n",
       " 'neighborhood_size': 3,\n",
       " 'normalise': True,\n",
       " 'normalise_kwargs': {'background_value': 'mean_background',\n",
       "  'percentile': 98.0,\n",
       "  'rescale_values': []},\n",
       " 'seed': 42}"
      ]
     },
     "execution_count": 3,
     "metadata": {},
     "output_type": "execute_result"
    }
   ],
   "source": [
    "config = load_config(\"params/example_data_params.py\")\n",
    "config.data_params\n"
   ]
  },
  {
   "cell_type": "code",
   "execution_count": 4,
   "metadata": {},
   "outputs": [
    {
     "name": "stderr",
     "output_type": "stream",
     "text": [
      "INFO:root:Creating train/val/test datasets with params:\n",
      "INFO:root:{\n",
      "    \"dataset_name\": \"184A1_test_dataset\",\n",
      "    \"data_config\": \"NascentRNA\",\n",
      "    \"data_dirs\": [\n",
      "        \"184A1_unperturbed/I09\",\n",
      "        \"184A1_unperturbed/I11\",\n",
      "        \"184A1_meayamycin/I12\",\n",
      "        \"184A1_meayamycin/I20\"\n",
      "    ],\n",
      "    \"channels\": [\n",
      "        \"01_CDK9_pT186\",\n",
      "        \"01_PABPC1\",\n",
      "        \"02_CDK7\",\n",
      "        \"03_CDK9\",\n",
      "        \"03_RPS6\",\n",
      "        \"05_GTF2B\",\n",
      "        \"05_Sm\",\n",
      "        \"07_POLR2A\",\n",
      "        \"07_SETD1A\",\n",
      "        \"08_H3K4me3\",\n",
      "        \"09_CCNT1\",\n",
      "        \"09_SRRM2\",\n",
      "        \"10_H3K27ac\",\n",
      "        \"10_POL2RA_pS2\",\n",
      "        \"11_KPNA2_MAX\",\n",
      "        \"11_PML\",\n",
      "        \"12_RB1_pS807_S811\",\n",
      "        \"12_YAP1\",\n",
      "        \"13_PABPN1\",\n",
      "        \"13_POL2RA_pS5\",\n",
      "        \"14_PCNA\",\n",
      "        \"15_SON\",\n",
      "        \"15_U2SNRNPB\",\n",
      "        \"16_H3\",\n",
      "        \"17_HDAC3\",\n",
      "        \"17_SRSF2\",\n",
      "        \"18_NONO\",\n",
      "        \"19_KPNA1_MAX\",\n",
      "        \"20_ALYREF\",\n",
      "        \"20_SP100\",\n",
      "        \"21_COIL\",\n",
      "        \"21_NCL\",\n",
      "        \"00_DAPI\",\n",
      "        \"07_H2B\"\n",
      "    ],\n",
      "    \"condition\": [\n",
      "        \"perturbation_duration_one_hot\",\n",
      "        \"cell_cycle_one_hot\"\n",
      "    ],\n",
      "    \"condition_kwargs\": {\n",
      "        \"cond_params\": {}\n",
      "    },\n",
      "    \"split_kwargs\": {\n",
      "        \"train_frac\": 0.9,\n",
      "        \"val_frac\": 0.05\n",
      "    },\n",
      "    \"test_img_size\": 225,\n",
      "    \"subset\": true,\n",
      "    \"subset_kwargs\": {\n",
      "        \"frac\": null,\n",
      "        \"nona_condition\": true,\n",
      "        \"cell_cycle\": \"NO_NAN\"\n",
      "    },\n",
      "    \"subsample\": true,\n",
      "    \"subsample_kwargs\": {\n",
      "        \"frac\": 0.01,\n",
      "        \"frac_per_obj\": null,\n",
      "        \"num\": null,\n",
      "        \"num_per_obj\": null\n",
      "    },\n",
      "    \"neighborhood\": true,\n",
      "    \"neighborhood_size\": 3,\n",
      "    \"normalise\": true,\n",
      "    \"normalise_kwargs\": {\n",
      "        \"background_value\": \"mean_background\",\n",
      "        \"percentile\": 98.0,\n",
      "        \"rescale_values\": []\n",
      "    },\n",
      "    \"seed\": 42\n",
      "}\n",
      "INFO:MPPData:Created new: MPPData for NascentRNA (12132995 mpps with shape (1, 1, 35) from 886 objects). Data keys: ['x', 'y', 'mpp', 'obj_ids', 'labels'].\n",
      "INFO:MPPData:Splitting data in 797 train, 44 val, and 45 test objects\n",
      "INFO:MPPData:Created new: MPPData for NascentRNA (10871965 mpps with shape (1, 1, 35) from 797 objects). Data keys: ['x', 'y', 'mpp', 'obj_ids', 'labels'].\n",
      "INFO:MPPData:Created new: MPPData for NascentRNA (588444 mpps with shape (1, 1, 35) from 44 objects). Data keys: ['x', 'y', 'mpp', 'obj_ids', 'labels'].\n",
      "INFO:MPPData:Created new: MPPData for NascentRNA (672586 mpps with shape (1, 1, 35) from 45 objects). Data keys: ['x', 'y', 'mpp', 'obj_ids', 'labels'].\n",
      "INFO:MPPData:Subsampling from 10871965 to 108719\n",
      "INFO:MPPData:Created new: MPPData for NascentRNA (108719 mpps with shape (1, 1, 35) from 797 objects). Data keys: ['x', 'y', 'mpp', 'obj_ids', 'labels'].\n",
      "INFO:MPPData:Adding neighborhood of size 3\n",
      "INFO:MPPData:Created new: MPPData for NascentRNA (14097457 mpps with shape (1, 1, 35) from 1025 objects). Data keys: ['x', 'y', 'mpp', 'obj_ids', 'labels'].\n",
      "INFO:MPPData:Splitting data in 922 train, 51 val, and 52 test objects\n",
      "INFO:MPPData:Created new: MPPData for NascentRNA (12698994 mpps with shape (1, 1, 35) from 922 objects). Data keys: ['x', 'y', 'mpp', 'obj_ids', 'labels'].\n",
      "INFO:MPPData:Created new: MPPData for NascentRNA (711896 mpps with shape (1, 1, 35) from 51 objects). Data keys: ['x', 'y', 'mpp', 'obj_ids', 'labels'].\n",
      "INFO:MPPData:Created new: MPPData for NascentRNA (686567 mpps with shape (1, 1, 35) from 52 objects). Data keys: ['x', 'y', 'mpp', 'obj_ids', 'labels'].\n",
      "INFO:MPPData:Subsampling from 12698994 to 126989\n",
      "INFO:MPPData:Created new: MPPData for NascentRNA (126989 mpps with shape (1, 1, 35) from 922 objects). Data keys: ['x', 'y', 'mpp', 'obj_ids', 'labels'].\n",
      "INFO:MPPData:Adding neighborhood of size 3\n",
      "INFO:MPPData:Created new: MPPData for NascentRNA (9629732 mpps with shape (1, 1, 35) from 556 objects). Data keys: ['x', 'y', 'mpp', 'obj_ids', 'labels'].\n",
      "INFO:MPPData:Splitting data in 500 train, 27 val, and 29 test objects\n",
      "INFO:MPPData:Created new: MPPData for NascentRNA (8698566 mpps with shape (1, 1, 35) from 500 objects). Data keys: ['x', 'y', 'mpp', 'obj_ids', 'labels'].\n",
      "INFO:MPPData:Created new: MPPData for NascentRNA (476458 mpps with shape (1, 1, 35) from 27 objects). Data keys: ['x', 'y', 'mpp', 'obj_ids', 'labels'].\n",
      "INFO:MPPData:Created new: MPPData for NascentRNA (454708 mpps with shape (1, 1, 35) from 29 objects). Data keys: ['x', 'y', 'mpp', 'obj_ids', 'labels'].\n",
      "INFO:MPPData:Subsampling from 8698566 to 86985\n",
      "INFO:MPPData:Created new: MPPData for NascentRNA (86985 mpps with shape (1, 1, 35) from 500 objects). Data keys: ['x', 'y', 'mpp', 'obj_ids', 'labels'].\n",
      "INFO:MPPData:Adding neighborhood of size 3\n",
      "INFO:MPPData:Created new: MPPData for NascentRNA (11794428 mpps with shape (1, 1, 35) from 692 objects). Data keys: ['x', 'y', 'mpp', 'obj_ids', 'labels'].\n",
      "INFO:MPPData:Splitting data in 622 train, 34 val, and 36 test objects\n",
      "INFO:MPPData:Created new: MPPData for NascentRNA (10550816 mpps with shape (1, 1, 35) from 622 objects). Data keys: ['x', 'y', 'mpp', 'obj_ids', 'labels'].\n",
      "INFO:MPPData:Created new: MPPData for NascentRNA (612854 mpps with shape (1, 1, 35) from 34 objects). Data keys: ['x', 'y', 'mpp', 'obj_ids', 'labels'].\n",
      "INFO:MPPData:Created new: MPPData for NascentRNA (630758 mpps with shape (1, 1, 35) from 36 objects). Data keys: ['x', 'y', 'mpp', 'obj_ids', 'labels'].\n",
      "INFO:MPPData:Subsampling from 10550816 to 105508\n",
      "INFO:MPPData:Created new: MPPData for NascentRNA (105508 mpps with shape (1, 1, 35) from 622 objects). Data keys: ['x', 'y', 'mpp', 'obj_ids', 'labels'].\n",
      "INFO:MPPData:Adding neighborhood of size 3\n",
      "INFO:MPPData:Created new: MPPData for NascentRNA (428201 mpps with shape (3, 3, 35) from 2841 objects). Data keys: ['x', 'y', 'mpp', 'obj_ids', 'labels'].\n",
      "INFO:MPPData:Created by concatenating 4 MPPDatas\n",
      "INFO:MPPData:Created new: MPPData for NascentRNA (2389652 mpps with shape (1, 1, 35) from 156 objects). Data keys: ['x', 'y', 'mpp', 'obj_ids', 'labels'].\n",
      "INFO:MPPData:Created by concatenating 4 MPPDatas\n",
      "INFO:MPPData:Created new: MPPData for NascentRNA (2444619 mpps with shape (1, 1, 35) from 162 objects). Data keys: ['x', 'y', 'mpp', 'obj_ids', 'labels'].\n",
      "INFO:MPPData:Created by concatenating 4 MPPDatas\n",
      "INFO:MPPData:Restricted channels to 34 channels\n",
      "INFO:MPPData:Subtracting channel-specific background value defined in column mean_background\n",
      "INFO:MPPData:Rescaling MPP intensities per channel with 98.0 percentile\n",
      "INFO:MPPData:Adding conditions: ['perturbation_duration_one_hot', 'cell_cycle_one_hot']\n",
      "INFO:MPPData:Looking up condition perturbation_duration, with postprocess one_hot\n",
      "INFO:convert_condition:Converting condition perturbation_duration to numbers\n",
      "INFO:MPPData:Looking up condition cell_cycle, with postprocess one_hot\n",
      "INFO:convert_condition:Converting condition cell_cycle to numbers\n",
      "INFO:MPPData:Before subsetting: 2841 objects\n",
      "INFO:MPPData:Subsetting to NO_NAN cell_cycle: 1768 objects\n",
      "INFO:MPPData:Subsetting to objects with NO_NAN condition: 1768\n",
      "INFO:MPPData:Restricted channels to 34 channels\n",
      "INFO:MPPData:Subtracting channel-specific background value defined in column mean_background\n",
      "INFO:MPPData:Rescaling MPP intensities per channels with predefined values\n",
      "INFO:MPPData:Adding conditions: ['perturbation_duration_one_hot', 'cell_cycle_one_hot']\n",
      "INFO:MPPData:Looking up condition perturbation_duration, with postprocess one_hot\n",
      "INFO:convert_condition:Converting condition perturbation_duration to numbers\n",
      "INFO:MPPData:Looking up condition cell_cycle, with postprocess one_hot\n",
      "INFO:convert_condition:Converting condition cell_cycle to numbers\n",
      "INFO:MPPData:Before subsetting: 156 objects\n",
      "INFO:MPPData:Subsetting to NO_NAN cell_cycle: 88 objects\n",
      "INFO:MPPData:Subsetting to objects with NO_NAN condition: 88\n",
      "INFO:MPPData:Restricted channels to 34 channels\n",
      "INFO:MPPData:Subtracting channel-specific background value defined in column mean_background\n",
      "INFO:MPPData:Rescaling MPP intensities per channels with predefined values\n",
      "INFO:MPPData:Adding conditions: ['perturbation_duration_one_hot', 'cell_cycle_one_hot']\n",
      "INFO:MPPData:Looking up condition perturbation_duration, with postprocess one_hot\n",
      "INFO:convert_condition:Converting condition perturbation_duration to numbers\n",
      "INFO:MPPData:Looking up condition cell_cycle, with postprocess one_hot\n",
      "INFO:convert_condition:Converting condition cell_cycle to numbers\n",
      "INFO:MPPData:Before subsetting: 162 objects\n",
      "INFO:MPPData:Subsetting to NO_NAN cell_cycle: 101 objects\n",
      "INFO:MPPData:Subsetting to objects with NO_NAN condition: 101\n",
      "INFO:MPPData:Saving mpp data to /Users/hannah.spitzer/projects/pelkmans/local_data/NascentRNA_new/datasets/184A1_test_dataset/val_imgs (keys: ['conditions', 'y', 'labels', 'mpp', 'x', 'obj_ids'])\n",
      "INFO:MPPData:Saving mpp data to /Users/hannah.spitzer/projects/pelkmans/local_data/NascentRNA_new/datasets/184A1_test_dataset/test_imgs (keys: ['conditions', 'y', 'labels', 'mpp', 'x', 'obj_ids'])\n",
      "INFO:MPPData:Subsampling from 1184845 to 11848\n",
      "INFO:MPPData:Created new: MPPData for NascentRNA (11848 mpps with shape (1, 1, 34) from 88 objects). Data keys: ['x', 'y', 'mpp', 'obj_ids', 'labels', 'conditions'].\n",
      "INFO:MPPData:Adding neighborhood of size 3\n",
      "INFO:MPPData:Subsampling from 1423116 to 14231\n",
      "INFO:MPPData:Created new: MPPData for NascentRNA (14231 mpps with shape (1, 1, 34) from 101 objects). Data keys: ['x', 'y', 'mpp', 'obj_ids', 'labels', 'conditions'].\n",
      "INFO:MPPData:Adding neighborhood of size 3\n",
      "INFO:root:-------------------\n",
      "INFO:root:created datasets:\n",
      "INFO:root:train: MPPData for NascentRNA (246467 mpps with shape (3, 3, 34) from 1768 objects). Data keys: ['x', 'y', 'mpp', 'obj_ids', 'labels', 'conditions'].\n",
      "INFO:root:val: MPPData for NascentRNA (11848 mpps with shape (3, 3, 34) from 88 objects). Data keys: ['x', 'y', 'mpp', 'obj_ids', 'labels', 'conditions'].\n",
      "INFO:root:test: MPPData for NascentRNA (14231 mpps with shape (3, 3, 34) from 101 objects). Data keys: ['x', 'y', 'mpp', 'obj_ids', 'labels', 'conditions'].\n",
      "INFO:root:-------------------\n",
      "INFO:MPPData:Saving mpp data to /Users/hannah.spitzer/projects/pelkmans/local_data/NascentRNA_new/datasets/184A1_test_dataset/train (keys: ['conditions', 'y', 'labels', 'mpp', 'x', 'obj_ids'])\n",
      "INFO:MPPData:Saving mpp data to /Users/hannah.spitzer/projects/pelkmans/local_data/NascentRNA_new/datasets/184A1_test_dataset/val (keys: ['conditions', 'y', 'labels', 'mpp', 'x', 'obj_ids'])\n",
      "INFO:MPPData:Saving mpp data to /Users/hannah.spitzer/projects/pelkmans/local_data/NascentRNA_new/datasets/184A1_test_dataset/test (keys: ['conditions', 'y', 'labels', 'mpp', 'x', 'obj_ids'])\n"
     ]
    }
   ],
   "source": [
    "create_dataset(config.data_params)"
   ]
  },
  {
   "cell_type": "markdown",
   "metadata": {},
   "source": [
    "## Use NNDataset"
   ]
  },
  {
   "cell_type": "code",
   "execution_count": 5,
   "metadata": {},
   "outputs": [
    {
     "name": "stderr",
     "output_type": "stream",
     "text": [
      "INFO:MPPData:Created new: MPPData for NascentRNA (246467 mpps with shape (3, 3, 34) from 1768 objects). Data keys: ['x', 'y', 'mpp', 'obj_ids', 'labels', 'conditions'].\n",
      "INFO:MPPData:Created new: MPPData for NascentRNA (11848 mpps with shape (3, 3, 34) from 88 objects). Data keys: ['x', 'y', 'mpp', 'obj_ids', 'labels', 'conditions'].\n",
      "INFO:MPPData:Created new: MPPData for NascentRNA (14231 mpps with shape (3, 3, 34) from 101 objects). Data keys: ['x', 'y', 'mpp', 'obj_ids', 'labels', 'conditions'].\n",
      "INFO:MPPData:Created new: MPPData for NascentRNA (1184845 mpps with shape (1, 1, 34) from 88 objects). Data keys: ['x', 'y', 'mpp', 'obj_ids', 'labels', 'conditions'].\n",
      "INFO:MPPData:Created new: MPPData for NascentRNA (1423116 mpps with shape (1, 1, 34) from 101 objects). Data keys: ['x', 'y', 'mpp', 'obj_ids', 'labels', 'conditions'].\n"
     ]
    }
   ],
   "source": [
    "dataset_name = '184A1_test_dataset'\n",
    "ds = NNDataset(dataset_name, data_config='NascentRNA')"
   ]
  },
  {
   "cell_type": "code",
   "execution_count": 8,
   "metadata": {},
   "outputs": [
    {
     "name": "stdout",
     "output_type": "stream",
     "text": [
      "(27999, 3, 3, 33)\n",
      "(219054, 3, 3, 33) (219054, 14)\n"
     ]
    }
   ],
   "source": [
    "# dataset has attributes x and y (NN input + output)\n",
    "# x is either mpp or mpp+condition\n",
    "x = ds.x('val', is_conditional=False)\n",
    "print(x.shape)\n",
    "\n",
    "x, c = ds.x('train', is_conditional=True)\n",
    "print(x.shape, c.shape)"
   ]
  },
  {
   "cell_type": "code",
   "execution_count": 9,
   "metadata": {},
   "outputs": [
    {
     "name": "stdout",
     "output_type": "stream",
     "text": [
      "MPPData for NascentRNA (219054 mpps with shape (3, 3, 33) from 1567 objects). Data keys: ['x', 'y', 'mpp', 'obj_ids', 'labels', 'conditions'].\n"
     ]
    }
   ],
   "source": [
    "# dataset has data attributes with train/val/test data and img attribute with val/test image data. \n",
    "# each split is represented as an MPPData object\n",
    "print(ds.data['train'])"
   ]
  },
  {
   "cell_type": "code",
   "execution_count": 10,
   "metadata": {},
   "outputs": [
    {
     "name": "stdout",
     "output_type": "stream",
     "text": [
      "<FlatMapDataset shapes: (((3, 3, 33), (14,)), (33,)), types: ((tf.float32, tf.float32), tf.float32)>\n",
      "(<tf.Tensor: shape=(3, 3, 33), dtype=float32, numpy=\n",
      "array([[[0.71139973, 0.63698417, 0.56148666, 0.96583056, 1.        ,\n",
      "         0.67017716, 0.89312196, 0.16038842, 0.91077   , 0.78846544,\n",
      "         0.943886  , 0.56684643, 0.7920429 , 0.05747046, 0.7373726 ,\n",
      "         0.68158317, 0.9722624 , 0.3875561 , 0.7465759 , 0.2821306 ,\n",
      "         0.6750523 , 0.5649243 , 0.85024047, 0.81841373, 0.71348804,\n",
      "         0.7679738 , 0.8613879 , 0.7724328 , 0.871772  , 0.33624777,\n",
      "         0.80515504, 0.72853166, 0.7531507 ],\n",
      "        [0.7979798 , 0.63698417, 1.0626447 , 0.97722036, 0.89395314,\n",
      "         0.5212249 , 1.1360266 , 0.16377395, 0.589542  , 1.1021202 ,\n",
      "         0.8597149 , 0.45395002, 0.9426325 , 0.0255203 , 0.6969684 ,\n",
      "         0.829684  , 0.965328  , 0.37308893, 0.80993193, 0.26581538,\n",
      "         0.60241693, 0.89123106, 0.4841617 , 0.854731  , 0.7288369 ,\n",
      "         0.6451364 , 0.5980249 , 0.56382954, 0.7893397 , 0.5212279 ,\n",
      "         0.70773256, 0.7013848 , 0.58858454],\n",
      "        [1.01443   , 0.6587031 , 0.68677616, 0.7494242 , 0.85488325,\n",
      "         0.5425038 , 1.2234722 , 0.08929228, 0.6192853 , 0.9854114 ,\n",
      "         0.7474868 , 0.40786988, 0.9856581 , 0.02951407, 0.70819175,\n",
      "         0.6667731 , 0.9583936 , 0.20912758, 0.86876255, 0.5105436 ,\n",
      "         0.7362189 , 0.4126478 , 0.4259219 , 0.6269228 , 0.6930229 ,\n",
      "         0.6665842 , 0.5980249 , 0.7108    , 0.7664419 , 0.36889133,\n",
      "         0.7480453 , 0.69595546, 0.547443  ]],\n",
      "\n",
      "       [[0.85569984, 0.76419485, 0.49884188, 0.7152548 , 0.9386045 ,\n",
      "         0.6382588 , 0.63078505, 0.03173826, 0.66687465, 0.73740536,\n",
      "         0.88216054, 0.48390213, 0.7275045 , 0.01753277, 0.6498301 ,\n",
      "         0.9851899 , 0.84050864, 0.20430519, 0.8959151 , 0.46159795,\n",
      "         0.7515106 , 0.49966297, 0.46752176, 0.686351  , 0.7186043 ,\n",
      "         0.5690942 , 0.5703025 , 0.6017574 , 0.6244752 , 0.4015349 ,\n",
      "         0.77995956, 0.70952886, 0.42401835],\n",
      "        [0.8701299 , 0.6028545 , 0.8120657 , 0.703865  , 0.648371  ,\n",
      "         0.9787211 , 0.83482486, 0.09606334, 0.69661796, 0.45292783,\n",
      "         0.60720176, 0.34566164, 0.7992138 , 0.03350784, 0.629628  ,\n",
      "         0.651963  , 0.8890495 , 0.21877237, 1.2081698 , 0.8694783 ,\n",
      "         0.7171044 , 0.7389546 , 0.47584173, 0.64343065, 0.8516277 ,\n",
      "         0.5456966 , 0.45941278, 0.715541  , 0.6862994 , 0.34712896,\n",
      "         0.6523025 , 0.6810247 , 0.3005937 ],\n",
      "        [1.        , 0.6680112 , 0.41531554, 0.8405427 , 0.7599993 ,\n",
      "         0.499946  , 1.1360266 , 0.02835273, 0.73825866, 1.0145886 ,\n",
      "         0.82043505, 0.29036543, 0.6844789 , 0.03350784, 0.7037024 ,\n",
      "         0.7926588 , 0.812771  , 0.24288432, 0.79183024, 0.7063261 ,\n",
      "         0.79356265, 0.8259697 , 0.20128264, 0.587304  , 0.6930229 ,\n",
      "         0.6626846 , 0.29307824, 0.7676918 , 0.7481236 , 0.3797725 ,\n",
      "         0.64390403, 0.53443176, 0.3005937 ]],\n",
      "\n",
      "       [[0.75468975, 0.6059572 , 0.645013  , 0.6924752 , 0.9386045 ,\n",
      "         0.5105854 , 0.57248795, 0.07236463, 0.81559134, 0.8614084 ,\n",
      "         0.6969842 , 0.35487768, 0.6844789 , 0.02951407, 0.76206404,\n",
      "         0.7778487 , 0.965328  , 0.11267973, 0.8506608 , 0.7552718 ,\n",
      "         0.68652105, 0.6084319 , 0.32608223, 0.6104149 , 0.84139514,\n",
      "         0.5476464 , 0.32080066, 0.6302033 , 0.6382139 , 0.35801014,\n",
      "         0.6119898 , 0.63080305, 0.42401835],\n",
      "        [0.88455987, 0.73937327, 0.66589457, 0.47606885, 0.49209142,\n",
      "         0.7552927 , 0.60163647, 0.03850932, 0.589542  , 0.61340237,\n",
      "         0.78676665, 0.31570953, 0.7131626 , 0.013539  , 0.7059471 ,\n",
      "         0.7704437 , 0.7434269 , 0.08374537, 0.94569486, 0.4289675 ,\n",
      "         0.96559376, 0.7389546 , 0.35104215, 0.587304  , 1.035814  ,\n",
      "         0.5963914 , 0.14060493, 0.6823541 , 0.6107364 , 0.44505963,\n",
      "         0.5817552 , 0.59551215, 0.17716908],\n",
      "        [0.88455987, 0.6121626 , 0.41531554, 0.44189942, 0.581394  ,\n",
      "         0.3829121 , 0.71823066, 0.02835273, 0.6192853 , 0.6571681 ,\n",
      "         0.6689272 , 0.2788454 , 0.84223944, 0.03750161, 0.5959578 ,\n",
      "         0.76303864, 0.7572958 , 0.13196929, 1.0724069 , 0.8205326 ,\n",
      "         0.9235417 , 1.3263068 , 0.3593621 , 0.48165378, 0.9079069 ,\n",
      "         0.4072608 , 0.22377218, 0.6254623 , 0.6244752 , 0.30360422,\n",
      "         0.571677  , 0.53171706, 0.21831062]]], dtype=float32)>, <tf.Tensor: shape=(14,), dtype=float32, numpy=\n",
      "array([0., 0., 0., 0., 0., 0., 0., 0., 0., 1., 0., 0., 1., 0.],\n",
      "      dtype=float32)>)\n",
      "tf.Tensor(\n",
      "[0.8701299  0.6028545  0.8120657  0.703865   0.648371   0.9787211\n",
      " 0.83482486 0.09606334 0.69661796 0.45292783 0.60720176 0.34566164\n",
      " 0.7992138  0.03350784 0.629628   0.651963   0.8890495  0.21877237\n",
      " 1.2081698  0.8694783  0.7171044  0.7389546  0.47584173 0.64343065\n",
      " 0.8516277  0.5456966  0.45941278 0.715541   0.6862994  0.34712896\n",
      " 0.6523025  0.6810247  0.3005937 ], shape=(33,), dtype=float32)\n"
     ]
    },
    {
     "name": "stderr",
     "output_type": "stream",
     "text": [
      "2021-11-06 16:25:32.124709: I tensorflow/core/platform/cpu_feature_guard.cc:142] This TensorFlow binary is optimized with oneAPI Deep Neural Network Library (oneDNN) to use the following CPU instructions in performance-critical operations:  SSE4.1 SSE4.2 AVX AVX2 FMA\n",
      "To enable them in other operations, rebuild TensorFlow with the appropriate compiler flags.\n",
      "2021-11-06 16:25:32.263399: I tensorflow/compiler/mlir/mlir_graph_optimization_pass.cc:185] None of the MLIR Optimization Passes are enabled (registered 2)\n"
     ]
    }
   ],
   "source": [
    "# dataset can returrn a tf dataset for using with e.g. keras\n",
    "tf_ds = ds.get_tf_dataset(split='train', is_conditional=True)\n",
    "print(tf_ds)\n",
    "\n",
    "for x,y in tf_ds.take(1):\n",
    "    print(x)\n",
    "    print(y)"
   ]
  },
  {
   "cell_type": "code",
   "execution_count": 11,
   "metadata": {},
   "outputs": [
    {
     "data": {
      "text/plain": [
       "[14, 24]"
      ]
     },
     "execution_count": 11,
     "metadata": {},
     "output_type": "execute_result"
    }
   ],
   "source": [
    "# dataset has fn for mapping channel orderings to channel ids TODO when do we need this?\n",
    "ds.get_channel_ids(['16_H3', '09_CCNT1'])"
   ]
  },
  {
   "cell_type": "code",
   "execution_count": null,
   "metadata": {},
   "outputs": [],
   "source": []
  }
 ],
 "metadata": {
  "interpreter": {
   "hash": "7c3012f799b3ef2382f56288364f3b4f8c7ccb2db3eb0b0379ff9e09fc414115"
  },
  "kernelspec": {
   "name": "python3",
   "language": "python",
   "display_name": "Python 3 (ipykernel)"
  },
  "language_info": {
   "codemirror_mode": {
    "name": "ipython",
    "version": 3
   },
   "file_extension": ".py",
   "mimetype": "text/x-python",
   "name": "python",
   "nbconvert_exporter": "python",
   "pygments_lexer": "ipython3",
   "version": "3.9.7"
  },
  "orig_nbformat": 4
 },
 "nbformat": 4,
 "nbformat_minor": 2
}