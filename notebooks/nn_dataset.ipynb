{
 "cells": [
  {
   "cell_type": "markdown",
   "metadata": {},
   "source": [
    "# NNDataset for training neural networks\n",
    "A `NNDataset` is a collection of `MPPData`s (one for train/val/test). It is created using a parameter file defining its properties.\n",
    "\n",
    "This notebooks shows:\n",
    "- how to create a dataset from parameters\n",
    "- how to iterate over an existing dataset\n",
    "\n",
    "\n",
    "\n",
    "TODO for actual examples, need to handle downloading of files\n",
    "TODO add more info text \n",
    "TODO change dataset?\n",
    "\n",
    "+ example creation from params dict here!\n",
    "+ after creation load NNDataset + show how to iterate over samples for training"
   ]
  },
  {
   "cell_type": "code",
   "execution_count": 2,
   "metadata": {},
   "outputs": [
    {
     "name": "stderr",
     "output_type": "stream",
     "text": [
      "INFO:numexpr.utils:NumExpr defaulting to 8 threads.\n"
     ]
    },
    {
     "name": "stdout",
     "output_type": "stream",
     "text": [
      "Reading config from /Users/hannah.spitzer/projects/pelkmans/software_new/campa/config.ini\n"
     ]
    }
   ],
   "source": [
    "import logging\n",
    "\n",
    "logging.basicConfig(level=logging.INFO)\n",
    "\n",
    "import os\n",
    "\n",
    "from campa.data import NNDataset, create_dataset\n",
    "from campa.utils import load_config\n",
    "from campa.constants import SCRIPTS_DIR"
   ]
  },
  {
   "cell_type": "markdown",
   "metadata": {},
   "source": [
    "## Create NNDataset\n",
    "`NNDataset` is created with a config file that specifies from which folders to take the data and how to preprocess the data.\n",
    "\n",
    "Here, we will use [params/example_data_params.py](params/example_data_params.py) to create an example dataset and save it to `DATASET_DIR/184A1_test_dataset`. \n",
    "Alternatively to this code, the `NNDataset` can also easily be created with the cli:\n",
    "```\n",
    "campa create_dataset $CAMPA_DIR/notebooks/params/example_data_params.py\n",
    "```\n",
    "\n",
    "This dataset uses data from two unperturbed and two meayamycin perturbed wells. It contains condition labels for the perturbation (one-hot-encoded) and for the cell cycle (one-hot-encoded). \n",
    "All cells are used, and 10% of all pixels. It is corrected for background fluorescence signal, and percentile-normalised.\n",
    "It uses a neighborhood of 3x3 as inputs to the cVAE. "
   ]
  },
  {
   "cell_type": "code",
   "execution_count": 3,
   "metadata": {},
   "outputs": [
    {
     "data": {
      "text/plain": [
       "{'dataset_name': '184A1_test_dataset',\n",
       " 'data_config': 'TestData',\n",
       " 'data_dirs': ['184A1_unperturbed/I09',\n",
       "  '184A1_unperturbed/I11',\n",
       "  '184A1_meayamycin/I12',\n",
       "  '184A1_meayamycin/I20'],\n",
       " 'channels': ['01_CDK9_pT186',\n",
       "  '01_PABPC1',\n",
       "  '02_CDK7',\n",
       "  '03_CDK9',\n",
       "  '03_RPS6',\n",
       "  '05_GTF2B',\n",
       "  '05_Sm',\n",
       "  '07_POLR2A',\n",
       "  '07_SETD1A',\n",
       "  '08_H3K4me3',\n",
       "  '09_CCNT1',\n",
       "  '09_SRRM2',\n",
       "  '10_H3K27ac',\n",
       "  '10_POL2RA_pS2',\n",
       "  '11_KPNA2_MAX',\n",
       "  '11_PML',\n",
       "  '12_RB1_pS807_S811',\n",
       "  '12_YAP1',\n",
       "  '13_PABPN1',\n",
       "  '13_POL2RA_pS5',\n",
       "  '14_PCNA',\n",
       "  '15_SON',\n",
       "  '15_U2SNRNPB',\n",
       "  '16_H3',\n",
       "  '17_HDAC3',\n",
       "  '17_SRSF2',\n",
       "  '18_NONO',\n",
       "  '19_KPNA1_MAX',\n",
       "  '20_ALYREF',\n",
       "  '20_SP100',\n",
       "  '21_COIL',\n",
       "  '21_NCL',\n",
       "  '00_DAPI',\n",
       "  '07_H2B'],\n",
       " 'condition': ['perturbation_duration_one_hot', 'cell_cycle_one_hot'],\n",
       " 'condition_kwargs': {'cond_params': {}},\n",
       " 'split_kwargs': {'train_frac': 0.9, 'val_frac': 0.05},\n",
       " 'test_img_size': 225,\n",
       " 'subset': True,\n",
       " 'subset_kwargs': {'frac': None,\n",
       "  'nona_condition': True,\n",
       "  'cell_cycle': 'NO_NAN'},\n",
       " 'subsample': True,\n",
       " 'subsample_kwargs': {'frac': 0.1,\n",
       "  'frac_per_obj': None,\n",
       "  'num': None,\n",
       "  'num_per_obj': None},\n",
       " 'neighborhood': True,\n",
       " 'neighborhood_size': 3,\n",
       " 'normalise': True,\n",
       " 'normalise_kwargs': {'background_value': 'mean_background',\n",
       "  'percentile': 98.0,\n",
       "  'rescale_values': []},\n",
       " 'seed': 42}"
      ]
     },
     "execution_count": 3,
     "metadata": {},
     "output_type": "execute_result"
    }
   ],
   "source": [
    "config = load_config(os.path.join(SCRIPTS_DIR, \"notebooks/params/example_data_params.py\"))\n",
    "config.data_params"
   ]
  },
  {
   "cell_type": "code",
   "execution_count": 4,
   "metadata": {},
   "outputs": [
    {
     "name": "stderr",
     "output_type": "stream",
     "text": [
      "INFO:root:Creating train/val/test datasets with params:\n",
      "INFO:root:{\n",
      "    \"dataset_name\": \"184A1_test_dataset\",\n",
      "    \"data_config\": \"TestData\",\n",
      "    \"data_dirs\": [\n",
      "        \"184A1_unperturbed/I09\",\n",
      "        \"184A1_unperturbed/I11\",\n",
      "        \"184A1_meayamycin/I12\",\n",
      "        \"184A1_meayamycin/I20\"\n",
      "    ],\n",
      "    \"channels\": [\n",
      "        \"01_CDK9_pT186\",\n",
      "        \"01_PABPC1\",\n",
      "        \"02_CDK7\",\n",
      "        \"03_CDK9\",\n",
      "        \"03_RPS6\",\n",
      "        \"05_GTF2B\",\n",
      "        \"05_Sm\",\n",
      "        \"07_POLR2A\",\n",
      "        \"07_SETD1A\",\n",
      "        \"08_H3K4me3\",\n",
      "        \"09_CCNT1\",\n",
      "        \"09_SRRM2\",\n",
      "        \"10_H3K27ac\",\n",
      "        \"10_POL2RA_pS2\",\n",
      "        \"11_KPNA2_MAX\",\n",
      "        \"11_PML\",\n",
      "        \"12_RB1_pS807_S811\",\n",
      "        \"12_YAP1\",\n",
      "        \"13_PABPN1\",\n",
      "        \"13_POL2RA_pS5\",\n",
      "        \"14_PCNA\",\n",
      "        \"15_SON\",\n",
      "        \"15_U2SNRNPB\",\n",
      "        \"16_H3\",\n",
      "        \"17_HDAC3\",\n",
      "        \"17_SRSF2\",\n",
      "        \"18_NONO\",\n",
      "        \"19_KPNA1_MAX\",\n",
      "        \"20_ALYREF\",\n",
      "        \"20_SP100\",\n",
      "        \"21_COIL\",\n",
      "        \"21_NCL\",\n",
      "        \"00_DAPI\",\n",
      "        \"07_H2B\"\n",
      "    ],\n",
      "    \"condition\": [\n",
      "        \"perturbation_duration_one_hot\",\n",
      "        \"cell_cycle_one_hot\"\n",
      "    ],\n",
      "    \"condition_kwargs\": {\n",
      "        \"cond_params\": {}\n",
      "    },\n",
      "    \"split_kwargs\": {\n",
      "        \"train_frac\": 0.9,\n",
      "        \"val_frac\": 0.05\n",
      "    },\n",
      "    \"test_img_size\": 225,\n",
      "    \"subset\": true,\n",
      "    \"subset_kwargs\": {\n",
      "        \"frac\": null,\n",
      "        \"nona_condition\": true,\n",
      "        \"cell_cycle\": \"NO_NAN\"\n",
      "    },\n",
      "    \"subsample\": true,\n",
      "    \"subsample_kwargs\": {\n",
      "        \"frac\": 0.1,\n",
      "        \"frac_per_obj\": null,\n",
      "        \"num\": null,\n",
      "        \"num_per_obj\": null\n",
      "    },\n",
      "    \"neighborhood\": true,\n",
      "    \"neighborhood_size\": 3,\n",
      "    \"normalise\": true,\n",
      "    \"normalise_kwargs\": {\n",
      "        \"background_value\": \"mean_background\",\n",
      "        \"percentile\": 98.0,\n",
      "        \"rescale_values\": []\n",
      "    },\n",
      "    \"seed\": 42\n",
      "}\n",
      "INFO:MPPData:Created new: MPPData for TestData (247872 mpps with shape (1, 1, 35) from 20 objects). Data keys: ['x', 'y', 'obj_ids', 'mpp', 'labels'].\n",
      "INFO:MPPData:Loaded data from 184A1_unperturbed/I09.\n",
      "INFO:MPPData:Splitting data in 18 train, 1 val, and 1 test objects\n",
      "INFO:MPPData:Created new: MPPData for TestData (225016 mpps with shape (1, 1, 35) from 18 objects). Data keys: ['x', 'y', 'obj_ids', 'mpp', 'labels'].\n",
      "INFO:MPPData:Created new: MPPData for TestData (8145 mpps with shape (1, 1, 35) from 1 objects). Data keys: ['x', 'y', 'obj_ids', 'mpp', 'labels'].\n",
      "INFO:MPPData:Created new: MPPData for TestData (14711 mpps with shape (1, 1, 35) from 1 objects). Data keys: ['x', 'y', 'obj_ids', 'mpp', 'labels'].\n",
      "INFO:MPPData:Subsampling from 225016 to 22501\n",
      "INFO:MPPData:Created new: MPPData for TestData (22501 mpps with shape (1, 1, 35) from 18 objects). Data keys: ['x', 'y', 'obj_ids', 'mpp', 'labels'].\n",
      "INFO:MPPData:Adding neighborhood of size 3\n",
      "INFO:MPPData:Created new: MPPData for TestData (253979 mpps with shape (1, 1, 35) from 20 objects). Data keys: ['x', 'y', 'obj_ids', 'mpp', 'labels'].\n",
      "INFO:MPPData:Loaded data from 184A1_unperturbed/I11.\n",
      "INFO:MPPData:Splitting data in 18 train, 1 val, and 1 test objects\n",
      "INFO:MPPData:Created new: MPPData for TestData (231667 mpps with shape (1, 1, 35) from 18 objects). Data keys: ['x', 'y', 'obj_ids', 'mpp', 'labels'].\n",
      "INFO:MPPData:Created new: MPPData for TestData (16001 mpps with shape (1, 1, 35) from 1 objects). Data keys: ['x', 'y', 'obj_ids', 'mpp', 'labels'].\n",
      "INFO:MPPData:Created new: MPPData for TestData (6311 mpps with shape (1, 1, 35) from 1 objects). Data keys: ['x', 'y', 'obj_ids', 'mpp', 'labels'].\n",
      "INFO:MPPData:Subsampling from 231667 to 23166\n",
      "INFO:MPPData:Created new: MPPData for TestData (23166 mpps with shape (1, 1, 35) from 18 objects). Data keys: ['x', 'y', 'obj_ids', 'mpp', 'labels'].\n",
      "INFO:MPPData:Adding neighborhood of size 3\n",
      "INFO:MPPData:Created new: MPPData for TestData (366121 mpps with shape (1, 1, 35) from 20 objects). Data keys: ['x', 'y', 'obj_ids', 'mpp', 'labels'].\n",
      "INFO:MPPData:Loaded data from 184A1_meayamycin/I12.\n",
      "INFO:MPPData:Splitting data in 18 train, 1 val, and 1 test objects\n",
      "INFO:MPPData:Created new: MPPData for TestData (336704 mpps with shape (1, 1, 35) from 18 objects). Data keys: ['x', 'y', 'obj_ids', 'mpp', 'labels'].\n",
      "INFO:MPPData:Created new: MPPData for TestData (15431 mpps with shape (1, 1, 35) from 1 objects). Data keys: ['x', 'y', 'obj_ids', 'mpp', 'labels'].\n",
      "INFO:MPPData:Created new: MPPData for TestData (13986 mpps with shape (1, 1, 35) from 1 objects). Data keys: ['x', 'y', 'obj_ids', 'mpp', 'labels'].\n",
      "INFO:MPPData:Subsampling from 336704 to 33670\n",
      "INFO:MPPData:Created new: MPPData for TestData (33670 mpps with shape (1, 1, 35) from 18 objects). Data keys: ['x', 'y', 'obj_ids', 'mpp', 'labels'].\n",
      "INFO:MPPData:Adding neighborhood of size 3\n",
      "INFO:MPPData:Created new: MPPData for TestData (418761 mpps with shape (1, 1, 35) from 20 objects). Data keys: ['x', 'y', 'obj_ids', 'mpp', 'labels'].\n",
      "INFO:MPPData:Loaded data from 184A1_meayamycin/I20.\n",
      "INFO:MPPData:Splitting data in 18 train, 1 val, and 1 test objects\n",
      "INFO:MPPData:Created new: MPPData for TestData (368378 mpps with shape (1, 1, 35) from 18 objects). Data keys: ['x', 'y', 'obj_ids', 'mpp', 'labels'].\n",
      "INFO:MPPData:Created new: MPPData for TestData (14271 mpps with shape (1, 1, 35) from 1 objects). Data keys: ['x', 'y', 'obj_ids', 'mpp', 'labels'].\n",
      "INFO:MPPData:Created new: MPPData for TestData (36112 mpps with shape (1, 1, 35) from 1 objects). Data keys: ['x', 'y', 'obj_ids', 'mpp', 'labels'].\n",
      "INFO:MPPData:Subsampling from 368378 to 36837\n",
      "INFO:MPPData:Created new: MPPData for TestData (36837 mpps with shape (1, 1, 35) from 18 objects). Data keys: ['x', 'y', 'obj_ids', 'mpp', 'labels'].\n",
      "INFO:MPPData:Adding neighborhood of size 3\n",
      "INFO:MPPData:Created new: MPPData for TestData (116174 mpps with shape (3, 3, 35) from 72 objects). Data keys: ['x', 'y', 'obj_ids', 'mpp', 'labels'].\n",
      "INFO:MPPData:Created by concatenating 4 MPPDatas\n",
      "INFO:MPPData:Created new: MPPData for TestData (53848 mpps with shape (1, 1, 35) from 4 objects). Data keys: ['x', 'y', 'obj_ids', 'mpp', 'labels'].\n",
      "INFO:MPPData:Created by concatenating 4 MPPDatas\n",
      "INFO:MPPData:Created new: MPPData for TestData (71120 mpps with shape (1, 1, 35) from 4 objects). Data keys: ['x', 'y', 'obj_ids', 'mpp', 'labels'].\n",
      "INFO:MPPData:Created by concatenating 4 MPPDatas\n",
      "INFO:MPPData:Subsetting from 35 channels\n",
      "INFO:MPPData:Restricted channels to 34 channels\n",
      "INFO:MPPData:The following channels were excluded ['00_EU']\n",
      "INFO:MPPData:Subtracting channel-specific background value defined in column mean_background\n",
      "INFO:MPPData:Rescaling MPP intensities per channel with 98.0 percentile\n",
      "INFO:MPPData:Adding conditions: ['perturbation_duration_one_hot', 'cell_cycle_one_hot']\n",
      "INFO:MPPData:Looking up condition perturbation_duration, with postprocess one_hot\n",
      "INFO:convert_condition:Converting condition perturbation_duration to numbers\n",
      "INFO:MPPData:Looking up condition cell_cycle, with postprocess one_hot\n",
      "INFO:convert_condition:Converting condition cell_cycle to numbers\n",
      "INFO:MPPData:Before subsetting: 72 objects\n",
      "INFO:MPPData:Subsetting to NO_NAN cell_cycle: 43 objects\n",
      "INFO:MPPData:Subsetting to objects with NO_NAN condition: 43\n",
      "INFO:MPPData:Subsetting from 35 channels\n",
      "INFO:MPPData:Restricted channels to 34 channels\n",
      "INFO:MPPData:The following channels were excluded ['00_EU']\n",
      "INFO:MPPData:Subtracting channel-specific background value defined in column mean_background\n",
      "INFO:MPPData:Rescaling MPP intensities per channels with predefined values\n",
      "INFO:MPPData:Adding conditions: ['perturbation_duration_one_hot', 'cell_cycle_one_hot']\n",
      "INFO:MPPData:Looking up condition perturbation_duration, with postprocess one_hot\n",
      "INFO:convert_condition:Converting condition perturbation_duration to numbers\n",
      "INFO:MPPData:Looking up condition cell_cycle, with postprocess one_hot\n",
      "INFO:convert_condition:Converting condition cell_cycle to numbers\n",
      "INFO:MPPData:Before subsetting: 4 objects\n",
      "INFO:MPPData:Subsetting to NO_NAN cell_cycle: 2 objects\n",
      "INFO:MPPData:Subsetting to objects with NO_NAN condition: 2\n",
      "INFO:MPPData:Subsetting from 35 channels\n",
      "INFO:MPPData:Restricted channels to 34 channels\n",
      "INFO:MPPData:The following channels were excluded ['00_EU']\n",
      "INFO:MPPData:Subtracting channel-specific background value defined in column mean_background\n",
      "INFO:MPPData:Rescaling MPP intensities per channels with predefined values\n",
      "INFO:MPPData:Adding conditions: ['perturbation_duration_one_hot', 'cell_cycle_one_hot']\n",
      "INFO:MPPData:Looking up condition perturbation_duration, with postprocess one_hot\n",
      "INFO:convert_condition:Converting condition perturbation_duration to numbers\n",
      "INFO:MPPData:Looking up condition cell_cycle, with postprocess one_hot\n",
      "INFO:convert_condition:Converting condition cell_cycle to numbers\n",
      "INFO:MPPData:Before subsetting: 4 objects\n",
      "INFO:MPPData:Subsetting to NO_NAN cell_cycle: 1 objects\n",
      "INFO:MPPData:Subsetting to objects with NO_NAN condition: 1\n",
      "INFO:MPPData:Saving mpp data to /Users/hannah.spitzer/projects/pelkmans/software_new/campa/notebooks/example_data/datasets/184A1_test_dataset/val_imgs (keys: ['obj_ids', 'x', 'y', 'mpp', 'labels', 'conditions'])\n",
      "INFO:MPPData:Saving mpp data to /Users/hannah.spitzer/projects/pelkmans/software_new/campa/notebooks/example_data/datasets/184A1_test_dataset/test_imgs (keys: ['obj_ids', 'x', 'y', 'mpp', 'labels', 'conditions'])\n",
      "INFO:MPPData:Subsampling from 31432 to 3143\n",
      "INFO:MPPData:Created new: MPPData for TestData (3143 mpps with shape (1, 1, 34) from 2 objects). Data keys: ['x', 'y', 'obj_ids', 'mpp', 'labels', 'conditions'].\n",
      "INFO:MPPData:Adding neighborhood of size 3\n",
      "INFO:MPPData:Subsampling from 13986 to 1398\n",
      "INFO:MPPData:Created new: MPPData for TestData (1398 mpps with shape (1, 1, 34) from 1 objects). Data keys: ['x', 'y', 'obj_ids', 'mpp', 'labels', 'conditions'].\n",
      "INFO:MPPData:Adding neighborhood of size 3\n",
      "INFO:root:-------------------\n",
      "INFO:root:created datasets:\n",
      "INFO:root:train: MPPData for TestData (62535 mpps with shape (3, 3, 34) from 43 objects). Data keys: ['x', 'y', 'obj_ids', 'mpp', 'labels', 'conditions'].\n",
      "INFO:root:val: MPPData for TestData (3143 mpps with shape (3, 3, 34) from 2 objects). Data keys: ['x', 'y', 'obj_ids', 'mpp', 'labels', 'conditions'].\n",
      "INFO:root:test: MPPData for TestData (1398 mpps with shape (3, 3, 34) from 1 objects). Data keys: ['x', 'y', 'obj_ids', 'mpp', 'labels', 'conditions'].\n",
      "INFO:root:-------------------\n",
      "INFO:MPPData:Saving mpp data to /Users/hannah.spitzer/projects/pelkmans/software_new/campa/notebooks/example_data/datasets/184A1_test_dataset/train (keys: ['obj_ids', 'x', 'y', 'mpp', 'labels', 'conditions'])\n",
      "INFO:MPPData:Saving mpp data to /Users/hannah.spitzer/projects/pelkmans/software_new/campa/notebooks/example_data/datasets/184A1_test_dataset/val (keys: ['obj_ids', 'x', 'y', 'mpp', 'labels', 'conditions'])\n",
      "INFO:MPPData:Saving mpp data to /Users/hannah.spitzer/projects/pelkmans/software_new/campa/notebooks/example_data/datasets/184A1_test_dataset/test (keys: ['obj_ids', 'x', 'y', 'mpp', 'labels', 'conditions'])\n"
     ]
    }
   ],
   "source": [
    "create_dataset(config.data_params)"
   ]
  },
  {
   "cell_type": "markdown",
   "metadata": {},
   "source": [
    "## Use NNDataset\n",
    "\n",
    "After creating the dataset, we can inspect it using `NNDataset`.\n",
    "\n",
    "TODO: more comments + description here?"
   ]
  },
  {
   "cell_type": "code",
   "execution_count": 5,
   "metadata": {},
   "outputs": [
    {
     "name": "stderr",
     "output_type": "stream",
     "text": [
      "INFO:MPPData:Created new: MPPData for NascentRNA (62535 mpps with shape (3, 3, 34) from 43 objects). Data keys: ['x', 'y', 'obj_ids', 'mpp', 'labels', 'conditions'].\n",
      "INFO:MPPData:Loaded data from /Users/hannah.spitzer/projects/pelkmans/software_new/campa/notebooks/example_data/datasets/184A1_test_dataset/train.\n",
      "INFO:MPPData:Created new: MPPData for NascentRNA (3143 mpps with shape (3, 3, 34) from 2 objects). Data keys: ['x', 'y', 'obj_ids', 'mpp', 'labels', 'conditions'].\n",
      "INFO:MPPData:Loaded data from /Users/hannah.spitzer/projects/pelkmans/software_new/campa/notebooks/example_data/datasets/184A1_test_dataset/val.\n",
      "INFO:MPPData:Created new: MPPData for NascentRNA (1398 mpps with shape (3, 3, 34) from 1 objects). Data keys: ['x', 'y', 'obj_ids', 'mpp', 'labels', 'conditions'].\n",
      "INFO:MPPData:Loaded data from /Users/hannah.spitzer/projects/pelkmans/software_new/campa/notebooks/example_data/datasets/184A1_test_dataset/test.\n",
      "INFO:MPPData:Created new: MPPData for NascentRNA (31432 mpps with shape (1, 1, 34) from 2 objects). Data keys: ['x', 'y', 'obj_ids', 'mpp', 'labels', 'conditions'].\n",
      "INFO:MPPData:Loaded data from /Users/hannah.spitzer/projects/pelkmans/software_new/campa/notebooks/example_data/datasets/184A1_test_dataset/val_imgs.\n",
      "INFO:MPPData:Created new: MPPData for NascentRNA (13986 mpps with shape (1, 1, 34) from 1 objects). Data keys: ['x', 'y', 'obj_ids', 'mpp', 'labels', 'conditions'].\n",
      "INFO:MPPData:Loaded data from /Users/hannah.spitzer/projects/pelkmans/software_new/campa/notebooks/example_data/datasets/184A1_test_dataset/test_imgs.\n"
     ]
    }
   ],
   "source": [
    "dataset_name = \"184A1_test_dataset\"\n",
    "ds = NNDataset(dataset_name, data_config=\"TestData\")"
   ]
  },
  {
   "cell_type": "code",
   "execution_count": 6,
   "metadata": {},
   "outputs": [
    {
     "name": "stdout",
     "output_type": "stream",
     "text": [
      "(3143, 3, 3, 34)\n",
      "(62535, 3, 3, 34) (62535, 14)\n"
     ]
    }
   ],
   "source": [
    "# dataset has attributes x and y (NN input + output)\n",
    "# x is either mpp or mpp+condition\n",
    "x = ds.x(\"val\", is_conditional=False)\n",
    "print(x.shape)\n",
    "\n",
    "x, c = ds.x(\"train\", is_conditional=True)\n",
    "print(x.shape, c.shape)"
   ]
  },
  {
   "cell_type": "code",
   "execution_count": 7,
   "metadata": {},
   "outputs": [
    {
     "name": "stdout",
     "output_type": "stream",
     "text": [
      "MPPData for NascentRNA (62535 mpps with shape (3, 3, 34) from 43 objects). Data keys: ['x', 'y', 'obj_ids', 'mpp', 'labels', 'conditions'].\n"
     ]
    }
   ],
   "source": [
    "# dataset has data attributes with train/val/test data and img attribute with val/test image data.\n",
    "# each split is represented as an MPPData object\n",
    "print(ds.data[\"train\"])"
   ]
  },
  {
   "cell_type": "code",
   "execution_count": 19,
   "metadata": {},
   "outputs": [
    {
     "data": {
      "text/plain": [
       "<matplotlib.image.AxesImage at 0x7fd9644e91c0>"
      ]
     },
     "execution_count": 19,
     "metadata": {},
     "output_type": "execute_result"
    },
    {
     "data": {
      "image/png": "[encoded data removed]",
      "text/plain": [
       "<Figure size 432x288 with 1 Axes>"
      ]
     },
     "metadata": {
      "needs_background": "light"
     },
     "output_type": "display_data"
    }
   ],
   "source": [
    "# ds.imgs contains the test and val image splits as MPPData objects\n",
    "# we can plot images from the test_img / val_img split\n",
    "import matplotlib.pyplot as plt\n",
    "\n",
    "plt.imshow(ds.imgs[\"test\"].get_object_img(ds.imgs[\"test\"].obj_ids[0], channel_ids=0, img_size=255)[:, :, 0])"
   ]
  },
  {
   "cell_type": "code",
   "execution_count": 20,
   "metadata": {},
   "outputs": [
    {
     "name": "stdout",
     "output_type": "stream",
     "text": [
      "<FlatMapDataset shapes: (((3, 3, 34), (14,)), (34,)), types: ((tf.float32, tf.float32), tf.float32)>\n",
      "(<tf.Tensor: shape=(3, 3, 34), dtype=float32, numpy=\n",
      "array([[[0.7856049 , 0.06896971, 0.47988248, 0.621853  , 0.7208044 ,\n",
      "         0.7953104 , 0.73281616, 0.29427582, 0.9713649 , 0.33183968,\n",
      "         0.45231476, 0.24451347, 0.7914956 , 0.00803955, 0.43829355,\n",
      "         0.56096125, 0.5416753 , 0.13224284, 0.6091386 , 0.5126373 ,\n",
      "         0.44654536, 0.72452575, 0.42507517, 0.01375879, 0.43835154,\n",
      "         1.0814375 , 0.6667864 , 0.06479862, 1.0220959 , 0.6182322 ,\n",
      "         0.5203733 , 0.03889789, 0.95885843, 0.14463733],\n",
      "        [0.8928025 , 0.14058743, 0.643348  , 0.23566028, 0.34008306,\n",
      "         0.84079695, 0.7386245 , 0.3114886 , 0.9777283 , 0.2296075 ,\n",
      "         0.39278376, 0.2052674 , 0.4252042 , 0.02835273, 0.34685296,\n",
      "         0.5526775 , 0.54918885, 0.04546713, 0.5222805 , 0.7075824 ,\n",
      "         0.35585323, 0.63034654, 0.20277092, 0.02187601, 0.51161003,\n",
      "         1.0574853 , 0.6251347 , 0.05776704, 0.9711054 , 0.74304086,\n",
      "         0.59300244, 0.        , 0.58858454, 0.1314779 ],\n",
      "        [0.6018377 , 0.40318573, 0.3312775 , 0.32013994, 0.32739234,\n",
      "         0.45416105, 0.61664927, 0.3287014 , 0.91091317, 0.15658452,\n",
      "         0.32134658, 0.09734076, 0.4477452 , 0.        , 0.22275501,\n",
      "         0.44705972, 0.66189164, 0.03100452, 0.6905681 , 0.4305552 ,\n",
      "         0.41166377, 0.61386514, 0.28709322, 0.00564158, 0.658127  ,\n",
      "         0.9329338 , 0.608474  , 0.05776704, 0.8742235 , 0.5815237 ,\n",
      "         0.5190029 , 0.01777477, 0.34173527, 0.12270495]],\n",
      "\n",
      "       [[1.0918837 , 0.331568  , 0.4501615 , 0.32013994, 0.4162273 ,\n",
      "         0.49964762, 0.6863494 , 0.4577973 , 1.0604517 , 0.39390922,\n",
      "         0.29753417, 0.2837595 , 0.8422129 , 0.00465401, 0.30766413,\n",
      "         0.49676222, 0.66189164, 0.16116808, 0.7828548 , 0.65628105,\n",
      "         0.41398922, 0.6562458 , 0.34841853, 0.01375879, 0.6337075 ,\n",
      "         0.91377205, 0.6001437 , 0.11401975, 1.0152972 , 0.7136741 ,\n",
      "         0.6450762 , 0.03361712, 0.6297261 , 0.16218324],\n",
      "        [0.93874425, 0.25995028, 0.30155647, 0.40059674, 0.31470165,\n",
      "         0.7270805 , 0.61664927, 0.29427582, 0.90136814, 0.26246783,\n",
      "         0.4404086 , 0.1267753 , 0.5829913 , 0.03850932, 0.32072708,\n",
      "         0.59202534, 0.5642159 , 0.16116808, 0.6742822 , 0.538288  ,\n",
      "         0.4674743 , 0.6703727 , 0.28709322, 0.0178174 , 0.62149775,\n",
      "         0.8922151 , 0.55849195, 0.04370386, 0.90481776, 0.49342346,\n",
      "         0.55737305, 0.02833633, 0.17716908, 0.13586438],\n",
      "        [1.        , 0.16446   , 0.34613797, 0.32818562, 0.4162273 ,\n",
      "         0.36318788, 0.6689244 , 0.38033974, 0.9650016 , 0.10911957,\n",
      "         0.4999396 , 0.21507892, 0.57735604, 0.01481061, 0.20969208,\n",
      "         0.3580094 , 0.6243241 , 0.14670546, 0.8045693 , 0.48698667,\n",
      "         0.41631466, 0.68449956, 0.2487649 , 0.02999322, 0.5726588 ,\n",
      "         0.7916158 , 0.608474  , 0.0155775 , 0.7654438 , 0.50076514,\n",
      "         0.5614841 , 0.00193243, 0.83543384, 0.15779676]],\n",
      "\n",
      "       [[1.0918837 , 0.23607771, 0.27183548, 0.46496218, 0.22586666,\n",
      "         0.6361074 , 0.49467406, 0.29427582, 0.9777283 , 0.2588167 ,\n",
      "         0.39278376, 0.6075395 , 0.7971309 , 0.05543697, 0.28153825,\n",
      "         0.49883315, 0.59427   , 0.11778023, 0.647139  , 0.5177675 ,\n",
      "         0.28841546, 0.6586003 , 0.25643057, 0.01375879, 0.45056129,\n",
      "         0.88981986, 0.64179534, 0.05776704, 0.90481776, 0.5227902 ,\n",
      "         0.6697427 , 0.02305555, 0.6297261 , 0.14463733],\n",
      "        [0.770291  , 0.16446   , 0.53932446, 0.21956891, 0.23855737,\n",
      "         0.49964762, 0.76185787, 0.25124386, 0.9650016 , 0.18214256,\n",
      "         0.27372175, 0.24451347, 0.66752005, 0.00803955, 0.22275501,\n",
      "         0.48640752, 0.72951335, 0.14670546, 0.5874241 , 0.68193173,\n",
      "         0.42329097, 0.6939175 , 0.17977393, 0.        , 0.41393203,\n",
      "         0.9425147 , 0.6251347 , 0.00854591, 0.898019  , 0.6769657 ,\n",
      "         0.5327065 , 0.01249399, 0.        , 0.08761315],\n",
      "        [0.5712098 , 0.09284229, 0.31641698, 0.23968312, 0.23855737,\n",
      "         0.49964762, 0.61664927, 0.33730778, 0.8886414 , 0.09086382,\n",
      "         0.11894116, 0.30338255, 0.54917973, 0.        , 0.22928649,\n",
      "         0.44291782, 0.89481074, 0.05992975, 0.647139  , 0.68193173,\n",
      "         0.3837585 , 0.47259632, 0.23343357, 0.02593461, 0.5238198 ,\n",
      "         0.8682629 , 0.45019752, 0.05776704, 0.8147346 , 0.64025724,\n",
      "         0.44911444, 0.00721321, 0.34173527, 0.11831848]]], dtype=float32)>, <tf.Tensor: shape=(14,), dtype=float32, numpy=\n",
      "array([0., 0., 0., 0., 0., 0., 0., 0., 0., 1., 0., 1., 0., 0.],\n",
      "      dtype=float32)>)\n",
      "tf.Tensor(\n",
      "[0.93874425 0.25995028 0.30155647 0.40059674 0.31470165 0.7270805\n",
      " 0.61664927 0.29427582 0.90136814 0.26246783 0.4404086  0.1267753\n",
      " 0.5829913  0.03850932 0.32072708 0.59202534 0.5642159  0.16116808\n",
      " 0.6742822  0.538288   0.4674743  0.6703727  0.28709322 0.0178174\n",
      " 0.62149775 0.8922151  0.55849195 0.04370386 0.90481776 0.49342346\n",
      " 0.55737305 0.02833633 0.17716908 0.13586438], shape=(34,), dtype=float32)\n"
     ]
    },
    {
     "name": "stderr",
     "output_type": "stream",
     "text": [
      "2022-03-18 12:49:46.983594: I tensorflow/core/platform/cpu_feature_guard.cc:142] This TensorFlow binary is optimized with oneAPI Deep Neural Network Library (oneDNN) to use the following CPU instructions in performance-critical operations:  SSE4.1 SSE4.2 AVX AVX2 FMA\n",
      "To enable them in other operations, rebuild TensorFlow with the appropriate compiler flags.\n",
      "2022-03-18 12:49:47.101094: I tensorflow/compiler/mlir/mlir_graph_optimization_pass.cc:185] None of the MLIR Optimization Passes are enabled (registered 2)\n"
     ]
    }
   ],
   "source": [
    "# dataset can returrn a tf dataset for using with e.g. keras\n",
    "tf_ds = ds.get_tf_dataset(split=\"train\", is_conditional=True)\n",
    "print(tf_ds)\n",
    "\n",
    "for x, y in tf_ds.take(1):\n",
    "    print(x)\n",
    "    print(y)"
   ]
  },
  {
   "cell_type": "code",
   "execution_count": null,
   "metadata": {},
   "outputs": [],
   "source": []
  }
 ],
 "metadata": {
  "interpreter": {
   "hash": "7c3012f799b3ef2382f56288364f3b4f8c7ccb2db3eb0b0379ff9e09fc414115"
  },
  "kernelspec": {
   "display_name": "Python 3 (ipykernel)",
   "language": "python",
   "name": "python3"
  },
  "language_info": {
   "codemirror_mode": {
    "name": "ipython",
    "version": 3
   },
   "file_extension": ".py",
   "mimetype": "text/x-python",
   "name": "python",
   "nbconvert_exporter": "python",
   "pygments_lexer": "ipython3",
   "version": "3.9.7"
  },
  "orig_nbformat": 4
 },
 "nbformat": 4,
 "nbformat_minor": 2
}
