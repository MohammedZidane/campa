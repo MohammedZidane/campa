{
 "cells": [
  {
   "cell_type": "markdown",
   "metadata": {},
   "source": [
    "# Workflow for generating invariant cellular landmarks on spatial proteomics data\n",
    "Settings are communicated via parameter files. These are python files usually containing a dictionary of settings that are used by the individual steps.\n",
    "You can find a complete set of example parameter files in notebooks/example_params (TODO).\n",
    "\n",
    "In the following we will use these parameter files to use the cVAE framework to generate ICLs for unperturbed and meayamycin perturbed cells.\n",
    "\n",
    "## 1. Setup\n",
    "- change config.ini\n",
    "- create constants.py\n",
    "- download data + explain files a bit + point to tutorial for MPPData + tutorial for ImageData\n",
    "\n",
    "## 1. Create NNDataset"
   ]
  },
  {
   "cell_type": "markdown",
   "metadata": {},
   "source": []
  }
 ],
 "metadata": {
  "language_info": {
   "name": "python"
  },
  "orig_nbformat": 4
 },
 "nbformat": 4,
 "nbformat_minor": 2
}
