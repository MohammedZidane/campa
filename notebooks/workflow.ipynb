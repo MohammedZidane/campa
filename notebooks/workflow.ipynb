{
 "cells": [
  {
   "cell_type": "markdown",
   "metadata": {},
   "source": [
    "# Workflow for generating invariant cellular landmarks on spatial proteomics data\n",
    "Settings are communicated via parameter files. These are python files usually containing a dictionary of settings that are used by the individual steps.\n",
    "You can find a complete set of example parameter files in notebooks/params.\n",
    "\n",
    "In the following we will use these parameter files to use the cVAE framework to generate ICLs for unperturbed and meayamycin perturbed cells.\n",
    "\n",
    "## 1. Setup\n",
    "TODO\n",
    "- change config.ini\n",
    "- create constants.py + explain it\n",
    "- download data\n",
    "\n",
    "The data is represented as an MPPData object. For more information on this class and the data representation on disk see [the tutorial on MPPData](mpp_data.ipynb).\n",
    "\n",
    "TODO mention ImageData?\n",
    "\n",
    "## 2. Create NNDataset\n",
    "NNDatasets are created using a data params file specifying the data, normalisation, and subsampling for generating a NNDataset. \n",
    "Internally, an NNDataset represents train, val and test splits as MPPData objects. For more infomation on NNDataset, see [the tutorial on creating and working with a dataset using NNDataset](nn_dataset.ipynb)\n",
    "\n",
    "The NNDataset can easily be created with the cli:\n",
    "`python create_dataset.py params/example_data_params.py`\n",
    "\n",
    "## 3. Train cVAE\n",
    "For training and evaluation, an experiment_params.py file is needed.\n",
    "This file defines several experiments. For more information on the training and evaluation process, see [the tutorial on training cVAE models](train.ipynb)\n",
    "\n",
    "To train, evaluate and cluster models, run:\n",
    "`python train.py all --config params/example_experiment_params.py`"
   ]
  },
  {
   "cell_type": "markdown",
   "metadata": {},
   "source": [
    "## 4. Cluster\n"
   ]
  },
  {
   "cell_type": "markdown",
   "metadata": {},
   "source": [
    "## 5. Extract features"
   ]
  },
  {
   "cell_type": "markdown",
   "metadata": {},
   "source": []
  }
 ],
 "metadata": {
  "language_info": {
   "name": "python"
  },
  "orig_nbformat": 4
 },
 "nbformat": 4,
 "nbformat_minor": 2
}
