{
 "cells": [
  {
   "cell_type": "markdown",
   "metadata": {},
   "source": [
    "# Extract and analyse summary features\n",
    "\n",
    "The clustered and projected data can be used to extract different features:\n",
    "\n",
    "- size per cluster\n",
    "- mean intensity per cluster\n",
    "- TODO add more\n",
    "\n",
    "The features are saved as an adata object."
   ]
  },
  {
   "cell_type": "code",
   "execution_count": 1,
   "metadata": {},
   "outputs": [],
   "source": [
    "from miann.tl import Experiment, FeatureExtractor\n",
    "import os\n",
    "from miann.pl import plot_mean_intensity, zscore, get_intensity_change, plot_intensity_change, plot_mean_size, plot_size_change\n",
    "import anndata as ad\n",
    "from miann.utils import init_logging\n",
    "init_logging()"
   ]
  },
  {
   "cell_type": "markdown",
   "metadata": {},
   "source": [
    "## Extract features\n",
    "Features can be extracted with `python extract_features.py test/CondVAE_pert-CC clustering_0.5 intensity`\n"
   ]
  },
  {
   "cell_type": "code",
   "execution_count": 18,
   "metadata": {},
   "outputs": [
    {
     "name": "stderr",
     "output_type": "stream",
     "text": [
      "INFO:Experiment:Setting up experiment test/CondVAE_pert-CC\n",
      "INFO:Experiment:Initialised from existing experiment in test/CondVAE_pert-CC\n"
     ]
    }
   ],
   "source": [
    "exp = Experiment.from_dir('test/CondVAE_pert-CC')\n",
    "# just use one dir here, for extracting all features, run the script\n",
    "data_dir = exp.data_params['data_dirs'][0]\n",
    "extr = FeatureExtractor(exp, data_dir=data_dir, cluster_name='clustering_0.5', \n",
    "                        cluster_dir='aggregated/sub-0.005')"
   ]
  },
  {
   "cell_type": "code",
   "execution_count": 19,
   "metadata": {
    "collapsed": true,
    "jupyter": {
     "outputs_hidden": true
    },
    "tags": []
   },
   "outputs": [
    {
     "name": "stderr",
     "output_type": "stream",
     "text": [
      "INFO:FeatureExtractor:Calculating clustering_0.5 (col: clustering_0.5) mean and size for 184A1_unperturbed/I09\n",
      "INFO:MPPData:Created new: MPPData for NascentRNA (12132995 mpps with shape (1, 1, 35) from 886 objects). Data keys: ['x', 'y', 'obj_ids', 'mpp', 'labels'].\n",
      "INFO:MPPData:Loaded data from 184A1_unperturbed/I09.\n",
      "INFO:MPPData:Setting mpp to empty array\n",
      "INFO:MPPData:Created new: MPPData for NascentRNA (7218204 mpps with shape (1, 1, 34) from 557 objects). Data keys: ['clustering_0.5', 'y', 'x', 'obj_ids', 'latent', 'mpp'].\n",
      "INFO:MPPData:Before subsetting: 886 objects\n",
      "INFO:MPPData:Subsetting to 557 objects\n",
      "INFO:MPPData:Updated data to keys ['x', 'y', 'obj_ids', 'mpp', 'labels', 'clustering_0.5', 'latent']\n",
      "INFO:MPPData:Loaded data from 184A1_unperturbed/I09, with base data from 184A1_unperturbed/I09\n",
      "INFO:MPPData:Restricted channels to 34 channels\n",
      "INFO:MPPData:Subtracting channel-specific background value defined in column mean_background\n",
      "INFO:MPPData:Rescaling MPP intensities per channels with predefined values\n",
      "INFO:MPPData:Adding conditions: ['perturbation_duration_one_hot', 'cell_cycle_one_hot']\n",
      "INFO:MPPData:Looking up condition perturbation_duration, with postprocess one_hot\n",
      "INFO:convert_condition:Converting condition perturbation_duration to numbers\n",
      "INFO:MPPData:Looking up condition cell_cycle, with postprocess one_hot\n",
      "INFO:convert_condition:Converting condition cell_cycle to numbers\n",
      "INFO:MPPData:Before subsetting: 557 objects\n",
      "INFO:MPPData:Subsetting to NO_NAN cell_cycle: 557 objects\n",
      "INFO:MPPData:Subsetting to objects with NO_NAN condition: 557\n",
      "INFO:FeatureExtractor:saving adata to /Users/hannah.spitzer/projects/pelkmans/local_experiments/NascentRNA_new/test/CondVAE_pert-CC/aggregated/full_data/184A1_unperturbed/I09/features.h5ad\n"
     ]
    }
   ],
   "source": [
    "# extract intensity features\n",
    "extr.extract_intensity_size()"
   ]
  },
  {
   "cell_type": "code",
   "execution_count": null,
   "metadata": {},
   "outputs": [],
   "source": []
  },
  {
   "cell_type": "code",
   "execution_count": 14,
   "metadata": {},
   "outputs": [],
   "source": [
    "import anndata as ad\n",
    "adata = ad.read(os.path.join(exp.full_path, 'aggregated/full_data', data_dir, 'features.h5ad'))"
   ]
  },
  {
   "cell_type": "code",
   "execution_count": 21,
   "metadata": {},
   "outputs": [
    {
     "data": {
      "text/plain": [
       "{'data_dir': '184A1_unperturbed/I09',\n",
       " 'cluster_name': 'clustering_0.5',\n",
       " 'cluster_dir': 'aggregated/sub-0.005',\n",
       " 'cluster_col': 'clustering_0.5',\n",
       " 'exp_name': 'test/CondVAE_pert-CC'}"
      ]
     },
     "execution_count": 21,
     "metadata": {},
     "output_type": "execute_result"
    }
   ],
   "source": [
    "extr.adata.uns['params']"
   ]
  },
  {
   "cell_type": "code",
   "execution_count": 13,
   "metadata": {},
   "outputs": [
    {
     "ename": "KeyError",
     "evalue": "'params'",
     "output_type": "error",
     "traceback": [
      "\u001b[0;31m---------------------------------------------------------------------------\u001b[0m",
      "\u001b[0;31mKeyError\u001b[0m                                  Traceback (most recent call last)",
      "\u001b[0;32m/var/folders/s9/0d6yy20d44v60qd0nfkjlqdd541mvv/T/ipykernel_77243/610078260.py\u001b[0m in \u001b[0;36m<module>\u001b[0;34m\u001b[0m\n\u001b[0;32m----> 1\u001b[0;31m \u001b[0mextr\u001b[0m \u001b[0;34m=\u001b[0m \u001b[0mFeatureExtractor\u001b[0m\u001b[0;34m.\u001b[0m\u001b[0mfrom_adata\u001b[0m\u001b[0;34m(\u001b[0m\u001b[0mos\u001b[0m\u001b[0;34m.\u001b[0m\u001b[0mpath\u001b[0m\u001b[0;34m.\u001b[0m\u001b[0mjoin\u001b[0m\u001b[0;34m(\u001b[0m\u001b[0mexp\u001b[0m\u001b[0;34m.\u001b[0m\u001b[0mfull_path\u001b[0m\u001b[0;34m,\u001b[0m \u001b[0;34m'aggregated/full_data'\u001b[0m\u001b[0;34m,\u001b[0m \u001b[0mdata_dir\u001b[0m\u001b[0;34m,\u001b[0m \u001b[0;34m'features.h5ad'\u001b[0m\u001b[0;34m)\u001b[0m\u001b[0;34m)\u001b[0m\u001b[0;34m\u001b[0m\u001b[0;34m\u001b[0m\u001b[0m\n\u001b[0m",
      "\u001b[0;32m~/projects/pelkmans/software_new/miann/miann/tl/_features.py\u001b[0m in \u001b[0;36mfrom_adata\u001b[0;34m(cls, fname)\u001b[0m\n\u001b[1;32m     56\u001b[0m         \"\"\"\n\u001b[1;32m     57\u001b[0m         \u001b[0madata\u001b[0m \u001b[0;34m=\u001b[0m \u001b[0mad\u001b[0m\u001b[0;34m.\u001b[0m\u001b[0mread\u001b[0m\u001b[0;34m(\u001b[0m\u001b[0mfname\u001b[0m\u001b[0;34m)\u001b[0m\u001b[0;34m\u001b[0m\u001b[0;34m\u001b[0m\u001b[0m\n\u001b[0;32m---> 58\u001b[0;31m         \u001b[0mparams\u001b[0m \u001b[0;34m=\u001b[0m \u001b[0madata\u001b[0m\u001b[0;34m.\u001b[0m\u001b[0muns\u001b[0m\u001b[0;34m[\u001b[0m\u001b[0;34m'params'\u001b[0m\u001b[0;34m]\u001b[0m\u001b[0;34m\u001b[0m\u001b[0;34m\u001b[0m\u001b[0m\n\u001b[0m\u001b[1;32m     59\u001b[0m         \u001b[0mexp\u001b[0m \u001b[0;34m=\u001b[0m \u001b[0mExperiment\u001b[0m\u001b[0;34m.\u001b[0m\u001b[0mfrom_dir\u001b[0m\u001b[0;34m(\u001b[0m\u001b[0mparams\u001b[0m\u001b[0;34m.\u001b[0m\u001b[0mpop\u001b[0m\u001b[0;34m(\u001b[0m\u001b[0;34m'exp_name'\u001b[0m\u001b[0;34m)\u001b[0m\u001b[0;34m)\u001b[0m\u001b[0;34m\u001b[0m\u001b[0;34m\u001b[0m\u001b[0m\n\u001b[1;32m     60\u001b[0m         \u001b[0mself\u001b[0m \u001b[0;34m=\u001b[0m \u001b[0mcls\u001b[0m\u001b[0;34m(\u001b[0m\u001b[0mexp\u001b[0m\u001b[0;34m,\u001b[0m \u001b[0madata\u001b[0m\u001b[0;34m=\u001b[0m\u001b[0madata\u001b[0m\u001b[0;34m,\u001b[0m \u001b[0;34m**\u001b[0m\u001b[0mparams\u001b[0m\u001b[0;34m)\u001b[0m\u001b[0;34m\u001b[0m\u001b[0;34m\u001b[0m\u001b[0m\n",
      "\u001b[0;32m~/opt/miniconda3/envs/pelkmans-3.9/lib/python3.9/site-packages/anndata/compat/_overloaded_dict.py\u001b[0m in \u001b[0;36m__getitem__\u001b[0;34m(self, key)\u001b[0m\n\u001b[1;32m     98\u001b[0m             \u001b[0;32mreturn\u001b[0m \u001b[0mself\u001b[0m\u001b[0;34m.\u001b[0m\u001b[0moverloaded\u001b[0m\u001b[0;34m[\u001b[0m\u001b[0mkey\u001b[0m\u001b[0;34m]\u001b[0m\u001b[0;34m.\u001b[0m\u001b[0mget\u001b[0m\u001b[0;34m(\u001b[0m\u001b[0;34m)\u001b[0m\u001b[0;34m\u001b[0m\u001b[0;34m\u001b[0m\u001b[0m\n\u001b[1;32m     99\u001b[0m         \u001b[0;32melse\u001b[0m\u001b[0;34m:\u001b[0m\u001b[0;34m\u001b[0m\u001b[0;34m\u001b[0m\u001b[0m\n\u001b[0;32m--> 100\u001b[0;31m             \u001b[0;32mreturn\u001b[0m \u001b[0mself\u001b[0m\u001b[0;34m.\u001b[0m\u001b[0mdata\u001b[0m\u001b[0;34m[\u001b[0m\u001b[0mkey\u001b[0m\u001b[0;34m]\u001b[0m\u001b[0;34m\u001b[0m\u001b[0;34m\u001b[0m\u001b[0m\n\u001b[0m\u001b[1;32m    101\u001b[0m \u001b[0;34m\u001b[0m\u001b[0m\n\u001b[1;32m    102\u001b[0m     \u001b[0;32mdef\u001b[0m \u001b[0m__setitem__\u001b[0m\u001b[0;34m(\u001b[0m\u001b[0mself\u001b[0m\u001b[0;34m,\u001b[0m \u001b[0mkey\u001b[0m\u001b[0;34m,\u001b[0m \u001b[0mvalue\u001b[0m\u001b[0;34m)\u001b[0m\u001b[0;34m:\u001b[0m\u001b[0;34m\u001b[0m\u001b[0;34m\u001b[0m\u001b[0m\n",
      "\u001b[0;31mKeyError\u001b[0m: 'params'"
     ]
    }
   ],
   "source": [
    "extr = FeatureExtractor.from_adata(os.path.join(exp.full_path, 'aggregated/full_data', data_dir, 'features.h5ad'))"
   ]
  },
  {
   "cell_type": "code",
   "execution_count": 3,
   "metadata": {},
   "outputs": [
    {
     "name": "stderr",
     "output_type": "stream",
     "text": [
      "INFO:MPPData:Created new: MPPData for NascentRNA (12132995 mpps with shape (1, 1, 35) from 886 objects). Data keys: ['x', 'y', 'obj_ids', 'mpp', 'labels'].\n",
      "INFO:MPPData:Loaded data from 184A1_unperturbed/I09.\n",
      "INFO:MPPData:Setting mpp to empty array\n",
      "INFO:MPPData:Created new: MPPData for NascentRNA (7218204 mpps with shape (1, 1, 34) from 557 objects). Data keys: ['clustering_0.5', 'y', 'x', 'obj_ids', 'latent', 'mpp'].\n",
      "INFO:MPPData:Before subsetting: 886 objects\n",
      "INFO:MPPData:Subsetting to 557 objects\n",
      "INFO:MPPData:Updated data to keys ['x', 'y', 'obj_ids', 'mpp', 'labels', 'clustering_0.5', 'latent']\n",
      "INFO:MPPData:Loaded data from 184A1_unperturbed/I09, with base data from 184A1_unperturbed/I09\n",
      "INFO:MPPData:Restricted channels to 34 channels\n",
      "INFO:MPPData:Subtracting channel-specific background value defined in column mean_background\n",
      "INFO:MPPData:Rescaling MPP intensities per channels with predefined values\n",
      "INFO:MPPData:Adding conditions: ['perturbation_duration_one_hot', 'cell_cycle_one_hot']\n",
      "INFO:MPPData:Looking up condition perturbation_duration, with postprocess one_hot\n",
      "INFO:convert_condition:Converting condition perturbation_duration to numbers\n",
      "INFO:MPPData:Looking up condition cell_cycle, with postprocess one_hot\n",
      "INFO:convert_condition:Converting condition cell_cycle to numbers\n",
      "INFO:MPPData:Before subsetting: 557 objects\n",
      "INFO:MPPData:Subsetting to NO_NAN cell_cycle: 557 objects\n",
      "INFO:MPPData:Subsetting to objects with NO_NAN condition: 557\n",
      "INFO:MPPData:Before subsetting: 557 objects\n",
      "INFO:MPPData:Subsetting to 1 objects\n",
      "INFO:MPPData:Created new: MPPData for NascentRNA (17008 mpps with shape (1, 1, 34) from 1 objects). Data keys: ['x', 'y', 'obj_ids', 'mpp', 'labels', 'clustering_0.5', 'latent', 'conditions'].\n"
     ]
    }
   ],
   "source": [
    "obj_id = extr.mpp_data.unique_obj_ids[0]\n",
    "sub_mpp_data = extr.mpp_data.subset(obj_ids=[obj_id], copy=True)"
   ]
  },
  {
   "cell_type": "code",
   "execution_count": 7,
   "metadata": {},
   "outputs": [],
   "source": [
    "adata = sub_mpp_data.get_adata()"
   ]
  },
  {
   "cell_type": "code",
   "execution_count": 5,
   "metadata": {},
   "outputs": [
    {
     "data": {
      "text/plain": [
       "array([[1412.,  112.],\n",
       "       [1413.,  112.],\n",
       "       [1414.,  112.],\n",
       "       ...,\n",
       "       [1377.,  257.],\n",
       "       [1378.,  257.],\n",
       "       [1379.,  257.]], dtype=float32)"
      ]
     },
     "execution_count": 5,
     "metadata": {},
     "output_type": "execute_result"
    }
   ],
   "source": [
    "adata.obsm['spatial']"
   ]
  },
  {
   "cell_type": "code",
   "execution_count": 6,
   "metadata": {},
   "outputs": [
    {
     "data": {
      "text/plain": [
       "AnnData object with n_obs × n_vars = 17008 × 34\n",
       "    obs: 'mapobject_id', 'plate_name', 'well_name', 'well_pos_y', 'well_pos_x', 'tpoint', 'zplane', 'label', 'is_border', 'mapobject_id_cell', 'plate_name_cell', 'well_name_cell', 'well_pos_y_cell', 'well_pos_x_cell', 'tpoint_cell', 'zplane_cell', 'label_cell', 'is_border_cell', 'is_mitotic', 'is_mitotic_labels', 'is_polynuclei_HeLa', 'is_polynuclei_HeLa_labels', 'is_polynuclei_184A1', 'is_polynuclei_184A1_labels', 'is_SBF2_Sphase_labels', 'is_SBF2_Sphase', 'Heatmap-48', 'cell_cycle', 'description', 'dimensions', 'id', 'cell_type', 'EU', 'duration', 'perturbation', 'secondary_only', 'siRNA', 'perturbation_duration', 'LocalDensity_Nuclei_800', 'TR_factor', 'TR_norm', 'TR', 'TR_factor_DMSO-unperturbed', 'TR_norm_DMSO-unperturbed', 'MERGE_KEY', 'clustering_0.5'\n",
       "    var: 'name'\n",
       "    obsm: 'spatial'"
      ]
     },
     "execution_count": 6,
     "metadata": {},
     "output_type": "execute_result"
    }
   ],
   "source": [
    "sub_mpp_data.get_adata(obs=[extr.params['cluster_name']])"
   ]
  },
  {
   "cell_type": "code",
   "execution_count": 76,
   "metadata": {},
   "outputs": [],
   "source": [
    "# TODO continue here with computing co-occ scores"
   ]
  },
  {
   "cell_type": "code",
   "execution_count": 26,
   "metadata": {},
   "outputs": [
    {
     "name": "stderr",
     "output_type": "stream",
     "text": [
      "INFO:FeatureExtractor:calculating co-occurrence for intervals [ 0. 40. 80.] and clustering clustering_0.5 (col: clustering_0.5)\n",
      "INFO:MPPData:Before subsetting: 557 objects\n",
      "INFO:MPPData:Subsetting to 1 objects\n",
      "INFO:MPPData:Created new: MPPData for NascentRNA (17008 mpps with shape (1, 1, 34) from 1 objects). Data keys: ['x', 'y', 'obj_ids', 'mpp', 'labels', 'clustering_0.5', 'latent', 'conditions'].\n",
      "INFO:FeatureExtractor:co-occurrence for 199632, with shape (17008, 34)\n",
      "INFO:MPPData:Before subsetting: 557 objects\n",
      "INFO:MPPData:Subsetting to 1 objects\n",
      "INFO:MPPData:Created new: MPPData for NascentRNA (6936 mpps with shape (1, 1, 34) from 1 objects). Data keys: ['x', 'y', 'obj_ids', 'mpp', 'labels', 'clustering_0.5', 'latent', 'conditions'].\n",
      "INFO:FeatureExtractor:co-occurrence for 199634, with shape (6936, 34)\n",
      "INFO:MPPData:Before subsetting: 557 objects\n",
      "INFO:MPPData:Subsetting to 1 objects\n",
      "INFO:MPPData:Created new: MPPData for NascentRNA (11337 mpps with shape (1, 1, 34) from 1 objects). Data keys: ['x', 'y', 'obj_ids', 'mpp', 'labels', 'clustering_0.5', 'latent', 'conditions'].\n",
      "INFO:FeatureExtractor:co-occurrence for 199636, with shape (11337, 34)\n",
      "INFO:MPPData:Before subsetting: 557 objects\n",
      "INFO:MPPData:Subsetting to 1 objects\n",
      "INFO:MPPData:Created new: MPPData for NascentRNA (11693 mpps with shape (1, 1, 34) from 1 objects). Data keys: ['x', 'y', 'obj_ids', 'mpp', 'labels', 'clustering_0.5', 'latent', 'conditions'].\n",
      "INFO:FeatureExtractor:co-occurrence for 199639, with shape (11693, 34)\n",
      "INFO:MPPData:Before subsetting: 557 objects\n",
      "INFO:MPPData:Subsetting to 1 objects\n",
      "INFO:MPPData:Created new: MPPData for NascentRNA (15853 mpps with shape (1, 1, 34) from 1 objects). Data keys: ['x', 'y', 'obj_ids', 'mpp', 'labels', 'clustering_0.5', 'latent', 'conditions'].\n",
      "INFO:FeatureExtractor:co-occurrence for 199641, with shape (15853, 34)\n",
      "INFO:MPPData:Before subsetting: 557 objects\n",
      "INFO:MPPData:Subsetting to 1 objects\n",
      "INFO:MPPData:Created new: MPPData for NascentRNA (16008 mpps with shape (1, 1, 34) from 1 objects). Data keys: ['x', 'y', 'obj_ids', 'mpp', 'labels', 'clustering_0.5', 'latent', 'conditions'].\n",
      "INFO:FeatureExtractor:co-occurrence for 199647, with shape (16008, 34)\n",
      "INFO:MPPData:Before subsetting: 557 objects\n",
      "INFO:MPPData:Subsetting to 1 objects\n",
      "INFO:MPPData:Created new: MPPData for NascentRNA (14567 mpps with shape (1, 1, 34) from 1 objects). Data keys: ['x', 'y', 'obj_ids', 'mpp', 'labels', 'clustering_0.5', 'latent', 'conditions'].\n",
      "INFO:FeatureExtractor:co-occurrence for 199648, with shape (14567, 34)\n",
      "INFO:MPPData:Before subsetting: 557 objects\n",
      "INFO:MPPData:Subsetting to 1 objects\n",
      "INFO:MPPData:Created new: MPPData for NascentRNA (9849 mpps with shape (1, 1, 34) from 1 objects). Data keys: ['x', 'y', 'obj_ids', 'mpp', 'labels', 'clustering_0.5', 'latent', 'conditions'].\n",
      "INFO:FeatureExtractor:co-occurrence for 199652, with shape (9849, 34)\n",
      "INFO:MPPData:Before subsetting: 557 objects\n",
      "INFO:MPPData:Subsetting to 1 objects\n",
      "INFO:MPPData:Created new: MPPData for NascentRNA (15082 mpps with shape (1, 1, 34) from 1 objects). Data keys: ['x', 'y', 'obj_ids', 'mpp', 'labels', 'clustering_0.5', 'latent', 'conditions'].\n",
      "INFO:FeatureExtractor:co-occurrence for 199653, with shape (15082, 34)\n",
      "INFO:MPPData:Before subsetting: 557 objects\n",
      "INFO:MPPData:Subsetting to 1 objects\n",
      "INFO:MPPData:Created new: MPPData for NascentRNA (7826 mpps with shape (1, 1, 34) from 1 objects). Data keys: ['x', 'y', 'obj_ids', 'mpp', 'labels', 'clustering_0.5', 'latent', 'conditions'].\n",
      "INFO:FeatureExtractor:co-occurrence for 199654, with shape (7826, 34)\n"
     ]
    }
   ],
   "source": [
    "import numpy as np\n",
    "import squidpy as sq\n",
    "import pandas as pd\n",
    "from miann.tl._cluster import annotate_clustering\n",
    "\n",
    "#interval = np.logspace(np.log2(args.co_minval),np.log2(args.co_maxval),args.co_nsteps, base=2).astype(np.float32)\n",
    "#interval = np.linspace(args.co_minval,args.co_maxval,args.co_nsteps).astype(np.float32)\n",
    "               \n",
    "\n",
    "def extract_co_occurrence(self, interval):\n",
    "    \"\"\"FeatureExtractor\n",
    "    Extract co_occurrence for each cell invididually. \n",
    "\n",
    "    Adds obsm co_occurrence_CLUSTER1_CLUSTER2 to adata and saves to self.fname\n",
    "\n",
    "    Args:\n",
    "        interval: distance intervals for which to calculate co-occurrence score\n",
    "    \"\"\"\n",
    "    self.log.info(f\"calculating co-occurrence for intervals {interval} and clustering {self.params['cluster_name']} (col: {self.params['cluster_col']})\")\n",
    "    cluster_names = {n: i for i,n in enumerate(self.clusters)}\n",
    "    obj_ids = []\n",
    "    co_occs = []\n",
    "    for obj_id in self.mpp_data.unique_obj_ids[:10]:\n",
    "        adata = self.mpp_data.subset(obj_ids=[obj_id], copy=True).get_adata(obs=[self.params['cluster_name']])\n",
    "        # ensure that cluster annotation is present in adata\n",
    "        if self.params['cluster_name'] != self.params['cluster_col']:\n",
    "            adata.obs[self.params['cluster_col']] = annotate_clustering(adata.obs[self.params['cluster_name']], self.annotation, \n",
    "                self.params['cluster_name'], self.params['cluster_col'])\n",
    "        adata.obs[self.params['cluster_col']] = adata.obs[self.params['cluster_col']].astype('category')\n",
    "        self.log.info(f'co-occurrence for {obj_id}, with shape {adata.shape}')\n",
    "        cur_co_occ, _ = sq.gr.co_occurrence(\n",
    "            adata,\n",
    "            cluster_key=self.params['cluster_col'],\n",
    "            spatial_key='spatial',\n",
    "            interval=interval,\n",
    "            copy=True, show_progress_bar=False,\n",
    "        )\n",
    "        # ensure that co_occ has correct format incase of missing clusters\n",
    "        co_occ = np.zeros((len(self.clusters),len(self.clusters),len(interval)-1))\n",
    "        cur_clusters = np.vectorize(cluster_names.__getitem__)(np.array(adata.obs[self.params['cluster_col']].cat.categories))\n",
    "        grid = np.meshgrid(cur_clusters, cur_clusters)\n",
    "        co_occ[grid[0].flat, grid[1].flat] = cur_co_occ.reshape(-1, len(interval)-1)\n",
    "        co_occs.append(co_occ.copy())\n",
    "        obj_ids.append(obj_id)\n",
    "\n",
    "    # add info to adata\n",
    "    co_occ = np.array(co_occs)\n",
    "    for i,c1 in enumerate(self.clusters):\n",
    "        for j,c2 in enumerate(self.clusters):\n",
    "            df = pd.DataFrame(co_occ[:,i,j], index=obj_ids, columns=np.arange(len(interval)-1).astype(str))\n",
    "            df.index = df.index.astype(str)\n",
    "            # ensure obj_ids are in correct order\n",
    "            df = pd.merge(df, self.adata.obs, how='right', left_index=True, right_on='mapobject_id', suffixes=('','right'))[df.columns]\n",
    "            return df\n",
    "            # add to adata.obsm\n",
    "            self.adata.obsm[f'co_occurence_{c1}_{c2}'] = df\n",
    "\n",
    "    self.adata.uns['co_occurence_params'] = {'interval': list(interval)}\n",
    "    self.log.info(f'saving adata to {self.fname}')\n",
    "    self.adata.write(self.fname)\n",
    "\n",
    "\n",
    "interval = np.linspace(0,80,3).astype(np.float32)\n",
    "res = extract_co_occurrence(extr, interval)\n",
    "\n",
    "def co_occurrence(adata, interval, cluster_id='cluster_id'):\n",
    "    \"\"\"\n",
    "    co occurrence\n",
    "    returns co_occ, mapobject_ids, well_name\n",
    "    \"\"\"\n",
    "    # calculate neighborhood enrichment for each cell individually\n",
    "    co_occs = []\n",
    "    mapobject_ids = []\n",
    "    well_name = []\n",
    "    \n",
    "    log.info(f'calculating co-occurrence for intervals {interval} and clustering {cluster_id}')\n",
    "    num_clusters = len(adata.obs[cluster_id].cat.categories)\n",
    "    cluster_names = {n: i for i,n in enumerate(adata.obs[cluster_id].cat.categories)}\n",
    "    for mapobject_id in np.unique(adata.obs.mapobject_id)[:5]:\n",
    "        adata_cell = adata[adata.obs.mapobject_id == mapobject_id].copy()\n",
    "        log.info(f'co-occurrence for {mapobject_id}, with shape {adata_cell.shape}')\n",
    "        cur_co_occ, cur_interval = sq.gr.co_occurrence(\n",
    "            adata_cell,\n",
    "            cluster_key=cluster_id,\n",
    "            spatial_key='spatial',\n",
    "            interval=interval,\n",
    "            copy=True, show_progress_bar=False,\n",
    "        )\n",
    "        # ensure that co_occ always has same format \n",
    "        co_occ = np.zeros((num_clusters,num_clusters,len(interval)-1))\n",
    "        cur_clusters = np.vectorize(cluster_names.__getitem__)(np.array(adata_cell.obs[cluster_id].cat.categories))\n",
    "        grid = np.meshgrid(cur_clusters, cur_clusters)\n",
    "        co_occ[grid[0].flat, grid[1].flat] = cur_co_occ.reshape(-1, len(interval)-1)\n",
    "        co_occs.append(co_occ.copy())\n",
    "\n",
    "        mapobject_ids.append(mapobject_id)\n",
    "        well_name.append(adata_cell.obs['well_name'][0])\n",
    "        \n",
    "    comb_co_occs = np.array(co_occs)\n",
    "    # replace nan with 0 and inf with max value\n",
    "    max_co_occ = np.nan_to_num(comb_co_occs, posinf=0).max()\n",
    "    comb_co_occs = np.nan_to_num(comb_co_occs, posinf=max_co_occ)\n",
    "    \n",
    "    return comb_co_occs, mapobject_ids, well_name\n"
   ]
  },
  {
   "cell_type": "code",
   "execution_count": 24,
   "metadata": {},
   "outputs": [],
   "source": [
    "res = _"
   ]
  },
  {
   "cell_type": "code",
   "execution_count": 27,
   "metadata": {},
   "outputs": [
    {
     "data": {
      "text/html": [
       "<div>\n",
       "<style scoped>\n",
       "    .dataframe tbody tr th:only-of-type {\n",
       "        vertical-align: middle;\n",
       "    }\n",
       "\n",
       "    .dataframe tbody tr th {\n",
       "        vertical-align: top;\n",
       "    }\n",
       "\n",
       "    .dataframe thead th {\n",
       "        text-align: right;\n",
       "    }\n",
       "</style>\n",
       "<table border=\"1\" class=\"dataframe\">\n",
       "  <thead>\n",
       "    <tr style=\"text-align: right;\">\n",
       "      <th></th>\n",
       "      <th>0</th>\n",
       "      <th>1</th>\n",
       "    </tr>\n",
       "  </thead>\n",
       "  <tbody>\n",
       "    <tr>\n",
       "      <th>0</th>\n",
       "      <td>1.145597</td>\n",
       "      <td>0.902322</td>\n",
       "    </tr>\n",
       "    <tr>\n",
       "      <th>1</th>\n",
       "      <td>1.361278</td>\n",
       "      <td>0.656402</td>\n",
       "    </tr>\n",
       "    <tr>\n",
       "      <th>2</th>\n",
       "      <td>1.506623</td>\n",
       "      <td>0.728965</td>\n",
       "    </tr>\n",
       "    <tr>\n",
       "      <th>3</th>\n",
       "      <td>1.337002</td>\n",
       "      <td>0.762019</td>\n",
       "    </tr>\n",
       "    <tr>\n",
       "      <th>4</th>\n",
       "      <td>1.253471</td>\n",
       "      <td>0.902481</td>\n",
       "    </tr>\n",
       "    <tr>\n",
       "      <th>...</th>\n",
       "      <td>...</td>\n",
       "      <td>...</td>\n",
       "    </tr>\n",
       "    <tr>\n",
       "      <th>552</th>\n",
       "      <td>NaN</td>\n",
       "      <td>NaN</td>\n",
       "    </tr>\n",
       "    <tr>\n",
       "      <th>553</th>\n",
       "      <td>NaN</td>\n",
       "      <td>NaN</td>\n",
       "    </tr>\n",
       "    <tr>\n",
       "      <th>554</th>\n",
       "      <td>NaN</td>\n",
       "      <td>NaN</td>\n",
       "    </tr>\n",
       "    <tr>\n",
       "      <th>555</th>\n",
       "      <td>NaN</td>\n",
       "      <td>NaN</td>\n",
       "    </tr>\n",
       "    <tr>\n",
       "      <th>556</th>\n",
       "      <td>NaN</td>\n",
       "      <td>NaN</td>\n",
       "    </tr>\n",
       "  </tbody>\n",
       "</table>\n",
       "<p>557 rows × 2 columns</p>\n",
       "</div>"
      ],
      "text/plain": [
       "            0         1\n",
       "0    1.145597  0.902322\n",
       "1    1.361278  0.656402\n",
       "2    1.506623  0.728965\n",
       "3    1.337002  0.762019\n",
       "4    1.253471  0.902481\n",
       "..        ...       ...\n",
       "552       NaN       NaN\n",
       "553       NaN       NaN\n",
       "554       NaN       NaN\n",
       "555       NaN       NaN\n",
       "556       NaN       NaN\n",
       "\n",
       "[557 rows x 2 columns]"
      ]
     },
     "execution_count": 27,
     "metadata": {},
     "output_type": "execute_result"
    }
   ],
   "source": [
    "res"
   ]
  },
  {
   "cell_type": "code",
   "execution_count": 12,
   "metadata": {},
   "outputs": [],
   "source": [
    "extr.adata"
   ]
  },
  {
   "cell_type": "code",
   "execution_count": 56,
   "metadata": {},
   "outputs": [
    {
     "data": {
      "text/plain": [
       "(10, 9, 9, 2)"
      ]
     },
     "execution_count": 56,
     "metadata": {},
     "output_type": "execute_result"
    }
   ],
   "source": [
    "co_occ.shape"
   ]
  },
  {
   "cell_type": "code",
   "execution_count": 62,
   "metadata": {},
   "outputs": [],
   "source": [
    "import pandas as pd"
   ]
  },
  {
   "cell_type": "code",
   "execution_count": 71,
   "metadata": {},
   "outputs": [],
   "source": [
    "self = extr\n",
    "for i,c1 in enumerate(self.clusters):\n",
    "    for j,c2 in enumerate(self.clusters):\n",
    "        df = pd.DataFrame(co_occ[:,i,j], index=obj_ids, columns=range(len(interval)-1))\n",
    "        df.index = df.index.astype(str)\n",
    "        # ensure obj_ids are in correct order\n",
    "        df = pd.merge(df, self.adata.obs, how='right', left_index=True, right_on='mapobject_id', suffixes=('','right'))[df.columns]\n",
    "        # add to adata.obsm\n",
    "        self.adata.obsm[f'co_occurence_{c1}_{c2}'] = df\n",
    "        break\n",
    "    break"
   ]
  },
  {
   "cell_type": "code",
   "execution_count": 74,
   "metadata": {},
   "outputs": [
    {
     "data": {
      "text/html": [
       "<div>\n",
       "<style scoped>\n",
       "    .dataframe tbody tr th:only-of-type {\n",
       "        vertical-align: middle;\n",
       "    }\n",
       "\n",
       "    .dataframe tbody tr th {\n",
       "        vertical-align: top;\n",
       "    }\n",
       "\n",
       "    .dataframe thead th {\n",
       "        text-align: right;\n",
       "    }\n",
       "</style>\n",
       "<table border=\"1\" class=\"dataframe\">\n",
       "  <thead>\n",
       "    <tr style=\"text-align: right;\">\n",
       "      <th></th>\n",
       "      <th>0</th>\n",
       "      <th>1</th>\n",
       "    </tr>\n",
       "  </thead>\n",
       "  <tbody>\n",
       "    <tr>\n",
       "      <th>0</th>\n",
       "      <td>1.145597</td>\n",
       "      <td>0.902322</td>\n",
       "    </tr>\n",
       "    <tr>\n",
       "      <th>1</th>\n",
       "      <td>1.361278</td>\n",
       "      <td>0.656402</td>\n",
       "    </tr>\n",
       "    <tr>\n",
       "      <th>2</th>\n",
       "      <td>1.506623</td>\n",
       "      <td>0.728965</td>\n",
       "    </tr>\n",
       "    <tr>\n",
       "      <th>3</th>\n",
       "      <td>1.337002</td>\n",
       "      <td>0.762019</td>\n",
       "    </tr>\n",
       "    <tr>\n",
       "      <th>4</th>\n",
       "      <td>1.253471</td>\n",
       "      <td>0.902481</td>\n",
       "    </tr>\n",
       "    <tr>\n",
       "      <th>...</th>\n",
       "      <td>...</td>\n",
       "      <td>...</td>\n",
       "    </tr>\n",
       "    <tr>\n",
       "      <th>552</th>\n",
       "      <td>NaN</td>\n",
       "      <td>NaN</td>\n",
       "    </tr>\n",
       "    <tr>\n",
       "      <th>553</th>\n",
       "      <td>NaN</td>\n",
       "      <td>NaN</td>\n",
       "    </tr>\n",
       "    <tr>\n",
       "      <th>554</th>\n",
       "      <td>NaN</td>\n",
       "      <td>NaN</td>\n",
       "    </tr>\n",
       "    <tr>\n",
       "      <th>555</th>\n",
       "      <td>NaN</td>\n",
       "      <td>NaN</td>\n",
       "    </tr>\n",
       "    <tr>\n",
       "      <th>556</th>\n",
       "      <td>NaN</td>\n",
       "      <td>NaN</td>\n",
       "    </tr>\n",
       "  </tbody>\n",
       "</table>\n",
       "<p>557 rows × 2 columns</p>\n",
       "</div>"
      ],
      "text/plain": [
       "            0         1\n",
       "0    1.145597  0.902322\n",
       "1    1.361278  0.656402\n",
       "2    1.506623  0.728965\n",
       "3    1.337002  0.762019\n",
       "4    1.253471  0.902481\n",
       "..        ...       ...\n",
       "552       NaN       NaN\n",
       "553       NaN       NaN\n",
       "554       NaN       NaN\n",
       "555       NaN       NaN\n",
       "556       NaN       NaN\n",
       "\n",
       "[557 rows x 2 columns]"
      ]
     },
     "execution_count": 74,
     "metadata": {},
     "output_type": "execute_result"
    }
   ],
   "source": [
    "self.adata.obsm['co_occurence_0_0']"
   ]
  },
  {
   "cell_type": "code",
   "execution_count": 38,
   "metadata": {},
   "outputs": [
    {
     "data": {
      "text/plain": [
       "Index(['0', '1', '2', '3', '4', '5', '6'], dtype='object')"
      ]
     },
     "execution_count": 38,
     "metadata": {},
     "output_type": "execute_result"
    }
   ],
   "source": [
    "adata.obs['clustering_0.5'].cat.categories"
   ]
  },
  {
   "cell_type": "markdown",
   "metadata": {},
   "source": [
    "## Explore extracted features"
   ]
  },
  {
   "cell_type": "code",
   "execution_count": 7,
   "metadata": {},
   "outputs": [],
   "source": [
    "extrs = [FeatureExtractor.from_adata(os.path.join(exp.full_path, 'aggregated/full_data', data_dir, 'features_seed1.h5ad')) for data_dir in exp.data_params['data_dirs']]\n",
    "\n",
    "# get combined adata for dotplots\n",
    "adatas = [extr.get_intensity_adata() for extr in extrs]\n",
    "adata = ad.concat(adatas, index_unique='-')\n",
    "zscore(adata, limit_to_groups={'perturbation_duration':'unperturbed'})"
   ]
  },
  {
   "cell_type": "code",
   "execution_count": 5,
   "metadata": {},
   "outputs": [],
   "source": [
    "plot_mean_intensity(adata, groupby='cluster', limit_to_groups={'perturbation_duration':'unperturbed'}, dendrogram=True, layer='zscored', cmap='bwr', vmin=-10, vmax=10)\n",
    "plot_mean_size(adata, groupby_row='cluster', groupby_col='perturbation_duration', normby_row='all', vmax=0.3)"
   ]
  },
  {
   "cell_type": "code",
   "execution_count": null,
   "metadata": {},
   "outputs": [],
   "source": [
    "res = get_intensity_change(adata, groupby='cluster', reference_group='perturbation_duration', reference='unperturbed', color='logfoldchange', size='pval')\n",
    "plot_intensity_change(**res, adjust_height=True, figsize=(15,5), vmin=-2, vmax=2, dendrogram=True)\n",
    "\n",
    "res = get_intensity_change(adata, groupby='cluster', reference_group='perturbation_duration', reference='unperturbed', color='logfoldchange', size='pval', norm_by_group='all')\n",
    "plot_intensity_change(**res, adjust_height=True, figsize=(15,5), vmin=-2, vmax=2)"
   ]
  }
 ],
 "metadata": {
  "interpreter": {
   "hash": "7c3012f799b3ef2382f56288364f3b4f8c7ccb2db3eb0b0379ff9e09fc414115"
  },
  "kernelspec": {
   "display_name": "Python 3 (ipykernel)",
   "language": "python",
   "name": "python3"
  },
  "language_info": {
   "codemirror_mode": {
    "name": "ipython",
    "version": 3
   },
   "file_extension": ".py",
   "mimetype": "text/x-python",
   "name": "python",
   "nbconvert_exporter": "python",
   "pygments_lexer": "ipython3",
   "version": "3.9.7"
  }
 },
 "nbformat": 4,
 "nbformat_minor": 4
}
