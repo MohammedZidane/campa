{
 "cells": [
  {
   "cell_type": "markdown",
   "metadata": {},
   "source": [
    "# Train and evaluate models\n",
    "- experiment class + parameters\n",
    "- training\n",
    "- evaluation of val split (with clustering)\n",
    "\n",
    "\n",
    "TODO: more detailled explanation of model classes?"
   ]
  },
  {
   "cell_type": "code",
   "execution_count": 1,
   "metadata": {},
   "outputs": [
    {
     "name": "stderr",
     "output_type": "stream",
     "text": [
      "INFO:numexpr.utils:NumExpr defaulting to 8 threads.\n"
     ]
    },
    {
     "name": "stdout",
     "output_type": "stream",
     "text": [
      "/Users/hannah.spitzer/projects/pelkmans/local_experiments/NascentRNA_new\n"
     ]
    }
   ],
   "source": [
    "import logging\n",
    "logging.basicConfig(level=logging.INFO)\n",
    "\n",
    "import miann.tl._experiment\n",
    "import miann.tl._estimator\n",
    "import miann.tl._evaluate\n",
    "import miann.data._data\n",
    "\n",
    "import importlib\n",
    "importlib.reload(miann.tl._experiment)\n",
    "importlib.reload(miann.tl._estimator)\n",
    "importlib.reload(miann.tl._evaluate)\n",
    "importlib.reload(miann.data._data)\n",
    "\n",
    "from miann.constants import get_data_config, EXPERIMENT_DIR\n",
    "from miann.utils import merged_config, load_config\n",
    "\n",
    "data_config = get_data_config('NascentRNA')\n",
    "print(EXPERIMENT_DIR)"
   ]
  },
  {
   "cell_type": "markdown",
   "metadata": {},
   "source": [
    "## Experiment class handles config files\n",
    "For training and evaluating models, an experiment_params file is used. This file contains several model/experiment parameters for easy training of several models at the same time. The parameter dictionaries contain several sections:\n",
    "- experiment (where to save experiment)\n",
    "- data (which dataset to use for training)\n",
    "- model (model class definition)\n",
    "- training (training hyperparameters)\n",
    "- evaluation (evaluation on val/test split)\n",
    "- cluster (clustering on val/test split)\n",
    "\n",
    "The Experiment class is initialised from a parameter dictionary for one specific experiment and is passed to specific classes for training, evaluation, and clustering."
   ]
  },
  {
   "cell_type": "code",
   "execution_count": 2,
   "metadata": {},
   "outputs": [
    {
     "data": {
      "text/plain": [
       "{'experiment': {'dir': 'test', 'name': 'VAE', 'save_config': True},\n",
       " 'data': {'load_dataset': True,\n",
       "  'data_config': 'NascentRNA',\n",
       "  'dataset_name': '184A1_test_dataset',\n",
       "  'output_channels': None},\n",
       " 'model': {'model_cls': <ModelEnum.VAEModel: 'VAEModel'>,\n",
       "  'model_kwargs': {'num_neighbors': 3,\n",
       "   'num_channels': 34,\n",
       "   'num_output_channels': 34,\n",
       "   'latent_dim': 16,\n",
       "   'encoder_conv_layers': [32],\n",
       "   'encoder_conv_kernel_size': [1],\n",
       "   'encoder_fc_layers': [32, 16],\n",
       "   'decoder_fc_layers': []},\n",
       "  'init_with_weights': False},\n",
       " 'training': {'learning_rate': 0.001,\n",
       "  'epochs': 10,\n",
       "  'batch_size': 128,\n",
       "  'loss': {'decoder': <LossEnum.SIGMA_MSE: 'sigma_vae_mse'>,\n",
       "   'latent': <LossEnum.KL: 'kl_divergence'>},\n",
       "  'metrics': {'decoder': <LossEnum.MSE_metric: 'mean_squared_error_metric'>,\n",
       "   'latent': <LossEnum.KL: 'kl_divergence'>},\n",
       "  'save_model_weights': True,\n",
       "  'save_history': True,\n",
       "  'overwrite_history': True},\n",
       " 'evaluation': {'split': 'val',\n",
       "  'predict_reps': ['latent', 'decoder'],\n",
       "  'img_ids': 5,\n",
       "  'predict_imgs': True,\n",
       "  'predict_cluster_imgs': True},\n",
       " 'cluster': {'cluster_name': 'clustering',\n",
       "  'cluster_rep': 'latent',\n",
       "  'cluster_method': 'leiden',\n",
       "  'leiden_resolution': 0.8,\n",
       "  'subsample': None,\n",
       "  'subsample_kwargs': {},\n",
       "  'som_kwargs': {},\n",
       "  'umap': True}}"
      ]
     },
     "execution_count": 2,
     "metadata": {},
     "output_type": "execute_result"
    }
   ],
   "source": [
    "# get config for training\n",
    "config = load_config(\"params/example_experiment_params.py\")\n",
    "exp_config = merged_config(config.base_config, config.variable_config[0])\n",
    "exp_config"
   ]
  },
  {
   "cell_type": "code",
   "execution_count": 3,
   "metadata": {},
   "outputs": [
    {
     "name": "stderr",
     "output_type": "stream",
     "text": [
      "INFO:Experiment:Setting up experiment test/VAE\n",
      "INFO:Experiment:Saving config to test/VAE/config.json\n"
     ]
    }
   ],
   "source": [
    "exp = miann.tl._experiment.Experiment(exp_config)"
   ]
  },
  {
   "cell_type": "markdown",
   "metadata": {},
   "source": [
    "## NN training and prediction with Estimator\n",
    "The Estimator handles model setup, training, and prediction\n"
   ]
  },
  {
   "cell_type": "code",
   "execution_count": 8,
   "metadata": {},
   "outputs": [
    {
     "name": "stderr",
     "output_type": "stream",
     "text": [
      "INFO:VAEModel:Creating model\n",
      "INFO:MPPData:Created new: MPPData for NascentRNA (246467 mpps with shape (3, 3, 34) from 1768 objects). Data keys: ['x', 'y', 'mpp', 'obj_ids', 'labels', 'conditions'].\n",
      "INFO:MPPData:Created new: MPPData for NascentRNA (11848 mpps with shape (3, 3, 34) from 88 objects). Data keys: ['x', 'y', 'mpp', 'obj_ids', 'labels', 'conditions'].\n",
      "INFO:MPPData:Created new: MPPData for NascentRNA (14231 mpps with shape (3, 3, 34) from 101 objects). Data keys: ['x', 'y', 'mpp', 'obj_ids', 'labels', 'conditions'].\n",
      "INFO:MPPData:Created new: MPPData for NascentRNA (1184845 mpps with shape (1, 1, 34) from 88 objects). Data keys: ['x', 'y', 'mpp', 'obj_ids', 'labels', 'conditions'].\n",
      "INFO:MPPData:Created new: MPPData for NascentRNA (1423116 mpps with shape (1, 1, 34) from 101 objects). Data keys: ['x', 'y', 'mpp', 'obj_ids', 'labels', 'conditions'].\n"
     ]
    }
   ],
   "source": [
    "est = miann.tl._estimator.Estimator(exp)"
   ]
  },
  {
   "cell_type": "code",
   "execution_count": 9,
   "metadata": {},
   "outputs": [
    {
     "name": "stderr",
     "output_type": "stream",
     "text": [
      "INFO:Estimator:Training model for 10 epochs\n"
     ]
    },
    {
     "name": "stdout",
     "output_type": "stream",
     "text": [
      "Epoch 1/10\n",
      "1926/1926 [==============================] - 31s 15ms/step - loss: -1632.1978 - decoder_loss: -1642.9309 - latent_loss: 10.7326 - decoder_mean_squared_error: 0.0414 - latent_kl_loss: 10.7321 - val_loss: -2282.5046 - val_decoder_loss: -2291.1294 - val_latent_loss: 8.6244 - val_decoder_mean_squared_error: 0.0205 - val_latent_kl_loss: 8.6265\n",
      "Epoch 2/10\n",
      "1926/1926 [==============================] - 31s 16ms/step - loss: -2384.5540 - decoder_loss: -2392.4062 - latent_loss: 7.8539 - decoder_mean_squared_error: 0.0198 - latent_kl_loss: 7.8537 - val_loss: -2558.5359 - val_decoder_loss: -2565.8752 - val_latent_loss: 7.3400 - val_decoder_mean_squared_error: 0.0181 - val_latent_kl_loss: 7.3412\n",
      "Epoch 3/10\n",
      "1926/1926 [==============================] - 34s 17ms/step - loss: -2517.8669 - decoder_loss: -2524.9636 - latent_loss: 7.0996 - decoder_mean_squared_error: 0.0186 - latent_kl_loss: 7.0995 - val_loss: -2587.5576 - val_decoder_loss: -2594.4346 - val_latent_loss: 6.8767 - val_decoder_mean_squared_error: 0.0179 - val_latent_kl_loss: 6.8775\n",
      "Epoch 4/10\n",
      "1926/1926 [==============================] - 37s 19ms/step - loss: -2539.6785 - decoder_loss: -2546.5479 - latent_loss: 6.8709 - decoder_mean_squared_error: 0.0184 - latent_kl_loss: 6.8709 - val_loss: -2609.3530 - val_decoder_loss: -2616.2703 - val_latent_loss: 6.9175 - val_decoder_mean_squared_error: 0.0177 - val_latent_kl_loss: 6.9181\n",
      "Epoch 5/10\n",
      "1926/1926 [==============================] - 31s 16ms/step - loss: -2551.1624 - decoder_loss: -2557.9358 - latent_loss: 6.7725 - decoder_mean_squared_error: 0.0183 - latent_kl_loss: 6.7725 - val_loss: -2632.6589 - val_decoder_loss: -2639.4492 - val_latent_loss: 6.7905 - val_decoder_mean_squared_error: 0.0175 - val_latent_kl_loss: 6.7910\n",
      "Epoch 6/10\n",
      "1926/1926 [==============================] - 30s 15ms/step - loss: -2558.3308 - decoder_loss: -2564.9641 - latent_loss: 6.6310 - decoder_mean_squared_error: 0.0182 - latent_kl_loss: 6.6311 - val_loss: -2478.4875 - val_decoder_loss: -2485.1545 - val_latent_loss: 6.6672 - val_decoder_mean_squared_error: 0.0187 - val_latent_kl_loss: 6.6676\n",
      "Epoch 7/10\n",
      "1926/1926 [==============================] - 31s 16ms/step - loss: -2561.4045 - decoder_loss: -2567.8904 - latent_loss: 6.4872 - decoder_mean_squared_error: 0.0182 - latent_kl_loss: 6.4873 - val_loss: -2635.5051 - val_decoder_loss: -2642.0085 - val_latent_loss: 6.5033 - val_decoder_mean_squared_error: 0.0174 - val_latent_kl_loss: 6.5036\n",
      "Epoch 8/10\n",
      "1926/1926 [==============================] - 31s 15ms/step - loss: -2562.4941 - decoder_loss: -2568.8303 - latent_loss: 6.3342 - decoder_mean_squared_error: 0.0182 - latent_kl_loss: 6.3342 - val_loss: -2627.2473 - val_decoder_loss: -2633.6536 - val_latent_loss: 6.4066 - val_decoder_mean_squared_error: 0.0175 - val_latent_kl_loss: 6.4068\n",
      "Epoch 9/10\n",
      "1926/1926 [==============================] - 31s 16ms/step - loss: -2562.9612 - decoder_loss: -2569.1697 - latent_loss: 6.2058 - decoder_mean_squared_error: 0.0182 - latent_kl_loss: 6.2059 - val_loss: -2640.6660 - val_decoder_loss: -2646.8940 - val_latent_loss: 6.2279 - val_decoder_mean_squared_error: 0.0174 - val_latent_kl_loss: 6.2281\n",
      "Epoch 10/10\n",
      "1926/1926 [==============================] - 31s 16ms/step - loss: -2563.5432 - decoder_loss: -2569.6216 - latent_loss: 6.0795 - decoder_mean_squared_error: 0.0182 - latent_kl_loss: 6.0795 - val_loss: -2633.8235 - val_decoder_loss: -2640.1628 - val_latent_loss: 6.3388 - val_decoder_mean_squared_error: 0.0175 - val_latent_kl_loss: 6.3390\n"
     ]
    },
    {
     "name": "stderr",
     "output_type": "stream",
     "text": [
      "INFO:Estimator:Saving model to /Users/hannah.spitzer/projects/pelkmans/local_experiments/NascentRNA_new/test/VAE/weights_epoch010\n"
     ]
    },
    {
     "data": {
      "text/html": [
       "<div>\n",
       "<style scoped>\n",
       "    .dataframe tbody tr th:only-of-type {\n",
       "        vertical-align: middle;\n",
       "    }\n",
       "\n",
       "    .dataframe tbody tr th {\n",
       "        vertical-align: top;\n",
       "    }\n",
       "\n",
       "    .dataframe thead th {\n",
       "        text-align: right;\n",
       "    }\n",
       "</style>\n",
       "<table border=\"1\" class=\"dataframe\">\n",
       "  <thead>\n",
       "    <tr style=\"text-align: right;\">\n",
       "      <th></th>\n",
       "      <th>loss</th>\n",
       "      <th>decoder_loss</th>\n",
       "      <th>latent_loss</th>\n",
       "      <th>decoder_mean_squared_error</th>\n",
       "      <th>latent_kl_loss</th>\n",
       "      <th>val_loss</th>\n",
       "      <th>val_decoder_loss</th>\n",
       "      <th>val_latent_loss</th>\n",
       "      <th>val_decoder_mean_squared_error</th>\n",
       "      <th>val_latent_kl_loss</th>\n",
       "    </tr>\n",
       "    <tr>\n",
       "      <th>epoch</th>\n",
       "      <th></th>\n",
       "      <th></th>\n",
       "      <th></th>\n",
       "      <th></th>\n",
       "      <th></th>\n",
       "      <th></th>\n",
       "      <th></th>\n",
       "      <th></th>\n",
       "      <th></th>\n",
       "      <th></th>\n",
       "    </tr>\n",
       "  </thead>\n",
       "  <tbody>\n",
       "    <tr>\n",
       "      <th>0</th>\n",
       "      <td>-1632.197754</td>\n",
       "      <td>-1642.930908</td>\n",
       "      <td>10.732606</td>\n",
       "      <td>0.041395</td>\n",
       "      <td>10.732114</td>\n",
       "      <td>-2282.504639</td>\n",
       "      <td>-2291.129395</td>\n",
       "      <td>8.624417</td>\n",
       "      <td>0.020534</td>\n",
       "      <td>8.626506</td>\n",
       "    </tr>\n",
       "    <tr>\n",
       "      <th>1</th>\n",
       "      <td>-2384.553955</td>\n",
       "      <td>-2392.406250</td>\n",
       "      <td>7.853926</td>\n",
       "      <td>0.019779</td>\n",
       "      <td>7.853745</td>\n",
       "      <td>-2558.535889</td>\n",
       "      <td>-2565.875244</td>\n",
       "      <td>7.340002</td>\n",
       "      <td>0.018120</td>\n",
       "      <td>7.341238</td>\n",
       "    </tr>\n",
       "    <tr>\n",
       "      <th>2</th>\n",
       "      <td>-2517.866943</td>\n",
       "      <td>-2524.963623</td>\n",
       "      <td>7.099556</td>\n",
       "      <td>0.018591</td>\n",
       "      <td>7.099494</td>\n",
       "      <td>-2587.557617</td>\n",
       "      <td>-2594.434570</td>\n",
       "      <td>6.876660</td>\n",
       "      <td>0.017876</td>\n",
       "      <td>6.877465</td>\n",
       "    </tr>\n",
       "    <tr>\n",
       "      <th>3</th>\n",
       "      <td>-2539.678467</td>\n",
       "      <td>-2546.547852</td>\n",
       "      <td>6.870928</td>\n",
       "      <td>0.018400</td>\n",
       "      <td>6.870900</td>\n",
       "      <td>-2609.353027</td>\n",
       "      <td>-2616.270264</td>\n",
       "      <td>6.917495</td>\n",
       "      <td>0.017672</td>\n",
       "      <td>6.918108</td>\n",
       "    </tr>\n",
       "    <tr>\n",
       "      <th>4</th>\n",
       "      <td>-2551.162354</td>\n",
       "      <td>-2557.935791</td>\n",
       "      <td>6.772480</td>\n",
       "      <td>0.018306</td>\n",
       "      <td>6.772503</td>\n",
       "      <td>-2632.658936</td>\n",
       "      <td>-2639.449219</td>\n",
       "      <td>6.790499</td>\n",
       "      <td>0.017467</td>\n",
       "      <td>6.790955</td>\n",
       "    </tr>\n",
       "    <tr>\n",
       "      <th>5</th>\n",
       "      <td>-2558.330811</td>\n",
       "      <td>-2564.964111</td>\n",
       "      <td>6.631020</td>\n",
       "      <td>0.018243</td>\n",
       "      <td>6.631079</td>\n",
       "      <td>-2478.487549</td>\n",
       "      <td>-2485.154541</td>\n",
       "      <td>6.667218</td>\n",
       "      <td>0.018739</td>\n",
       "      <td>6.667554</td>\n",
       "    </tr>\n",
       "    <tr>\n",
       "      <th>6</th>\n",
       "      <td>-2561.404541</td>\n",
       "      <td>-2567.890381</td>\n",
       "      <td>6.487192</td>\n",
       "      <td>0.018226</td>\n",
       "      <td>6.487279</td>\n",
       "      <td>-2635.505127</td>\n",
       "      <td>-2642.008545</td>\n",
       "      <td>6.503323</td>\n",
       "      <td>0.017445</td>\n",
       "      <td>6.503577</td>\n",
       "    </tr>\n",
       "    <tr>\n",
       "      <th>7</th>\n",
       "      <td>-2562.494141</td>\n",
       "      <td>-2568.830322</td>\n",
       "      <td>6.334205</td>\n",
       "      <td>0.018219</td>\n",
       "      <td>6.334208</td>\n",
       "      <td>-2627.247314</td>\n",
       "      <td>-2633.653564</td>\n",
       "      <td>6.406629</td>\n",
       "      <td>0.017515</td>\n",
       "      <td>6.406843</td>\n",
       "    </tr>\n",
       "    <tr>\n",
       "      <th>8</th>\n",
       "      <td>-2562.961182</td>\n",
       "      <td>-2569.169678</td>\n",
       "      <td>6.205832</td>\n",
       "      <td>0.018206</td>\n",
       "      <td>6.205904</td>\n",
       "      <td>-2640.666016</td>\n",
       "      <td>-2646.894043</td>\n",
       "      <td>6.227886</td>\n",
       "      <td>0.017404</td>\n",
       "      <td>6.228083</td>\n",
       "    </tr>\n",
       "    <tr>\n",
       "      <th>9</th>\n",
       "      <td>-2563.543213</td>\n",
       "      <td>-2569.621582</td>\n",
       "      <td>6.079512</td>\n",
       "      <td>0.018205</td>\n",
       "      <td>6.079517</td>\n",
       "      <td>-2633.823486</td>\n",
       "      <td>-2640.162842</td>\n",
       "      <td>6.338755</td>\n",
       "      <td>0.017458</td>\n",
       "      <td>6.338951</td>\n",
       "    </tr>\n",
       "  </tbody>\n",
       "</table>\n",
       "</div>"
      ],
      "text/plain": [
       "              loss  decoder_loss  latent_loss  decoder_mean_squared_error  \\\n",
       "epoch                                                                       \n",
       "0     -1632.197754  -1642.930908    10.732606                    0.041395   \n",
       "1     -2384.553955  -2392.406250     7.853926                    0.019779   \n",
       "2     -2517.866943  -2524.963623     7.099556                    0.018591   \n",
       "3     -2539.678467  -2546.547852     6.870928                    0.018400   \n",
       "4     -2551.162354  -2557.935791     6.772480                    0.018306   \n",
       "5     -2558.330811  -2564.964111     6.631020                    0.018243   \n",
       "6     -2561.404541  -2567.890381     6.487192                    0.018226   \n",
       "7     -2562.494141  -2568.830322     6.334205                    0.018219   \n",
       "8     -2562.961182  -2569.169678     6.205832                    0.018206   \n",
       "9     -2563.543213  -2569.621582     6.079512                    0.018205   \n",
       "\n",
       "       latent_kl_loss     val_loss  val_decoder_loss  val_latent_loss  \\\n",
       "epoch                                                                   \n",
       "0           10.732114 -2282.504639      -2291.129395         8.624417   \n",
       "1            7.853745 -2558.535889      -2565.875244         7.340002   \n",
       "2            7.099494 -2587.557617      -2594.434570         6.876660   \n",
       "3            6.870900 -2609.353027      -2616.270264         6.917495   \n",
       "4            6.772503 -2632.658936      -2639.449219         6.790499   \n",
       "5            6.631079 -2478.487549      -2485.154541         6.667218   \n",
       "6            6.487279 -2635.505127      -2642.008545         6.503323   \n",
       "7            6.334208 -2627.247314      -2633.653564         6.406629   \n",
       "8            6.205904 -2640.666016      -2646.894043         6.227886   \n",
       "9            6.079517 -2633.823486      -2640.162842         6.338755   \n",
       "\n",
       "       val_decoder_mean_squared_error  val_latent_kl_loss  \n",
       "epoch                                                      \n",
       "0                            0.020534            8.626506  \n",
       "1                            0.018120            7.341238  \n",
       "2                            0.017876            6.877465  \n",
       "3                            0.017672            6.918108  \n",
       "4                            0.017467            6.790955  \n",
       "5                            0.018739            6.667554  \n",
       "6                            0.017445            6.503577  \n",
       "7                            0.017515            6.406843  \n",
       "8                            0.017404            6.228083  \n",
       "9                            0.017458            6.338951  "
      ]
     },
     "execution_count": 9,
     "metadata": {},
     "output_type": "execute_result"
    }
   ],
   "source": [
    "est.train_model()"
   ]
  },
  {
   "cell_type": "markdown",
   "metadata": {},
   "source": [
    "## Predict val split and images with Predictor"
   ]
  },
  {
   "cell_type": "code",
   "execution_count": 8,
   "metadata": {},
   "outputs": [
    {
     "name": "stderr",
     "output_type": "stream",
     "text": [
      "INFO:Predictor:Creating Predictor for test/VAE\n",
      "INFO:VAEModel:Creating model\n",
      "INFO:Estimator:Initializing model with weights from /Users/hannah.spitzer/projects/pelkmans/local_experiments/NascentRNA_new/test/VAE/weights_epoch010\n",
      "INFO:MPPData:Created new: MPPData for NascentRNA (246467 mpps with shape (3, 3, 34) from 1768 objects). Data keys: ['x', 'y', 'mpp', 'obj_ids', 'labels', 'conditions'].\n",
      "INFO:MPPData:Created new: MPPData for NascentRNA (11848 mpps with shape (3, 3, 34) from 88 objects). Data keys: ['x', 'y', 'mpp', 'obj_ids', 'labels', 'conditions'].\n",
      "INFO:MPPData:Created new: MPPData for NascentRNA (14231 mpps with shape (3, 3, 34) from 101 objects). Data keys: ['x', 'y', 'mpp', 'obj_ids', 'labels', 'conditions'].\n",
      "INFO:MPPData:Created new: MPPData for NascentRNA (1184845 mpps with shape (1, 1, 34) from 88 objects). Data keys: ['x', 'y', 'mpp', 'obj_ids', 'labels', 'conditions'].\n",
      "INFO:MPPData:Created new: MPPData for NascentRNA (1423116 mpps with shape (1, 1, 34) from 101 objects). Data keys: ['x', 'y', 'mpp', 'obj_ids', 'labels', 'conditions'].\n"
     ]
    }
   ],
   "source": [
    "pred = miann.tl._evaluate.Predictor(exp)"
   ]
  },
  {
   "cell_type": "code",
   "execution_count": 5,
   "metadata": {},
   "outputs": [
    {
     "ename": "NameError",
     "evalue": "name 'pred' is not defined",
     "output_type": "error",
     "traceback": [
      "\u001b[0;31m---------------------------------------------------------------------------\u001b[0m",
      "\u001b[0;31mNameError\u001b[0m                                 Traceback (most recent call last)",
      "\u001b[0;32m/var/folders/s9/0d6yy20d44v60qd0nfkjlqdd541mvv/T/ipykernel_85271/2439453019.py\u001b[0m in \u001b[0;36m<module>\u001b[0;34m\u001b[0m\n\u001b[0;32m----> 1\u001b[0;31m \u001b[0mpred\u001b[0m\u001b[0;34m.\u001b[0m\u001b[0mevaluate_model\u001b[0m\u001b[0;34m(\u001b[0m\u001b[0;34m)\u001b[0m\u001b[0;34m\u001b[0m\u001b[0;34m\u001b[0m\u001b[0m\n\u001b[0m",
      "\u001b[0;31mNameError\u001b[0m: name 'pred' is not defined"
     ]
    }
   ],
   "source": [
    "pred.evaluate_model()"
   ]
  },
  {
   "cell_type": "markdown",
   "metadata": {},
   "source": [
    "## Cluster resulting latent space with Cluster"
   ]
  },
  {
   "cell_type": "code",
   "execution_count": 4,
   "metadata": {},
   "outputs": [
    {
     "name": "stderr",
     "output_type": "stream",
     "text": [
      "2021-11-07 16:14:12.924029: I tensorflow/core/platform/cpu_feature_guard.cc:142] This TensorFlow binary is optimized with oneAPI Deep Neural Network Library (oneDNN) to use the following CPU instructions in performance-critical operations:  SSE4.1 SSE4.2 AVX AVX2 FMA\n",
      "To enable them in other operations, rebuild TensorFlow with the appropriate compiler flags.\n",
      "INFO:VAEModel:Creating model\n",
      "INFO:Estimator:Initializing model with weights from /Users/hannah.spitzer/projects/pelkmans/local_experiments/NascentRNA_new/test/VAE/weights_epoch010\n",
      "INFO:MPPData:Created new: MPPData for NascentRNA (246467 mpps with shape (3, 3, 34) from 1768 objects). Data keys: ['x', 'y', 'mpp', 'obj_ids', 'labels', 'conditions'].\n",
      "INFO:MPPData:Created new: MPPData for NascentRNA (11848 mpps with shape (3, 3, 34) from 88 objects). Data keys: ['x', 'y', 'mpp', 'obj_ids', 'labels', 'conditions'].\n",
      "INFO:MPPData:Created new: MPPData for NascentRNA (14231 mpps with shape (3, 3, 34) from 101 objects). Data keys: ['x', 'y', 'mpp', 'obj_ids', 'labels', 'conditions'].\n",
      "INFO:MPPData:Created new: MPPData for NascentRNA (1184845 mpps with shape (1, 1, 34) from 88 objects). Data keys: ['x', 'y', 'mpp', 'obj_ids', 'labels', 'conditions'].\n",
      "INFO:MPPData:Created new: MPPData for NascentRNA (1423116 mpps with shape (1, 1, 34) from 101 objects). Data keys: ['x', 'y', 'mpp', 'obj_ids', 'labels', 'conditions'].\n",
      "INFO:MPPData:Before subsetting: 88 objects\n",
      "INFO:MPPData:Subsetting to 88 objects\n",
      "WARNING:tensorflow:Unresolved object in checkpoint: (root).optimizer.iter\n",
      "WARNING:tensorflow:Unresolved object in checkpoint: (root).optimizer.beta_1\n",
      "WARNING:tensorflow:Unresolved object in checkpoint: (root).optimizer.beta_2\n",
      "WARNING:tensorflow:Unresolved object in checkpoint: (root).optimizer.decay\n",
      "WARNING:tensorflow:Unresolved object in checkpoint: (root).optimizer.learning_rate\n",
      "WARNING:tensorflow:A checkpoint was restored (e.g. tf.train.Checkpoint.restore or tf.keras.Model.load_weights) but not all checkpointed values were used. See above for specific issues. Use expect_partial() on the load status object, e.g. tf.train.Checkpoint.restore(...).expect_partial(), to silence these warnings, or use assert_consumed() to make the check explicit. See https://www.tensorflow.org/guide/checkpoint#loading_mechanics for details.\n"
     ]
    }
   ],
   "source": [
    "cl = miann.tl._evaluate.Cluster.from_exp_split(exp)"
   ]
  },
  {
   "cell_type": "code",
   "execution_count": 6,
   "metadata": {},
   "outputs": [
    {
     "name": "stderr",
     "output_type": "stream",
     "text": [
      "WARNING:Cluster:Did not find file for clustering in test/VAE/results_epoch010/val. Create with create_cluster_data\n",
      "INFO:Cluster:Creating leiden clustering\n",
      "/Users/hannah.spitzer/opt/miniconda3/envs/pelkmans-3.9/lib/python3.9/site-packages/anndata/_core/anndata.py:120: ImplicitModificationWarning: Transforming to str index.\n",
      "  warnings.warn(\"Transforming to str index.\", ImplicitModificationWarning)\n",
      "OMP: Info #271: omp_set_nested routine deprecated, please use omp_set_max_active_levels instead.\n",
      "INFO:Cluster:Calculating umap\n",
      "INFO:Cluster:Creating pynndescent index for latent\n",
      "INFO:MPPData:Saving mpp data to /Users/hannah.spitzer/projects/pelkmans/local_experiments/NascentRNA_new/test/VAE/results_epoch010/val (keys: ['clustering', 'y', 'umap', 'x', 'obj_ids'])\n"
     ]
    }
   ],
   "source": [
    "cl.create_clustering()"
   ]
  },
  {
   "cell_type": "code",
   "execution_count": 5,
   "metadata": {},
   "outputs": [
    {
     "name": "stderr",
     "output_type": "stream",
     "text": [
      "INFO:Predictor:Creating Predictor for test/VAE\n",
      "INFO:VAEModel:Creating model\n",
      "INFO:Estimator:Initializing model with weights from /Users/hannah.spitzer/projects/pelkmans/local_experiments/NascentRNA_new/test/VAE/weights_epoch010\n",
      "INFO:MPPData:Created new: MPPData for NascentRNA (246467 mpps with shape (3, 3, 34) from 1768 objects). Data keys: ['x', 'y', 'mpp', 'obj_ids', 'labels', 'conditions'].\n",
      "INFO:MPPData:Created new: MPPData for NascentRNA (11848 mpps with shape (3, 3, 34) from 88 objects). Data keys: ['x', 'y', 'mpp', 'obj_ids', 'labels', 'conditions'].\n",
      "INFO:MPPData:Created new: MPPData for NascentRNA (14231 mpps with shape (3, 3, 34) from 101 objects). Data keys: ['x', 'y', 'mpp', 'obj_ids', 'labels', 'conditions'].\n",
      "INFO:MPPData:Created new: MPPData for NascentRNA (1184845 mpps with shape (1, 1, 34) from 88 objects). Data keys: ['x', 'y', 'mpp', 'obj_ids', 'labels', 'conditions'].\n",
      "INFO:MPPData:Created new: MPPData for NascentRNA (1423116 mpps with shape (1, 1, 34) from 101 objects). Data keys: ['x', 'y', 'mpp', 'obj_ids', 'labels', 'conditions'].\n",
      "INFO:MPPData:Before subsetting: 88 objects\n",
      "INFO:MPPData:Subsetting to 5 objects\n",
      "INFO:Cluster:Projecting cluster_imgs for test/VAE\n"
     ]
    },
    {
     "name": "stdout",
     "output_type": "stream",
     "text": [
      "Cannot read with memmap:  /Users/hannah.spitzer/projects/pelkmans/local_experiments/NascentRNA_new/test/VAE/results_epoch010/val/clustering.npy\n"
     ]
    },
    {
     "name": "stderr",
     "output_type": "stream",
     "text": [
      "INFO:Cluster:Projecting clustering to {len(mpp_data.x)} sampled\n",
      "INFO:Cluster:processing chunk 0\n",
      "INFO:MPPData:Saving mpp data to /Users/hannah.spitzer/projects/pelkmans/local_experiments/NascentRNA_new/test/VAE/results_epoch010/val_imgs (keys: ['clustering', 'y', 'x', 'obj_ids'])\n",
      "WARNING:tensorflow:Unresolved object in checkpoint: (root).optimizer.iter\n",
      "WARNING:tensorflow:Unresolved object in checkpoint: (root).optimizer.beta_1\n",
      "WARNING:tensorflow:Unresolved object in checkpoint: (root).optimizer.beta_2\n",
      "WARNING:tensorflow:Unresolved object in checkpoint: (root).optimizer.decay\n",
      "WARNING:tensorflow:Unresolved object in checkpoint: (root).optimizer.learning_rate\n",
      "WARNING:tensorflow:A checkpoint was restored (e.g. tf.train.Checkpoint.restore or tf.keras.Model.load_weights) but not all checkpointed values were used. See above for specific issues. Use expect_partial() on the load status object, e.g. tf.train.Checkpoint.restore(...).expect_partial(), to silence these warnings, or use assert_consumed() to make the check explicit. See https://www.tensorflow.org/guide/checkpoint#loading_mechanics for details.\n"
     ]
    }
   ],
   "source": [
    "# predict cluster images\n",
    "_ = cl.predict_cluster_imgs(exp)"
   ]
  },
  {
   "cell_type": "markdown",
   "metadata": {},
   "source": [
    "## Plot results using ModelComparator"
   ]
  },
  {
   "cell_type": "code",
   "execution_count": null,
   "metadata": {},
   "outputs": [],
   "source": [
    "# TODO or have individual plotting functions that can also use with any mpp_data?\n",
    "# TODO modelcomp should used these individual plotting fns, and just make comparison more convinient\n",
    "# TODO maybe experiment can have fns for returning all kings of mpp datas? exp.get_clustered_data()\n",
    "# exp.get_val_data() (with clustering etc)"
   ]
  },
  {
   "cell_type": "markdown",
   "metadata": {},
   "source": []
  }
 ],
 "metadata": {
  "interpreter": {
   "hash": "7c3012f799b3ef2382f56288364f3b4f8c7ccb2db3eb0b0379ff9e09fc414115"
  },
  "kernelspec": {
   "display_name": "Python 3.9.7 64-bit ('pelkmans-3.9': conda)",
   "name": "python3"
  },
  "language_info": {
   "codemirror_mode": {
    "name": "ipython",
    "version": 3
   },
   "file_extension": ".py",
   "mimetype": "text/x-python",
   "name": "python",
   "nbconvert_exporter": "python",
   "pygments_lexer": "ipython3",
   "version": "3.9.7"
  },
  "orig_nbformat": 4
 },
 "nbformat": 4,
 "nbformat_minor": 2
}
