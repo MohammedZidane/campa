{
 "cells": [
  {
   "cell_type": "code",
   "execution_count": 1,
   "metadata": {},
   "outputs": [],
   "source": [
    "from miann.tl import Experiment, Predictor, Cluster\n",
    "import os\n",
    "import json\n",
    "from miann.data import MPPData"
   ]
  },
  {
   "cell_type": "code",
   "execution_count": 2,
   "metadata": {},
   "outputs": [],
   "source": [
    "mppleiden_experiment_params = {\n",
    "    'experiment': {\n",
    "        'dir': 'test',\n",
    "        'name': 'MPPleiden',\n",
    "        'save_config': True,\n",
    "    },\n",
    "    'data': {\n",
    "        'data_config': 'NascentRNA',\n",
    "        'dataset_name': '184A1_test_dataset',\n",
    "        'output_channels': None,\n",
    "    },\n",
    "    'model': None,\n",
    "    'training': None,\n",
    "    \n",
    "    'evaluation': { # TODO change this to fit to aggregation params\n",
    "        'split': 'val',\n",
    "        'predict_reps': [],\n",
    "        'img_ids': 5,\n",
    "        'predict_imgs': False,\n",
    "        'predict_cluster_imgs': True,\n",
    "    },\n",
    "    'cluster': {  # cluster config, also used in this format for whole data clustering\n",
    "        'cluster_name': 'clustering',\n",
    "        'cluster_rep': 'mpp',\n",
    "        'cluster_method': 'leiden', # leiden or kmeans\n",
    "        'leiden_resolution': 0.8,\n",
    "        'subsample': None, # 'subsample' or 'som'\n",
    "        'subsample_kwargs': {},\n",
    "        'som_kwargs': {},\n",
    "        'umap': True,\n",
    "    },\n",
    "}\n",
    "\n",
    "exp = Experiment(mppleiden_experiment_params)"
   ]
  },
  {
   "cell_type": "code",
   "execution_count": 3,
   "metadata": {},
   "outputs": [],
   "source": [
    "# create results mpp_data for not trainable experiment to allow usage with Cluster\n",
    "base_data_dir = os.path.join('datasets', exp.data_params['dataset_name'], exp.config['evaluation']['split'])\n",
    "mpp_params = {'base_data_dir':base_data_dir, 'subset': False}\n",
    "mpp_data = MPPData.from_data_dir(base_data_dir)\n",
    "mpp_data.write(save_dir=os.path.join(exp.full_path, 'results_epoch000', exp.config['evaluation']['split']), mpp_params=mpp_params, save_keys=[])\n",
    "\n",
    "cl = Cluster.from_exp_split(exp)"
   ]
  },
  {
   "cell_type": "code",
   "execution_count": 4,
   "metadata": {},
   "outputs": [
    {
     "name": "stderr",
     "output_type": "stream",
     "text": [
      "/Users/hannah.spitzer/opt/miniconda3/envs/pelkmans-3.9/lib/python3.9/site-packages/anndata/_core/anndata.py:120: ImplicitModificationWarning: Transforming to str index.\n",
      "  warnings.warn(\"Transforming to str index.\", ImplicitModificationWarning)\n",
      "OMP: Info #271: omp_set_nested routine deprecated, please use omp_set_max_active_levels instead.\n",
      "Saving partial keys of mpp data without a base_data_dir to enable correct loading\n"
     ]
    }
   ],
   "source": [
    "cl.create_clustering()"
   ]
  },
  {
   "cell_type": "code",
   "execution_count": null,
   "metadata": {},
   "outputs": [],
   "source": [
    "# TODO include MPPleiden experiment in train.py (need to maybe have a way to identify from experiment which is trainable and which not)\n",
    "# TODO add MPPleiden to compatible ModelComparator plots"
   ]
  }
 ],
 "metadata": {
  "interpreter": {
   "hash": "7c3012f799b3ef2382f56288364f3b4f8c7ccb2db3eb0b0379ff9e09fc414115"
  },
  "kernelspec": {
   "display_name": "Python 3.9.7 64-bit ('pelkmans-3.9': conda)",
   "name": "python3"
  },
  "language_info": {
   "codemirror_mode": {
    "name": "ipython",
    "version": 3
   },
   "file_extension": ".py",
   "mimetype": "text/x-python",
   "name": "python",
   "nbconvert_exporter": "python",
   "pygments_lexer": "ipython3",
   "version": "3.9.7"
  },
  "orig_nbformat": 4
 },
 "nbformat": 4,
 "nbformat_minor": 2
}
