{
 "cells": [
  {
   "cell_type": "markdown",
   "metadata": {},
   "source": [
    "# Showcase functions of MPPData class\n",
    "TODO add some comments, add code showing concatenation"
   ]
  },
  {
   "cell_type": "code",
   "execution_count": 110,
   "metadata": {},
   "outputs": [],
   "source": [
    "import importlib\n",
    "import sys\n",
    "sys.path.append('..')\n",
    "\n",
    "import miann.data._data\n",
    "from miann.data._data import MPPData\n",
    "importlib.reload(miann.data._data)\n",
    "\n",
    "from miann.utils import init_logging\n",
    "import os\n",
    "import numpy as np\n",
    "import logging\n",
    "\n",
    "logging.basicConfig(level=logging.INFO)\n",
    "#init_logging()"
   ]
  },
  {
   "cell_type": "code",
   "execution_count": 111,
   "metadata": {},
   "outputs": [
    {
     "name": "stdout",
     "output_type": "stream",
     "text": [
      "WARNING: reading legacy mapobject idsnpy\n"
     ]
    },
    {
     "name": "stderr",
     "output_type": "stream",
     "text": [
      "INFO:MPPData:Created new: MPPData for NascentRNA (12132995 mpps with shape (1, 1, 35) from 886 objects). Data keys: ['x', 'y', 'mpp', 'obj_ids', 'labels'].\n"
     ]
    },
    {
     "name": "stdout",
     "output_type": "stream",
     "text": [
      "MPPData for NascentRNA (12132995 mpps with shape (1, 1, 35) from 886 objects). Data keys: ['x', 'y', 'mpp', 'obj_ids', 'labels'].\n"
     ]
    }
   ],
   "source": [
    "mpp_data = miann.data._data.MPPData.from_data_dir('184A1_unperturbed/I09', data_config='NascentRNA')\n",
    "print(mpp_data)"
   ]
  },
  {
   "cell_type": "code",
   "execution_count": 46,
   "metadata": {},
   "outputs": [
    {
     "name": "stderr",
     "output_type": "stream",
     "text": [
      "INFO:MPPData:Before subsetting: 886 objects\n",
      "INFO:MPPData:Subsetting to NO_NAN cell_cycle: 557 objects\n"
     ]
    },
    {
     "name": "stdout",
     "output_type": "stream",
     "text": [
      "['G1' 'G2' 'S']\n"
     ]
    }
   ],
   "source": [
    "# filter by NO_NAN cellcycle stage\n",
    "mpp_data.subset(cell_cycle='NO_NAN')\n",
    "print(np.unique(mpp_data.metadata.cell_cycle))"
   ]
  },
  {
   "cell_type": "code",
   "execution_count": 47,
   "metadata": {},
   "outputs": [
    {
     "name": "stderr",
     "output_type": "stream",
     "text": [
      "INFO:MPPData:Adding conditions: ['TR_norm_lowhigh_bin_2', 'TR_bin_3', 'cell_cycle']\n",
      "INFO:MPPData:Looking up condition TR_norm, with postprocess lowhigh_bin_2\n",
      "INFO:MPPData:Looking up condition TR, with postprocess bin_3\n",
      "INFO:MPPData:Looking up condition cell_cycle, with postprocess None\n",
      "INFO:convert_condition:Converting condition cell_cycle to numbers\n"
     ]
    },
    {
     "name": "stdout",
     "output_type": "stream",
     "text": [
      "[[ 0.  1.  0.  0.  1.  2.]\n",
      " [ 0.  1.  0.  0.  1.  2.]\n",
      " [ 0.  1.  0.  0.  1.  2.]\n",
      " ...\n",
      " [nan nan  0.  1.  0.  1.]\n",
      " [nan nan  0.  1.  0.  1.]\n",
      " [nan nan  0.  1.  0.  1.]]\n",
      "{'TR_norm_lowhigh_bin_2_quantile': [342.17970793352254, 423.8084316974745], 'TR_bin_3_quantile': [362.1374296178866, 411.146330758427]}\n"
     ]
    }
   ],
   "source": [
    "# add conditions\n",
    "cond_params = {}\n",
    "mpp_data.add_conditions(['TR_norm_lowhigh_bin_2', 'TR_bin_3', 'cell_cycle'], cond_params=cond_params)\n",
    "\n",
    "print(mpp_data.conditions)\n",
    "print(cond_params)"
   ]
  },
  {
   "cell_type": "code",
   "execution_count": 48,
   "metadata": {},
   "outputs": [
    {
     "name": "stderr",
     "output_type": "stream",
     "text": [
      "INFO:MPPData:Before subsetting: 557 objects\n",
      "INFO:MPPData:Subsetting to objects with NO_NAN condition: 283\n"
     ]
    }
   ],
   "source": [
    "# filter nan objects with nan conditions\n",
    "mpp_data.subset(nona_condition=True)"
   ]
  },
  {
   "cell_type": "code",
   "execution_count": 83,
   "metadata": {},
   "outputs": [
    {
     "name": "stderr",
     "output_type": "stream",
     "text": [
      "INFO:MPPData:Subtracting channel-specific background value defined in column mean_background\n",
      "WARNING:MPPData:Missing background value for channel 00_EU\n",
      "INFO:MPPData:Rescaling MPP intensities per channel with 98.0 percentile\n"
     ]
    },
    {
     "name": "stdout",
     "output_type": "stream",
     "text": [
      "[706.0, 55.889077674895006, 69.29248486934, 292.580564999614, 97.797795010537, 49.969012700825004, 198.166104554605, 103.192703487811, 333.88636174276803, 99.989850032596, 113.921074631886, 217.454320872445, 274.374678140131, 189.10488029550498, 562.873113168236, 172.093431062583, 80.143769097638, 197.20852422806, 209.926705230017, 420.026212072665, 482.722105769381, 153.451838886362, 225.390029544676, 88.901763855899, 463.498049074523, 155.04311273660198, 172.21535973943702, 622.34514056733, 139.20844135918, 704.734122587939, 233.365936479147, 25.306330100778, 199.97347517141299, 76.3, 329.3]\n"
     ]
    }
   ],
   "source": [
    "# normalise\n",
    "rescale_values = []\n",
    "mpp_data.normalise(background_value='mean_background', percentile= 98.0, rescale_values=rescale_values)\n",
    "print(rescale_values)"
   ]
  },
  {
   "cell_type": "code",
   "execution_count": 95,
   "metadata": {},
   "outputs": [
    {
     "name": "stderr",
     "output_type": "stream",
     "text": [
      "INFO:MPPData:Subsampling each object to 5.0%\n",
      "INFO:MPPData:Created new: MPPData for NascentRNA (606235 mpps with shape (1, 1, 35) from 886 objects). Data keys: ['x', 'y', 'mpp', 'obj_ids', 'labels'].\n",
      "INFO:MPPData:Adding neighborhood of size 3\n"
     ]
    }
   ],
   "source": [
    "# subsample\n",
    "mpp_data_sub = mpp_data.subsample(frac_per_obj=0.05, \n",
    "add_neighborhood=True, neighborhood_size=3)\n",
    "\n",
    "print(mpp_data.mpp.shape, mpp_data_sub.mpp.shape)"
   ]
  },
  {
   "cell_type": "code",
   "execution_count": 103,
   "metadata": {},
   "outputs": [
    {
     "name": "stderr",
     "output_type": "stream",
     "text": [
      "WARNING:matplotlib.image:Clipping input data to the valid range for imshow with RGB data ([0..1] for floats or [0..255] for integers).\n"
     ]
    },
    {
     "data": {
      "text/plain": [
       "<matplotlib.image.AxesImage at 0x15a23abe0>"
      ]
     },
     "execution_count": 103,
     "metadata": {},
     "output_type": "execute_result"
    },
    {
     "data": {
      "image/png": "[encoded data removed]",
      "text/plain": [
       "<Figure size 432x288 with 1 Axes>"
      ]
     },
     "metadata": {
      "needs_background": "light"
     },
     "output_type": "display_data"
    }
   ],
   "source": [
    "# get and plot image\n",
    "import matplotlib.pyplot as plt\n",
    "\n",
    "img = mpp_data.get_object_img(mpp_data.unique_obj_ids[0], \n",
    "channel_ids=[0,1,10], img_size=255)\n",
    "\n",
    "plt.imshow(img)"
   ]
  },
  {
   "cell_type": "code",
   "execution_count": 112,
   "metadata": {},
   "outputs": [
    {
     "name": "stderr",
     "output_type": "stream",
     "text": [
      "INFO:MPPData:Restricted channels to 2 channels\n"
     ]
    },
    {
     "name": "stdout",
     "output_type": "stream",
     "text": [
      "Int64Index([0, 22], dtype='int64')    index    name\n",
      "0      0   00_EU\n",
      "1     22  15_SON\n"
     ]
    }
   ],
   "source": [
    "# subset channels\n",
    "mpp_data.subset_channels(['00_EU', '15_SON'])\n",
    "print(mpp_data.channels)"
   ]
  },
  {
   "cell_type": "code",
   "execution_count": null,
   "metadata": {},
   "outputs": [],
   "source": []
  }
 ],
 "metadata": {
  "interpreter": {
   "hash": "a429dfcd79d2ca7ddf5335a5887e8e8030a7365bba74ec28826de3f90d71ae84"
  },
  "kernelspec": {
   "display_name": "Python 3.8.8 64-bit ('pancreas-3.8': conda)",
   "name": "python3"
  },
  "language_info": {
   "codemirror_mode": {
    "name": "ipython",
    "version": 3
   },
   "file_extension": ".py",
   "mimetype": "text/x-python",
   "name": "python",
   "nbconvert_exporter": "python",
   "pygments_lexer": "ipython3",
   "version": "3.8.8"
  },
  "orig_nbformat": 4
 },
 "nbformat": 4,
 "nbformat_minor": 2
}
