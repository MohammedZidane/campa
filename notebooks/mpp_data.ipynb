{
 "cells": [
  {
   "cell_type": "markdown",
   "metadata": {},
   "source": [
    "# Showcase functions of MPPData class\n",
    "TODO add some comments, add code showing concatenation"
   ]
  },
  {
   "cell_type": "code",
   "execution_count": 1,
   "metadata": {},
   "outputs": [],
   "source": [
    "import importlib\n",
    "import sys\n",
    "sys.path.append('..')\n",
    "\n",
    "import miann.data._data\n",
    "from miann.data._data import MPPData\n",
    "importlib.reload(miann.data._data)\n",
    "\n",
    "from miann.utils import init_logging\n",
    "import os\n",
    "import numpy as np\n",
    "import logging\n",
    "\n",
    "logging.basicConfig(level=logging.INFO)\n",
    "#init_logging()"
   ]
  },
  {
   "cell_type": "code",
   "execution_count": 2,
   "metadata": {},
   "outputs": [
    {
     "name": "stderr",
     "output_type": "stream",
     "text": [
      "INFO:MPPData:Created new: MPPData for NascentRNA (12132995 mpps with shape (1, 1, 35) from 886 objects). Data keys: ['x', 'y', 'mpp', 'obj_ids', 'labels'].\n"
     ]
    },
    {
     "name": "stdout",
     "output_type": "stream",
     "text": [
      "MPPData for NascentRNA (12132995 mpps with shape (1, 1, 35) from 886 objects). Data keys: ['x', 'y', 'mpp', 'obj_ids', 'labels'].\n"
     ]
    }
   ],
   "source": [
    "mpp_data = miann.data._data.MPPData.from_data_dir('184A1_unperturbed/I09', data_config='NascentRNA')\n",
    "print(mpp_data)"
   ]
  },
  {
   "cell_type": "code",
   "execution_count": 3,
   "metadata": {},
   "outputs": [
    {
     "name": "stdout",
     "output_type": "stream",
     "text": [
      "                         name\n",
      "channel_id                   \n",
      "0                       00_EU\n",
      "1               01_CDK9_pT186\n",
      "2                   01_PABPC1\n",
      "3                     02_CDK7\n",
      "4                     03_CDK9\n",
      "5                     03_RPS6\n",
      "6                    05_GTF2B\n",
      "7                       05_Sm\n",
      "8                   07_POLR2A\n",
      "9                   07_SETD1A\n",
      "10                 08_H3K4me3\n",
      "11                   09_CCNT1\n",
      "12                   09_SRRM2\n",
      "13                 10_H3K27ac\n",
      "14              10_POL2RA_pS2\n",
      "15               11_KPNA2_MAX\n",
      "16                     11_PML\n",
      "17          12_RB1_pS807_S811\n",
      "18                    12_YAP1\n",
      "19                  13_PABPN1\n",
      "20              13_POL2RA_pS5\n",
      "21                    14_PCNA\n",
      "22                     15_SON\n",
      "23                15_U2SNRNPB\n",
      "24                      16_H3\n",
      "25                   17_HDAC3\n",
      "26                   17_SRSF2\n",
      "27                    18_NONO\n",
      "28               19_KPNA1_MAX\n",
      "29                  20_ALYREF\n",
      "30                   20_SP100\n",
      "31                    21_COIL\n",
      "32                     21_NCL\n",
      "33                    00_DAPI\n",
      "34                     07_H2B\n"
     ]
    },
    {
     "name": "stderr",
     "output_type": "stream",
     "text": [
      "INFO:MPPData:Restricted channels to 34 channels\n"
     ]
    },
    {
     "name": "stdout",
     "output_type": "stream",
     "text": [
      "                         name\n",
      "channel_id                   \n",
      "0               01_CDK9_pT186\n",
      "1                   01_PABPC1\n",
      "2                     02_CDK7\n",
      "3                     03_CDK9\n",
      "4                     03_RPS6\n",
      "5                    05_GTF2B\n",
      "6                       05_Sm\n",
      "7                   07_POLR2A\n",
      "8                   07_SETD1A\n",
      "9                  08_H3K4me3\n",
      "10                   09_CCNT1\n",
      "11                   09_SRRM2\n",
      "12                 10_H3K27ac\n",
      "13              10_POL2RA_pS2\n",
      "14               11_KPNA2_MAX\n",
      "15                     11_PML\n",
      "16          12_RB1_pS807_S811\n",
      "17                    12_YAP1\n",
      "18                  13_PABPN1\n",
      "19              13_POL2RA_pS5\n",
      "20                    14_PCNA\n",
      "21                     15_SON\n",
      "22                15_U2SNRNPB\n",
      "23                      16_H3\n",
      "24                   17_HDAC3\n",
      "25                   17_SRSF2\n",
      "26                    18_NONO\n",
      "27               19_KPNA1_MAX\n",
      "28                  20_ALYREF\n",
      "29                   20_SP100\n",
      "30                    21_COIL\n",
      "31                     21_NCL\n",
      "32                    00_DAPI\n",
      "33                     07_H2B\n"
     ]
    }
   ],
   "source": [
    "# subset channels\n",
    "channels = [\n",
    "        '01_CDK9_pT186', '01_PABPC1', '02_CDK7', '03_CDK9', '03_RPS6', '05_GTF2B', '05_Sm', '07_POLR2A', '07_SETD1A', \n",
    "        '08_H3K4me3', '09_CCNT1', '09_SRRM2', '10_H3K27ac', '10_POL2RA_pS2', '11_KPNA2_MAX', '11_PML', '12_RB1_pS807_S811', \n",
    "        '12_YAP1', '13_PABPN1', '13_POL2RA_pS5', '14_PCNA', '15_SON', '15_U2SNRNPB', '16_H3', '17_HDAC3', '17_SRSF2', \n",
    "        '18_NONO', '19_KPNA1_MAX', '20_ALYREF', '20_SP100', '21_COIL', '21_NCL', '00_DAPI', '07_H2B'\n",
    "        ]\n",
    "print(mpp_data.channels)\n",
    "mpp_data.subset_channels(channels)\n",
    "print(mpp_data.channels)"
   ]
  },
  {
   "cell_type": "code",
   "execution_count": 4,
   "metadata": {},
   "outputs": [
    {
     "name": "stderr",
     "output_type": "stream",
     "text": [
      "INFO:MPPData:Before subsetting: 886 objects\n",
      "INFO:MPPData:Subsetting to NO_NAN cell_cycle: 557 objects\n"
     ]
    },
    {
     "name": "stdout",
     "output_type": "stream",
     "text": [
      "['G1' 'G2' 'S']\n"
     ]
    }
   ],
   "source": [
    "# filter by NO_NAN cellcycle stage\n",
    "mpp_data.subset(cell_cycle='NO_NAN')\n",
    "print(np.unique(mpp_data.metadata.cell_cycle))"
   ]
  },
  {
   "cell_type": "code",
   "execution_count": 5,
   "metadata": {},
   "outputs": [
    {
     "name": "stderr",
     "output_type": "stream",
     "text": [
      "INFO:MPPData:Adding conditions: ['TR_norm_lowhigh_bin_2', 'TR_bin_3', 'cell_cycle']\n",
      "INFO:MPPData:Looking up condition TR_norm, with postprocess lowhigh_bin_2\n",
      "INFO:MPPData:Looking up condition TR, with postprocess bin_3\n",
      "INFO:MPPData:Looking up condition cell_cycle, with postprocess None\n",
      "INFO:convert_condition:Converting condition cell_cycle to numbers\n"
     ]
    },
    {
     "name": "stdout",
     "output_type": "stream",
     "text": [
      "[[ 0.  1.  0.  0.  1.  2.]\n",
      " [ 0.  1.  0.  0.  1.  2.]\n",
      " [ 0.  1.  0.  0.  1.  2.]\n",
      " ...\n",
      " [nan nan  0.  1.  0.  1.]\n",
      " [nan nan  0.  1.  0.  1.]\n",
      " [nan nan  0.  1.  0.  1.]]\n",
      "{'TR_norm_lowhigh_bin_2_quantile': [338.1978527745389, 418.8766845744007], 'TR_bin_3_quantile': [362.1374296178866, 411.146330758427]}\n"
     ]
    }
   ],
   "source": [
    "# add conditions\n",
    "cond_params = {}\n",
    "mpp_data.add_conditions(['TR_norm_lowhigh_bin_2', 'TR_bin_3', 'cell_cycle'], cond_params=cond_params)\n",
    "\n",
    "print(mpp_data.conditions)\n",
    "print(cond_params)"
   ]
  },
  {
   "cell_type": "code",
   "execution_count": 6,
   "metadata": {},
   "outputs": [
    {
     "name": "stderr",
     "output_type": "stream",
     "text": [
      "INFO:MPPData:Before subsetting: 557 objects\n",
      "INFO:MPPData:Subsetting to objects with NO_NAN condition: 283\n"
     ]
    }
   ],
   "source": [
    "# filter nan objects with nan conditions\n",
    "mpp_data.subset(nona_condition=True)"
   ]
  },
  {
   "cell_type": "code",
   "execution_count": 7,
   "metadata": {},
   "outputs": [
    {
     "name": "stderr",
     "output_type": "stream",
     "text": [
      "INFO:MPPData:Subtracting channel-specific background value defined in column mean_background\n",
      "INFO:MPPData:Rescaling MPP intensities per channel with 98.0 percentile\n"
     ]
    },
    {
     "name": "stdout",
     "output_type": "stream",
     "text": [
      "[53.889077674895006, 61.29248486934, 288.580564999614, 94.797795010537, 46.969012700825004, 196.166104554605, 102.192703487811, 334.88636174276803, 95.989850032596, 111.921074631886, 216.454320872445, 276.374678140131, 198.10488029550498, 569.873113168236, 124.093431062583, 76.143769097638, 194.20852422806, 211.926705230017, 420.026212072665, 479.722105769381, 156.451838886362, 227.390029544676, 84.901763855899, 458.498049074523, 150.04311273660198, 175.21535973943702, 629.34514056733, 139.20844135918, 709.734122587939, 229.365936479147, 26.306330100778, 199.97347517141299, 70.3, 322.3]\n"
     ]
    }
   ],
   "source": [
    "# normalise\n",
    "rescale_values = []\n",
    "mpp_data.normalise(background_value='mean_background', percentile= 98.0, rescale_values=rescale_values)\n",
    "print(rescale_values)"
   ]
  },
  {
   "cell_type": "code",
   "execution_count": 8,
   "metadata": {},
   "outputs": [
    {
     "name": "stderr",
     "output_type": "stream",
     "text": [
      "INFO:MPPData:Subsampling each object to 5.0%\n",
      "INFO:MPPData:Created new: MPPData for NascentRNA (181018 mpps with shape (1, 1, 34) from 283 objects). Data keys: ['x', 'y', 'mpp', 'obj_ids', 'labels', 'conditions'].\n",
      "INFO:MPPData:Adding neighborhood of size 3\n"
     ]
    },
    {
     "name": "stdout",
     "output_type": "stream",
     "text": [
      "(3623046, 1, 1, 34) (181018, 3, 3, 34)\n"
     ]
    }
   ],
   "source": [
    "# subsample\n",
    "mpp_data_sub = mpp_data.subsample(frac_per_obj=0.05, \n",
    "add_neighborhood=True, neighborhood_size=3)\n",
    "\n",
    "print(mpp_data.mpp.shape, mpp_data_sub.mpp.shape)"
   ]
  },
  {
   "cell_type": "code",
   "execution_count": 9,
   "metadata": {},
   "outputs": [
    {
     "name": "stderr",
     "output_type": "stream",
     "text": [
      "WARNING:matplotlib.image:Clipping input data to the valid range for imshow with RGB data ([0..1] for floats or [0..255] for integers).\n"
     ]
    },
    {
     "data": {
      "text/plain": [
       "<matplotlib.image.AxesImage at 0x167538250>"
      ]
     },
     "execution_count": 9,
     "metadata": {},
     "output_type": "execute_result"
    },
    {
     "data": {
      "image/png": "[encoded data removed]",
      "text/plain": [
       "<Figure size 432x288 with 1 Axes>"
      ]
     },
     "metadata": {
      "needs_background": "light"
     },
     "output_type": "display_data"
    }
   ],
   "source": [
    "# get and plot image\n",
    "import matplotlib.pyplot as plt\n",
    "\n",
    "img = mpp_data.get_object_img(mpp_data.unique_obj_ids[0], \n",
    "channel_ids=[0,1,10], img_size=255)\n",
    "\n",
    "plt.imshow(img)"
   ]
  },
  {
   "cell_type": "code",
   "execution_count": 12,
   "metadata": {},
   "outputs": [
    {
     "name": "stderr",
     "output_type": "stream",
     "text": [
      "INFO:MPPData:Adding neighborhood of size 3\n"
     ]
    }
   ],
   "source": [
    "# add neighbors\n",
    "mpp_data.add_neighborhood(size=3)"
   ]
  },
  {
   "cell_type": "code",
   "execution_count": 15,
   "metadata": {},
   "outputs": [
    {
     "name": "stdout",
     "output_type": "stream",
     "text": [
      "(3623046, 3, 3, 34)\n"
     ]
    }
   ],
   "source": [
    "print(mpp_data.mpp.shape)"
   ]
  },
  {
   "cell_type": "code",
   "execution_count": null,
   "metadata": {},
   "outputs": [],
   "source": []
  }
 ],
 "metadata": {
  "interpreter": {
   "hash": "7c3012f799b3ef2382f56288364f3b4f8c7ccb2db3eb0b0379ff9e09fc414115"
  },
  "kernelspec": {
   "display_name": "Python 3.9.7 64-bit ('pelkmans-3.9': conda)",
   "name": "python3"
  },
  "language_info": {
   "codemirror_mode": {
    "name": "ipython",
    "version": 3
   },
   "file_extension": ".py",
   "mimetype": "text/x-python",
   "name": "python",
   "nbconvert_exporter": "python",
   "pygments_lexer": "ipython3",
   "version": "3.9.7"
  },
  "orig_nbformat": 4
 },
 "nbformat": 4,
 "nbformat_minor": 2
}
