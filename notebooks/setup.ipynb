{
 "cells": [
  {
   "cell_type": "markdown",
   "metadata": {},
   "source": [
    "# Setup and download data\n",
    "\n",
    "This tutorials shows how to set up CAMPA and download an example dataset.\n",
    "To follow along with this and the following tutorials, please execute the following steps first:\n",
    "\n",
    "- install CAMPA (``pip install campa``) \n",
    "- download the [tutorials](https://github.com/theislab/campa/tree/main/notebooks) to a new folder, referred to as ``CAMPA_DIR`` in the following\n",
    "- navigate to ``CAMPA_DIR`` in the terminal and start this notebook with `jupyter notebook setup.py`\n",
    "\n",
    "Note that the following notebooks assume that you will run them from the same folder that you run this notebook in (``CAMPA_DIR``). If this is not the case, adjust ``CAMPA_DIR`` at the top of each notebook to point to the folder that you run this notebook in. "
   ]
  },
  {
   "cell_type": "code",
   "execution_count": 1,
   "metadata": {},
   "outputs": [
    {
     "name": "stdout",
     "output_type": "stream",
     "text": [
      "/home/icb/hannah.spitzer/projects/pelkmans/software_new/campa_notebooks_test\n"
     ]
    }
   ],
   "source": [
    "from pathlib import Path\n",
    "\n",
    "# set CAMPA_DIR to the current working directory\n",
    "CAMPA_DIR = Path.cwd()\n",
    "print(CAMPA_DIR)"
   ]
  },
  {
   "cell_type": "markdown",
   "metadata": {},
   "source": [
    "## Download parameter files\n",
    "\n",
    "Before configuring CAMPA, we need to ensure that all parameter files for configuring the running the different CAMPA steps are present in the `params` subfolder. Note that in general, these files don't need to be in a folder named `params`, but the following tutorials will follow this convention. \n",
    "Let us download the necessary parameter files from the [github repository](https://github.com/theislab/campa/tree/main/notebooks/params)."
   ]
  },
  {
   "cell_type": "code",
   "execution_count": 2,
   "metadata": {},
   "outputs": [
    {
     "name": "stdout",
     "output_type": "stream",
     "text": [
      "Files in /home/icb/hannah.spitzer/projects/pelkmans/software_new/campa_notebooks_test/params: ['/home/icb/hannah.spitzer/projects/pelkmans/software_new/campa_notebooks_test/params/example_experiment_params.py', '/home/icb/hannah.spitzer/projects/pelkmans/software_new/campa_notebooks_test/params/example_data_params.py', '/home/icb/hannah.spitzer/projects/pelkmans/software_new/campa_notebooks_test/params/ExampleData_constants.py', '/home/icb/hannah.spitzer/projects/pelkmans/software_new/campa_notebooks_test/params/example_feature_params.py']\n"
     ]
    }
   ],
   "source": [
    "import glob\n",
    "\n",
    "import requests\n",
    "\n",
    "# ensure params folder exists\n",
    "(CAMPA_DIR / \"params\").mkdir(parents=True, exist_ok=True)\n",
    "\n",
    "# download parameter files from git\n",
    "for param_file in [\n",
    "    \"ExampleData_constants\",\n",
    "    \"example_data_params\",\n",
    "    \"example_experiment_params\",\n",
    "    \"example_feature_params\",\n",
    "]:\n",
    "    r = requests.get(f\"https://raw.github.com/theislab/campa/main/notebooks/params/{param_file}.py\")\n",
    "    with open(CAMPA_DIR / \"params\" / f\"{param_file}.py\", \"w\") as f:\n",
    "        f.write(r.text)\n",
    "\n",
    "print(f'Files in {CAMPA_DIR / \"params\"}: {glob.glob(str(CAMPA_DIR / \"params\" / \"*\"))}')"
   ]
  },
  {
   "cell_type": "markdown",
   "metadata": {},
   "source": [
    "## Set up CAMPA config\n",
    "\n",
    "CAMPA has one main config file: `campa.ini`. \n",
    "The [overview](../overview.rst)\n",
    "describes how you can create this config file from the command line, \n",
    "but here we will see how we can create a config from within the campa module using \n",
    "the config file representation [campa.constants.campa_config](../api/campa.constants.campa_config.rst)."
   ]
  },
  {
   "cell_type": "code",
   "execution_count": 3,
   "metadata": {},
   "outputs": [
    {
     "name": "stderr",
     "output_type": "stream",
     "text": [
      "2022-11-25 09:57:06.641175: I tensorflow/core/platform/cpu_feature_guard.cc:193] This TensorFlow binary is optimized with oneAPI Deep Neural Network Library (oneDNN) to use the following CPU instructions in performance-critical operations:  AVX2 AVX512F AVX512_VNNI FMA\n",
      "To enable them in other operations, rebuild TensorFlow with the appropriate compiler flags.\n",
      "2022-11-25 09:57:24.354282: I tensorflow/core/util/util.cc:169] oneDNN custom operations are on. You may see slightly different numerical results due to floating-point round-off errors from different computation orders. To turn them off, set the environment variable `TF_ENABLE_ONEDNN_OPTS=0`.\n",
      "2022-11-25 09:57:27.507035: E tensorflow/stream_executor/cuda/cuda_blas.cc:2981] Unable to register cuBLAS factory: Attempting to register factory for plugin cuBLAS when one has already been registered\n"
     ]
    },
    {
     "name": "stdout",
     "output_type": "stream",
     "text": [
      "WARNING: EXPERIMENT_DIR is not initialised. Please create a config with \"campa setup\" or set campa_config.EXPERIMENT_DIR manually.\n",
      "WARNING: BASE_DATA_DIR is not initialised. Please create a config with \"campa setup\" or set campa_config.BASE_DATA_DIR manually.\n",
      "CAMPAConfig (fname: None)\n",
      "EXPERIMENT_DIR: None\n",
      "BASE_DATA_DIR: None\n",
      "CO_OCC_CHUNK_SIZE: None\n",
      "\n"
     ]
    }
   ],
   "source": [
    "from campa.constants import campa_config\n",
    "\n",
    "print(campa_config)"
   ]
  },
  {
   "cell_type": "markdown",
   "metadata": {},
   "source": [
    "If you have not yet set up a config, this should look pretty empty. \n",
    "The lines `WARNING: EXPERIMENT_DIR is not initialised` and `WARNING: BASE_DATA_DIR is not initialised` are expected in this case \n",
    "and alert us that we need to set `EXPERIMENT_DIR` and `BASE_DATA_DIR` to that CAMPA knows where experiments and data is stored.\n",
    "\n",
    "Let us set the ``EXPERIMENT_DIR`` and the ``BASE_DATA_DIR``, and add the `ExampleData` data config.\n",
    "Here, we set the data and experiments paths relative to ``CAMPA_DIR`` defined above."
   ]
  },
  {
   "cell_type": "code",
   "execution_count": 4,
   "metadata": {},
   "outputs": [
    {
     "name": "stdout",
     "output_type": "stream",
     "text": [
      "CAMPAConfig (fname: None)\n",
      "EXPERIMENT_DIR: /home/icb/hannah.spitzer/projects/pelkmans/software_new/campa_notebooks_test/example_experiments\n",
      "BASE_DATA_DIR: /home/icb/hannah.spitzer/projects/pelkmans/software_new/campa_notebooks_test/example_data\n",
      "CO_OCC_CHUNK_SIZE: 10000000.0\n",
      "data_config/exampledata: /home/icb/hannah.spitzer/projects/pelkmans/software_new/campa_notebooks_test/params/ExampleData_constants.py\n",
      "\n"
     ]
    }
   ],
   "source": [
    "# point to example data folder in which we will download the example data\n",
    "campa_config.BASE_DATA_DIR = CAMPA_DIR / \"example_data\"\n",
    "# experiments will be stored in example_experiments\n",
    "campa_config.EXPERIMENT_DIR = CAMPA_DIR / \"example_experiments\"\n",
    "# add ExampleData data_config (pointing to ExampleData_constants file that we just downloaded)\n",
    "campa_config.add_data_config(\"ExampleData\", CAMPA_DIR / \"params/ExampleData_constants.py\")\n",
    "# set CO_OCC_CHUNK_SIZE (a parameter making co-occurrence calculation more memory efficient)\n",
    "campa_config.CO_OCC_CHUNK_SIZE = 1e7\n",
    "\n",
    "print(campa_config)"
   ]
  },
  {
   "cell_type": "markdown",
   "metadata": {},
   "source": [
    "We can now save the config to quickly load it later on. \n",
    "Here, we store the config in the `params` directory in the current folder."
   ]
  },
  {
   "cell_type": "code",
   "execution_count": 5,
   "metadata": {},
   "outputs": [
    {
     "name": "stdout",
     "output_type": "stream",
     "text": [
      "Reading config from /home/icb/hannah.spitzer/projects/pelkmans/software_new/campa_notebooks_test/params/campa.ini\n"
     ]
    }
   ],
   "source": [
    "# save config\n",
    "campa_config.write(CAMPA_DIR / \"params\" / \"campa.ini\")"
   ]
  },
  {
   "cell_type": "markdown",
   "metadata": {},
   "source": [
    "\n",
    "By default, campa looks for config files in\n",
    " the current directory and ``$HOME/.config/campa``, but loading a config from any other file is also easy:"
   ]
  },
  {
   "cell_type": "code",
   "execution_count": 6,
   "metadata": {},
   "outputs": [
    {
     "name": "stdout",
     "output_type": "stream",
     "text": [
      "Reading config from /home/icb/hannah.spitzer/projects/pelkmans/software_new/campa_notebooks_test/params/campa.ini\n",
      "CAMPAConfig (fname: /home/icb/hannah.spitzer/projects/pelkmans/software_new/campa_notebooks_test/params/campa.ini)\n",
      "EXPERIMENT_DIR: /home/icb/hannah.spitzer/projects/pelkmans/software_new/campa_notebooks_test/example_experiments\n",
      "BASE_DATA_DIR: /home/icb/hannah.spitzer/projects/pelkmans/software_new/campa_notebooks_test/example_data\n",
      "CO_OCC_CHUNK_SIZE: 10000000.0\n",
      "data_config/exampledata: /home/icb/hannah.spitzer/projects/pelkmans/software_new/campa_notebooks_test/params/ExampleData_constants.py\n",
      "\n"
     ]
    }
   ],
   "source": [
    "# read config from non-standard location by setting campa_config.config_fname\n",
    "campa_config.config_fname = CAMPA_DIR / \"params\" / \"campa.ini\"\n",
    "print(campa_config)"
   ]
  },
  {
   "cell_type": "markdown",
   "metadata": {},
   "source": [
    "## Download example dataset\n",
    "\n",
    "To follow along with the workflow tutorials, you need to download the example dataset.\n",
    "\n",
    "Here, we store the example data in the `BASE_DATA_DIR` just configured in the config."
   ]
  },
  {
   "cell_type": "code",
   "execution_count": 7,
   "metadata": {},
   "outputs": [
    {
     "name": "stdout",
     "output_type": "stream",
     "text": [
      "Path or dataset does not yet exist. Attempting to download...\n",
      "{'x-amz-id-2': 'HSPvG563oJllNzdrsV13AQCjHZ7P9FyV0mTfxhkmBn5sm1orzTIridTerZSrwwqhhJja8adJlLA=', 'x-amz-request-id': 'D1AWZ3CZHG6SQ9A8', 'Date': 'Fri, 25 Nov 2022 09:07:47 GMT', 'x-amz-replication-status': 'COMPLETED', 'Last-Modified': 'Fri, 28 Oct 2022 11:44:27 GMT', 'ETag': '\"6300ee9228b5e78480a3a5a540e85730\"', 'x-amz-tagging-count': '1', 'x-amz-server-side-encryption': 'AES256', 'Content-Disposition': 'attachment; filename=\"example_data.zip\"', 'x-amz-version-id': 'WbEd4ye51WteRY2_BZaTchKIFVKkAxuw', 'Accept-Ranges': 'bytes', 'Content-Type': 'application/zip', 'Server': 'AmazonS3', 'Content-Length': '126837954'}\n",
      "attachment; filename=\"example_data.zip\"\n",
      "Guessed filename: example_data.zip\n",
      "Downloading... 126837954\n"
     ]
    },
    {
     "name": "stderr",
     "output_type": "stream",
     "text": [
      "123866it [00:04, 28644.04it/s]\n"
     ]
    },
    {
     "name": "stdout",
     "output_type": "stream",
     "text": [
      "Example data downloaded to:  /home/icb/hannah.spitzer/projects/pelkmans/software_new/campa_notebooks_test/example_data\n"
     ]
    }
   ],
   "source": [
    "from campa.data import load_example_data\n",
    "\n",
    "example_data_path = load_example_data(Path(campa_config.BASE_DATA_DIR).parent)\n",
    "print(\"Example data downloaded to: \", example_data_path)"
   ]
  },
  {
   "cell_type": "markdown",
   "metadata": {},
   "source": [
    "\n",
    "The example data is now stored in your `campa_config.BASE_DATA_DIR` folder.\n",
    "\n",
    "The data is represented as an [MPPData][MPPData] object. For more information on this class and the data representation on disk see the [Data representation tutorial](mpp_data.ipynb).\n",
    "\n",
    "[MPPData]: ../classes/campa.data.MPPData.rst\n"
   ]
  }
 ],
 "metadata": {
  "kernelspec": {
   "display_name": "Python 3.9.0 ('campa')",
   "language": "python",
   "name": "python3"
  },
  "language_info": {
   "codemirror_mode": {
    "name": "ipython",
    "version": 3
   },
   "file_extension": ".py",
   "mimetype": "text/x-python",
   "name": "python",
   "nbconvert_exporter": "python",
   "pygments_lexer": "ipython3",
   "version": "3.9.0"
  },
  "vscode": {
   "interpreter": {
    "hash": "874fcd6fbbd7997a0a341ba640ecd60060d2386464aa26f9f0c67495deab65ec"
   }
  }
 },
 "nbformat": 4,
 "nbformat_minor": 4
}
