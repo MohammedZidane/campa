{
 "cells": [
  {
   "cell_type": "markdown",
   "metadata": {},
   "source": [
    "# Setup and download data\n",
    "CAMPA has one main config file; `campa.ini`. \n",
    "The [overview](../overview.rst)\n",
    "describes how you can create this config file from the command line, \n",
    "but here we will see how we can create a config from within the campa module using \n",
    "the config file representation [campa.constants.campa_config](../api/campa.constants.campa_config.rst)."
   ]
  },
  {
   "cell_type": "code",
   "execution_count": 1,
   "metadata": {},
   "outputs": [
    {
     "name": "stdout",
     "output_type": "stream",
     "text": [
      "WARNING: EXPERIMENT_DIR is not initialised. Please create a config with \"campa setup\" or set campa_config.EXPERIMENT_DIR manually.\n",
      "WARNING: BASE_DATA_DIR is not initialised. Please create a config with \"campa setup\" or set campa_config.BASE_DATA_DIR manually.\n",
      "CAMPAConfig (fname: None)\n",
      "EXPERIMENT_DIR: None\n",
      "BASE_DATA_DIR: None\n",
      "CO_OCC_CHUNK_SIZE: None\n",
      "\n"
     ]
    }
   ],
   "source": [
    "from pathlib import Path\n",
    "\n",
    "from campa.constants import campa_config\n",
    "\n",
    "print(campa_config)"
   ]
  },
  {
   "cell_type": "markdown",
   "metadata": {},
   "source": [
    "If you have not yet set up a config, this should look pretty empty. \n",
    "The lines `WARNING: EXPERIMENT_DIR is not initialised` and `WARNING: BASE_DATA_DIR is not initialised` are expected in this case \n",
    "and alert us that we need to set `EXPERIMENT_DIR` and `BASE_DATA_DIR` to that CAMPA knows where experiments and data is stored.\n",
    "\n",
    "Let us set the ``EXPERIMENT_DIR`` and the ``BASE_DATA_DIR``, and add the `ExampleData` data config.\n",
    "Here, we set the data and experiments paths relative the the folder that this notebook is stored in. \n",
    "Note that we assume that this folder contains the `params/ExampleData_constants.py` file."
   ]
  },
  {
   "cell_type": "code",
   "execution_count": 2,
   "metadata": {},
   "outputs": [
    {
     "name": "stdout",
     "output_type": "stream",
     "text": [
      "CAMPAConfig (fname: None)\n",
      "EXPERIMENT_DIR: /Users/hannah.spitzer/projects/pelkmans/software_new/campa_notebooks_test/example_experiments\n",
      "BASE_DATA_DIR: /Users/hannah.spitzer/projects/pelkmans/software_new/campa_notebooks_test/example_data/raw\n",
      "CO_OCC_CHUNK_SIZE: 10000000.0\n",
      "data_config/exampledata: /Users/hannah.spitzer/projects/pelkmans/software_new/campa_notebooks_test/params/ExampleData_constants.py\n",
      "\n"
     ]
    }
   ],
   "source": [
    "# point to example data folder in which we will download the example data\n",
    "campa_config.BASE_DATA_DIR = \"example_data/raw\"\n",
    "# experiments will be stored in example_experiments\n",
    "campa_config.EXPERIMENT_DIR = \"example_experiments\"\n",
    "# add ExampleData data_config\n",
    "campa_config.add_data_config(\"ExampleData\", \"params/ExampleData_constants.py\")\n",
    "# set CO_OCC_CHUNK_SIZE (a parameter making co-occurrence calculation more memory efficient)\n",
    "campa_config.CO_OCC_CHUNK_SIZE = 1e7\n",
    "\n",
    "print(campa_config)"
   ]
  },
  {
   "cell_type": "markdown",
   "metadata": {},
   "source": [
    "We can now save the config to quickly load it later on. \n",
    "Here, we store the config in the `params` directory in the current folder."
   ]
  },
  {
   "cell_type": "code",
   "execution_count": 3,
   "metadata": {},
   "outputs": [
    {
     "name": "stdout",
     "output_type": "stream",
     "text": [
      "Reading config from params/campa.ini\n"
     ]
    }
   ],
   "source": [
    "# save config in non-standard location\n",
    "campa_config.write(\"params/campa.ini\")"
   ]
  },
  {
   "cell_type": "markdown",
   "metadata": {},
   "source": [
    "\n",
    "By default, campa looks for config files in\n",
    " the current directory and ``$HOME/.config/campa``, but loading a config from any other file is also easy:"
   ]
  },
  {
   "cell_type": "code",
   "execution_count": 4,
   "metadata": {},
   "outputs": [
    {
     "name": "stdout",
     "output_type": "stream",
     "text": [
      "Reading config from params/campa.ini\n",
      "CAMPAConfig (fname: params/campa.ini)\n",
      "EXPERIMENT_DIR: /Users/hannah.spitzer/projects/pelkmans/software_new/campa_notebooks_test/example_experiments\n",
      "BASE_DATA_DIR: /Users/hannah.spitzer/projects/pelkmans/software_new/campa_notebooks_test/example_data/raw\n",
      "CO_OCC_CHUNK_SIZE: 10000000.0\n",
      "data_config/exampledata: /Users/hannah.spitzer/projects/pelkmans/software_new/campa_notebooks_test/params/ExampleData_constants.py\n",
      "\n"
     ]
    }
   ],
   "source": [
    "# read config from non-standard location by setting campa_config.config_fname\n",
    "campa_config.config_fname = \"params/campa.ini\"\n",
    "print(campa_config)"
   ]
  },
  {
   "cell_type": "markdown",
   "metadata": {},
   "source": [
    "To follow along with the workflow tutorials, you need to download the example dataset.\n",
    "\n",
    "Here, we store the example data in the `BASE_DATA_DIR` just configured in the config."
   ]
  },
  {
   "cell_type": "code",
   "execution_count": 5,
   "metadata": {},
   "outputs": [
    {
     "name": "stdout",
     "output_type": "stream",
     "text": [
      "Path or dataset does not yet exist. Attempting to download...\n",
      "{'x-amz-id-2': 'xHE9l1rmKmyIVW5fK4dZWwtQ2KAt1iy5qbZT9lJkhGegKs7vn/aM0l261ZNGIxskOdQBA8aF32g=', 'x-amz-request-id': 'V8TN8B29Y4N9XKBS', 'Date': 'Tue, 04 Oct 2022 13:58:32 GMT', 'Last-Modified': 'Tue, 03 May 2022 12:01:18 GMT', 'ETag': '\"9e502a278a8b0cfaedebdf5e08536245-12\"', 'x-amz-storage-class': 'INTELLIGENT_TIERING', 'Content-Disposition': 'attachment', 'x-amz-version-id': 'BQVpu0O0mBI.u_mBZQZEsnrYUAAvT7bT', 'Accept-Ranges': 'bytes', 'Content-Type': 'application/zip', 'Server': 'AmazonS3', 'Content-Length': '117372914'}\n",
      "attachment\n",
      "Guessed filename: example_data.zip\n",
      "Downloading... 117372914\n"
     ]
    },
    {
     "name": "stderr",
     "output_type": "stream",
     "text": [
      "114622it [00:15, 7632.00it/s] \n"
     ]
    },
    {
     "name": "stdout",
     "output_type": "stream",
     "text": [
      "Example data downloaded to:  /Users/hannah.spitzer/projects/pelkmans/software_new/campa_notebooks_test/example_data/raw\n"
     ]
    }
   ],
   "source": [
    "from campa.data import load_example_data\n",
    "\n",
    "example_data_path = load_example_data(Path(campa_config.BASE_DATA_DIR).parent.parent)\n",
    "print(\"Example data downloaded to: \", example_data_path)"
   ]
  },
  {
   "cell_type": "markdown",
   "metadata": {},
   "source": [
    "\n",
    "The example data is now stored in your `campa_config.BASE_DATA_DIR` folder.\n",
    "\n",
    "The data is represented as an [MPPData][MPPData] object. For more information on this class and the data representation on disk see the [Data representation tutorial](mpp_data.ipynb).\n",
    "\n",
    "[MPPData]: ../classes/campa.data.MPPData.rst\n"
   ]
  },
  {
   "cell_type": "markdown",
   "metadata": {},
   "source": []
  }
 ],
 "metadata": {
  "kernelspec": {
   "display_name": "Python 3.9.7 ('pelkmans-3.9')",
   "language": "python",
   "name": "python3"
  },
  "language_info": {
   "codemirror_mode": {
    "name": "ipython",
    "version": 3
   },
   "file_extension": ".py",
   "mimetype": "text/x-python",
   "name": "python",
   "nbconvert_exporter": "python",
   "pygments_lexer": "ipython3",
   "version": "3.9.7"
  },
  "orig_nbformat": 4,
  "vscode": {
   "interpreter": {
    "hash": "baed5587bdf2857a91ba4c9908eee94561fb076fde1a6fb06e1e66a839f3dc76"
   }
  }
 },
 "nbformat": 4,
 "nbformat_minor": 2
}
