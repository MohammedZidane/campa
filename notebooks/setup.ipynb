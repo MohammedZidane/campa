{
 "cells": [
  {
   "cell_type": "markdown",
   "metadata": {},
   "source": [
    "# Setup & download data\n",
    "CAMPA has one main config file; `campa.ini`. The [overview](../overview.rst#CAMPA-config) \n",
    "describes how you can create this config file from the command line, \n",
    "but here we will see how we can create a config from within the campa module using \n",
    "the config file representation [campa.constants.campa_config](../api/campa.constants.campa_config.rst)."
   ]
  },
  {
   "cell_type": "code",
   "execution_count": 1,
   "metadata": {},
   "outputs": [
    {
     "name": "stdout",
     "output_type": "stream",
     "text": [
      "Reading config from /Users/hannah.spitzer/projects/pelkmans/software_new/campa/config.ini\n",
      "CAMPAConfig (fname: /Users/hannah.spitzer/projects/pelkmans/software_new/campa/config.ini)\n",
      "EXPERIMENT_DIR: /Users/hannah.spitzer/projects/pelkmans/local_experiments/NascentRNA_new\n",
      "BASE_DATA_DIR: /Users/hannah.spitzer/projects/pelkmans/local_data\n",
      "CO_OCC_CHUNK_SIZE: 10000000.0\n",
      "data_config/nascentrna: /Users/hannah.spitzer/projects/pelkmans/software_new/campa_ana/NascentRNA_constants.py\n",
      "data_config/testdata: /Users/hannah.spitzer/projects/pelkmans/software_new/campa/tests/_data/TestData_constants.py\n",
      "data_config/exampledata: /Users/hannah.spitzer/projects/pelkmans/software_new/campa/notebooks/params/ExampleData_constants.py\n",
      "\n"
     ]
    }
   ],
   "source": [
    "from campa.constants import campa_config\n",
    "print(campa_config)"
   ]
  },
  {
   "cell_type": "markdown",
   "metadata": {},
   "source": [
    "If you have not yet set up a config, this should look pretty empty. \n",
    "Let us set the ``EXPERIMENT_DIR`` and the ``BASE_DATA_DIR``, and add the `ExampleData` ``data_config``"
   ]
  },
  {
   "cell_type": "code",
   "execution_count": 2,
   "metadata": {},
   "outputs": [
    {
     "name": "stdout",
     "output_type": "stream",
     "text": [
      "Overwriting existing data config for exampledata\n",
      "CAMPAConfig (fname: /Users/hannah.spitzer/projects/pelkmans/software_new/campa/config.ini)\n",
      "EXPERIMENT_DIR: /Users/hannah.spitzer/projects/pelkmans/software_new/campa/notebooks/example_experiments\n",
      "BASE_DATA_DIR: /Users/hannah.spitzer/projects/pelkmans/software_new/campa/notebooks/example_data/raw\n",
      "CO_OCC_CHUNK_SIZE: 10000000.0\n",
      "data_config/nascentrna: /Users/hannah.spitzer/projects/pelkmans/software_new/campa_ana/NascentRNA_constants.py\n",
      "data_config/testdata: /Users/hannah.spitzer/projects/pelkmans/software_new/campa/tests/_data/TestData_constants.py\n",
      "data_config/exampledata: /Users/hannah.spitzer/projects/pelkmans/software_new/campa/notebooks/params/ExampleData_constants.py\n",
      "\n"
     ]
    }
   ],
   "source": [
    "# point to example data folder in which we will download the example data\n",
    "campa_config.BASE_DATA_DIR = \"example_data/raw\"\n",
    "# experiments will be stored in example_experiments\n",
    "campa_config.EXPERIMENT_DIR = 'example_experiments'\n",
    "# add ExampleData data_config\n",
    "campa_config.add_data_config('ExampleData', 'params/ExampleData_constants.py')\n",
    "\n",
    "print(campa_config)\n"
   ]
  },
  {
   "cell_type": "markdown",
   "metadata": {},
   "source": [
    "We can now save the config to quickly load it later on. By default, campa looks for config files in\n",
    " the current directory and ``$HOME/.config/campa``, but loading a config from any other file is also easy:"
   ]
  },
  {
   "cell_type": "code",
   "execution_count": 3,
   "metadata": {},
   "outputs": [
    {
     "name": "stdout",
     "output_type": "stream",
     "text": [
      "Reading config from params/campa.ini\n",
      "Reading config from params/campa.ini\n",
      "CAMPAConfig (fname: params/campa.ini)\n",
      "EXPERIMENT_DIR: /Users/hannah.spitzer/projects/pelkmans/software_new/campa/notebooks/example_experiments\n",
      "BASE_DATA_DIR: /Users/hannah.spitzer/projects/pelkmans/software_new/campa/notebooks/example_data/raw\n",
      "CO_OCC_CHUNK_SIZE: 10000000.0\n",
      "data_config/nascentrna: /Users/hannah.spitzer/projects/pelkmans/software_new/campa_ana/NascentRNA_constants.py\n",
      "data_config/testdata: /Users/hannah.spitzer/projects/pelkmans/software_new/campa/tests/_data/TestData_constants.py\n",
      "data_config/exampledata: /Users/hannah.spitzer/projects/pelkmans/software_new/campa/notebooks/params/ExampleData_constants.py\n",
      "\n"
     ]
    }
   ],
   "source": [
    "# save config in non-standard location\n",
    "campa_config.write('params/campa.ini')\n",
    "\n",
    "# read config from non-standard location by setting campa_config.config_fname\n",
    "campa_config.config_fname = 'params/campa.ini'\n",
    "print(campa_config)"
   ]
  },
  {
   "cell_type": "markdown",
   "metadata": {},
   "source": [
    "To follow along with the workflow tutorials, you need to download the example dataset:\n"
   ]
  },
  {
   "cell_type": "code",
   "execution_count": 4,
   "metadata": {},
   "outputs": [
    {
     "name": "stdout",
     "output_type": "stream",
     "text": [
      "Example data downloaded to:  /Users/hannah.spitzer/projects/pelkmans/software_new/campa/notebooks/example_data/raw\n"
     ]
    }
   ],
   "source": [
    "from campa.data import load_example_data\n",
    "\n",
    "example_data_path = load_example_data()\n",
    "print('Example data downloaded to: ', example_data_path)"
   ]
  },
  {
   "cell_type": "markdown",
   "metadata": {},
   "source": [
    "\n",
    "The example data is now stored in your `notebooks/example_data` folder.\n",
    "\n",
    "The data is represented as an [MPPData][MPPData] object. For more information on this class and the data representation on disk see [the tutorial on MPPData](mpp_data.ipynb).\n",
    "\n",
    "[MPPData]: ../classes/campa.data.MPPData.rst\n"
   ]
  }
 ],
 "metadata": {
  "interpreter": {
   "hash": "874fcd6fbbd7997a0a341ba640ecd60060d2386464aa26f9f0c67495deab65ec"
  },
  "kernelspec": {
   "display_name": "Python 3.9.0 ('campa')",
   "language": "python",
   "name": "python3"
  },
  "language_info": {
   "codemirror_mode": {
    "name": "ipython",
    "version": 3
   },
   "file_extension": ".py",
   "mimetype": "text/x-python",
   "name": "python",
   "nbconvert_exporter": "python",
   "pygments_lexer": "ipython3",
   "version": "3.9.0"
  },
  "orig_nbformat": 4
 },
 "nbformat": 4,
 "nbformat_minor": 2
}
