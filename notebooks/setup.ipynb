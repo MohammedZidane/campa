{
 "cells": [
  {
   "cell_type": "markdown",
   "metadata": {},
   "source": [
    "# Setup and download data\n",
    "\n",
    "This notebooks sets up CAMPA and downloads an example dataset to the current folder so you can follow along with the following tutorials. This assumes that you will be running all notebooks from the same folder. If this is not the case, adjust `CAMPA_DIR` accordingly.\n"
   ]
  },
  {
   "cell_type": "code",
   "execution_count": null,
   "metadata": {},
   "outputs": [],
   "source": [
    "from pathlib import Path"
   ]
  },
  {
   "cell_type": "code",
   "execution_count": null,
   "metadata": {},
   "outputs": [],
   "source": [
    "CAMPA_DIR = Path.cwd()\n",
    "print(CAMPA_DIR)"
   ]
  },
  {
   "cell_type": "markdown",
   "metadata": {},
   "source": [
    "Before configuring CAMPA, we need to ensure that all parameter files for configuring the running the different CAMPA steps are present in the `params` subfolder. Note that in general, these files don't need to be in a folder named `params`, but the following tutorials will follow this convention. \n",
    "Let us download the necessary parameter files from the [github repository](https://github.com/theislab/campa/tree/main/notebooks/params)."
   ]
  },
  {
   "cell_type": "code",
   "execution_count": null,
   "metadata": {},
   "outputs": [],
   "source": [
    "import requests\n",
    "\n",
    "r = requests.get(\"https://github.com/kennethreitz/requests/blob/master/README.rst\")\n",
    "r.text()"
   ]
  },
  {
   "cell_type": "markdown",
   "metadata": {},
   "source": [
    "\n",
    "\n",
    "CAMPA has one main config file; `campa.ini`. \n",
    "The [overview](../overview.rst)\n",
    "describes how you can create this config file from the command line, \n",
    "but here we will see how we can create a config from within the campa module using \n",
    "the config file representation [campa.constants.campa_config](../api/campa.constants.campa_config.rst)."
   ]
  },
  {
   "cell_type": "code",
   "execution_count": 1,
   "metadata": {},
   "outputs": [
    {
     "name": "stderr",
     "output_type": "stream",
     "text": [
      "2022-10-28 14:08:27.966034: I tensorflow/core/platform/cpu_feature_guard.cc:193] This TensorFlow binary is optimized with oneAPI Deep Neural Network Library (oneDNN) to use the following CPU instructions in performance-critical operations:  AVX2 AVX512F AVX512_VNNI FMA\n",
      "To enable them in other operations, rebuild TensorFlow with the appropriate compiler flags.\n",
      "2022-10-28 14:08:28.148129: I tensorflow/core/util/util.cc:169] oneDNN custom operations are on. You may see slightly different numerical results due to floating-point round-off errors from different computation orders. To turn them off, set the environment variable `TF_ENABLE_ONEDNN_OPTS=0`.\n",
      "2022-10-28 14:08:28.157973: W tensorflow/stream_executor/platform/default/dso_loader.cc:64] Could not load dynamic library 'libcudart.so.11.0'; dlerror: libcudart.so.11.0: cannot open shared object file: No such file or directory\n",
      "2022-10-28 14:08:28.157988: I tensorflow/stream_executor/cuda/cudart_stub.cc:29] Ignore above cudart dlerror if you do not have a GPU set up on your machine.\n",
      "2022-10-28 14:08:28.192588: E tensorflow/stream_executor/cuda/cuda_blas.cc:2981] Unable to register cuBLAS factory: Attempting to register factory for plugin cuBLAS when one has already been registered\n",
      "2022-10-28 14:08:29.068044: W tensorflow/stream_executor/platform/default/dso_loader.cc:64] Could not load dynamic library 'libnvinfer.so.7'; dlerror: libnvinfer.so.7: cannot open shared object file: No such file or directory\n",
      "2022-10-28 14:08:29.068151: W tensorflow/stream_executor/platform/default/dso_loader.cc:64] Could not load dynamic library 'libnvinfer_plugin.so.7'; dlerror: libnvinfer_plugin.so.7: cannot open shared object file: No such file or directory\n",
      "2022-10-28 14:08:29.068160: W tensorflow/compiler/tf2tensorrt/utils/py_utils.cc:38] TF-TRT Warning: Cannot dlopen some TensorRT libraries. If you would like to use Nvidia GPU with TensorRT, please make sure the missing libraries mentioned above are installed properly.\n"
     ]
    },
    {
     "name": "stdout",
     "output_type": "stream",
     "text": [
      "Reading config from /home/icb/hannah.spitzer/.config/campa/campa.ini\n",
      "CAMPAConfig (fname: /home/icb/hannah.spitzer/.config/campa/campa.ini)\n",
      "EXPERIMENT_DIR: \n",
      "BASE_DATA_DIR: \n",
      "CO_OCC_CHUNK_SIZE: 10000000.0\n",
      "data_config/testdata: /home/icb/hannah.spitzer/projects/pelkmans/software_new/campa/campa/notebooks/params/TestData_constants.py\n",
      "\n"
     ]
    }
   ],
   "source": [
    "from pathlib import Path\n",
    "\n",
    "from campa.constants import campa_config\n",
    "\n",
    "print(campa_config)"
   ]
  },
  {
   "cell_type": "markdown",
   "metadata": {},
   "source": [
    "If you have not yet set up a config, this should look pretty empty. \n",
    "The lines `WARNING: EXPERIMENT_DIR is not initialised` and `WARNING: BASE_DATA_DIR is not initialised` are expected in this case \n",
    "and alert us that we need to set `EXPERIMENT_DIR` and `BASE_DATA_DIR` to that CAMPA knows where experiments and data is stored.\n",
    "\n",
    "Let us set the ``EXPERIMENT_DIR`` and the ``BASE_DATA_DIR``, and add the `ExampleData` data config.\n",
    "Here, we set the data and experiments paths relative the the folder that this notebook is stored in. \n",
    "Note that we assume that this folder contains the `params/ExampleData_constants.py` file."
   ]
  },
  {
   "cell_type": "code",
   "execution_count": 2,
   "metadata": {},
   "outputs": [
    {
     "name": "stdout",
     "output_type": "stream",
     "text": [
      "CAMPAConfig (fname: /home/icb/hannah.spitzer/.config/campa/campa.ini)\n",
      "EXPERIMENT_DIR: /home/icb/hannah.spitzer/projects/pelkmans/software_new/notebooks/example_experiments\n",
      "BASE_DATA_DIR: /home/icb/hannah.spitzer/projects/pelkmans/software_new/notebooks/example_data\n",
      "CO_OCC_CHUNK_SIZE: 10000000.0\n",
      "data_config/testdata: /home/icb/hannah.spitzer/projects/pelkmans/software_new/campa/campa/notebooks/params/TestData_constants.py\n",
      "data_config/exampledata: /home/icb/hannah.spitzer/projects/pelkmans/software_new/notebooks/params/ExampleData_constants.py\n",
      "\n"
     ]
    }
   ],
   "source": [
    "# point to example data folder in which we will download the example data\n",
    "campa_config.BASE_DATA_DIR = CAMPA_DIR / \"example_data\"\n",
    "# experiments will be stored in example_experiments\n",
    "campa_config.EXPERIMENT_DIR = CAMPA_DIR / \"example_experiments\"\n",
    "# add ExampleData data_config\n",
    "campa_config.add_data_config(\"ExampleData\", CAMPA_DIR / \"params/ExampleData_constants.py\")\n",
    "# set CO_OCC_CHUNK_SIZE (a parameter making co-occurrence calculation more memory efficient)\n",
    "campa_config.CO_OCC_CHUNK_SIZE = 1e7\n",
    "\n",
    "print(campa_config)"
   ]
  },
  {
   "cell_type": "markdown",
   "metadata": {},
   "source": [
    "We can now save the config to quickly load it later on. \n",
    "Here, we store the config in the `params` directory in the current folder."
   ]
  },
  {
   "cell_type": "code",
   "execution_count": 3,
   "metadata": {},
   "outputs": [
    {
     "name": "stdout",
     "output_type": "stream",
     "text": [
      "Reading config from params/campa.ini\n"
     ]
    }
   ],
   "source": [
    "# save config in non-standard location\n",
    "campa_config.write(\"params/campa.ini\")"
   ]
  },
  {
   "cell_type": "markdown",
   "metadata": {},
   "source": [
    "\n",
    "By default, campa looks for config files in\n",
    " the current directory and ``$HOME/.config/campa``, but loading a config from any other file is also easy:"
   ]
  },
  {
   "cell_type": "code",
   "execution_count": 4,
   "metadata": {},
   "outputs": [
    {
     "name": "stdout",
     "output_type": "stream",
     "text": [
      "Reading config from params/campa.ini\n",
      "CAMPAConfig (fname: params/campa.ini)\n",
      "EXPERIMENT_DIR: /home/icb/hannah.spitzer/projects/pelkmans/software_new/notebooks/example_experiments\n",
      "BASE_DATA_DIR: /home/icb/hannah.spitzer/projects/pelkmans/software_new/notebooks/example_data\n",
      "CO_OCC_CHUNK_SIZE: 10000000.0\n",
      "data_config/testdata: /home/icb/hannah.spitzer/projects/pelkmans/software_new/campa/campa/notebooks/params/TestData_constants.py\n",
      "data_config/exampledata: /home/icb/hannah.spitzer/projects/pelkmans/software_new/notebooks/params/ExampleData_constants.py\n",
      "\n"
     ]
    }
   ],
   "source": [
    "# read config from non-standard location by setting campa_config.config_fname\n",
    "campa_config.config_fname = \"params/campa.ini\"\n",
    "print(campa_config)"
   ]
  },
  {
   "cell_type": "markdown",
   "metadata": {},
   "source": [
    "To follow along with the workflow tutorials, you need to download the example dataset.\n",
    "\n",
    "Here, we store the example data in the `BASE_DATA_DIR` just configured in the config."
   ]
  },
  {
   "cell_type": "code",
   "execution_count": 5,
   "metadata": {},
   "outputs": [
    {
     "name": "stdout",
     "output_type": "stream",
     "text": [
      "Path or dataset does not yet exist. Attempting to download...\n",
      "{'x-amz-id-2': 'ek/Wyckw4mANMAR5AM3yHizzb2CdVT3/Hyxg9WYldFcgUkUR53NyKPyVY0V/chT35pI9Lnn0ZPs=', 'x-amz-request-id': 'G0V754TZQ3CP5X6H', 'Date': 'Fri, 28 Oct 2022 12:29:35 GMT', 'x-amz-replication-status': 'COMPLETED', 'Last-Modified': 'Fri, 28 Oct 2022 11:44:27 GMT', 'ETag': '\"6300ee9228b5e78480a3a5a540e85730\"', 'x-amz-tagging-count': '1', 'x-amz-server-side-encryption': 'AES256', 'Content-Disposition': 'attachment; filename=\"example_data.zip\"', 'x-amz-version-id': 'WbEd4ye51WteRY2_BZaTchKIFVKkAxuw', 'Accept-Ranges': 'bytes', 'Content-Type': 'application/zip', 'Server': 'AmazonS3', 'Content-Length': '126837954'}\n",
      "attachment; filename=\"example_data.zip\"\n",
      "Guessed filename: example_data.zip\n",
      "Downloading... 126837954\n"
     ]
    },
    {
     "name": "stderr",
     "output_type": "stream",
     "text": [
      "123866it [00:01, 69196.16it/s]\n"
     ]
    },
    {
     "name": "stdout",
     "output_type": "stream",
     "text": [
      "Example data downloaded to:  /home/icb/hannah.spitzer/projects/pelkmans/software_new/notebooks/example_data\n"
     ]
    }
   ],
   "source": [
    "from campa.data import load_example_data\n",
    "\n",
    "example_data_path = load_example_data(Path(campa_config.BASE_DATA_DIR).parent)\n",
    "print(\"Example data downloaded to: \", example_data_path)"
   ]
  },
  {
   "cell_type": "markdown",
   "metadata": {},
   "source": [
    "\n",
    "The example data is now stored in your `campa_config.BASE_DATA_DIR` folder.\n",
    "\n",
    "The data is represented as an [MPPData][MPPData] object. For more information on this class and the data representation on disk see the [Data representation tutorial](mpp_data.ipynb).\n",
    "\n",
    "[MPPData]: ../classes/campa.data.MPPData.rst\n"
   ]
  }
 ],
 "metadata": {
  "kernelspec": {
   "display_name": "Python 3 (ipykernel)",
   "language": "python",
   "name": "python3"
  },
  "language_info": {
   "codemirror_mode": {
    "name": "ipython",
    "version": 3
   },
   "file_extension": ".py",
   "mimetype": "text/x-python",
   "name": "python",
   "nbconvert_exporter": "python",
   "pygments_lexer": "ipython3",
   "version": "3.9.7"
  },
  "vscode": {
   "interpreter": {
    "hash": "baed5587bdf2857a91ba4c9908eee94561fb076fde1a6fb06e1e66a839f3dc76"
   }
  }
 },
 "nbformat": 4,
 "nbformat_minor": 4
}
